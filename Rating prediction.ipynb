{
 "cells": [
  {
   "cell_type": "code",
   "execution_count": 1,
   "metadata": {
    "id": "k8CLPsTpKdpu"
   },
   "outputs": [],
   "source": [
    "import numpy as np\n",
    "import pandas as pd"
   ]
  },
  {
   "cell_type": "code",
   "execution_count": 184,
   "metadata": {},
   "outputs": [],
   "source": [
    "import numpy as np\n",
    "import pandas as pd\n",
    "import matplotlib.pyplot as plt\n",
    "import seaborn as sns\n",
    "\n",
    "%matplotlib inline\n",
    "from sklearn.linear_model import LinearRegression\n",
    "\n",
    "from scipy.stats import f_oneway\n",
    "import statsmodels.api         as     sm\n",
    "from   statsmodels.formula.api import ols\n",
    "\n",
    "import statsmodels.formula.api as smf\n",
    "\n",
    "# supress warnings \n",
    "from warnings import filterwarnings\n",
    "filterwarnings('ignore')"
   ]
  },
  {
   "cell_type": "code",
   "execution_count": 185,
   "metadata": {},
   "outputs": [],
   "source": [
    "# import various functions from sklearn \n",
    "from sklearn import metrics\n",
    "from sklearn.metrics import classification_report\n",
    "from sklearn.tree import DecisionTreeClassifier\n",
    "from sklearn.ensemble import RandomForestClassifier\n",
    "from sklearn import tree\n",
    "from sklearn.model_selection import GridSearchCV\n",
    "from sklearn.metrics import accuracy_score\n",
    "from sklearn.metrics import roc_curve\n",
    "from sklearn.metrics import roc_auc_score\n",
    "from sklearn.metrics import confusion_matrix\n",
    "from sklearn.model_selection import GridSearchCV\n",
    "from sklearn.model_selection import cross_val_score"
   ]
  },
  {
   "cell_type": "code",
   "execution_count": 186,
   "metadata": {},
   "outputs": [],
   "source": [
    "%matplotlib inline\n",
    "import numpy as np\n",
    "import pandas as pd\n",
    "from sklearn.tree import DecisionTreeClassifier\n",
    "from sklearn.ensemble import RandomForestClassifier,GradientBoostingClassifier,AdaBoostClassifier,VotingClassifier,BaggingClassifier\n",
    "from sklearn.ensemble import StackingClassifier\n",
    "from sklearn.preprocessing import StandardScaler\n",
    "from sklearn.naive_bayes import GaussianNB\n",
    "from sklearn import model_selection\n",
    "from sklearn import metrics\n",
    "#from sklearn.decomposition import PCA\n",
    "from scipy.stats import zscore\n",
    "import matplotlib.pyplot as plt \n",
    "from sklearn.linear_model import LogisticRegression\n",
    "import warnings\n",
    "warnings.filterwarnings('ignore')\n",
    "import seaborn as sns"
   ]
  },
  {
   "cell_type": "code",
   "execution_count": 7,
   "metadata": {},
   "outputs": [],
   "source": [
    "#Loading the necessary libraries\n",
    "import numpy as np # linear algebra\n",
    "import pandas as pd # data processing, CSV file I/O (e.g. pd.read_csv)\n",
    "\n",
    "# import os\n",
    "# os.chdir(\"C:\\\\Users\\\\DILIP\\\\Downloads\")\n",
    "\n",
    "import matplotlib.pyplot as plt\n",
    "import seaborn as sns\n",
    "\n",
    "from sklearn import preprocessing\n",
    "from sklearn.linear_model import LogisticRegression\n",
    "from sklearn.model_selection import train_test_split\n",
    "import statsmodels.api as sm\n",
    "from sklearn import metrics\n",
    "from sklearn.metrics import confusion_matrix, classification_report "
   ]
  },
  {
   "cell_type": "code",
   "execution_count": null,
   "metadata": {},
   "outputs": [],
   "source": []
  },
  {
   "cell_type": "code",
   "execution_count": null,
   "metadata": {},
   "outputs": [],
   "source": []
  },
  {
   "cell_type": "code",
   "execution_count": 2,
   "metadata": {
    "id": "zZU4SC_SKdpx"
   },
   "outputs": [],
   "source": [
    "olist_customers_dataset = pd.read_csv('olist_customers_dataset.csv')\n",
    "olist_geolocation_dataset = pd.read_csv('olist_geolocation_dataset.csv')\n",
    "olist_order_items_dataset = pd.read_csv('olist_order_items_dataset.csv',engine='python')\n",
    "olist_order_payments_dataset = pd.read_csv('olist_order_payments_dataset.csv')\n",
    "olist_order_reviews_dataset = pd.read_csv('olist_order_reviews_dataset.csv')\n",
    "olist_orders_dataset = pd.read_csv('olist_orders_dataset.csv')\n",
    "olist_products_dataset = pd.read_csv('olist_products_dataset.csv')\n",
    "olist_sellers_dataset = pd.read_csv('olist_sellers_dataset.csv')\n",
    "product_category_name_translation = pd.read_csv('product_category_name_translation.csv')"
   ]
  },
  {
   "cell_type": "code",
   "execution_count": 4,
   "metadata": {
    "colab": {
     "base_uri": "https://localhost:8080/",
     "height": 106
    },
    "executionInfo": {
     "elapsed": 761,
     "status": "ok",
     "timestamp": 1628574461778,
     "user": {
      "displayName": "raghav verma",
      "photoUrl": "https://lh3.googleusercontent.com/a-/AOh14GhkD3JSxEmymvRDBBLHWxtPj3TzqOs1cPtEj4IYUQ=s64",
      "userId": "04994909679565212406"
     },
     "user_tz": -330
    },
    "id": "oM03-DIfKdpy",
    "outputId": "b14de493-d714-4365-fbb7-3a0689617db5"
   },
   "outputs": [
    {
     "data": {
      "text/html": [
       "<div>\n",
       "<style scoped>\n",
       "    .dataframe tbody tr th:only-of-type {\n",
       "        vertical-align: middle;\n",
       "    }\n",
       "\n",
       "    .dataframe tbody tr th {\n",
       "        vertical-align: top;\n",
       "    }\n",
       "\n",
       "    .dataframe thead th {\n",
       "        text-align: right;\n",
       "    }\n",
       "</style>\n",
       "<table border=\"1\" class=\"dataframe\">\n",
       "  <thead>\n",
       "    <tr style=\"text-align: right;\">\n",
       "      <th></th>\n",
       "      <th>customer_id</th>\n",
       "      <th>customer_unique_id</th>\n",
       "      <th>customer_zip_code_prefix</th>\n",
       "      <th>customer_city</th>\n",
       "      <th>customer_state</th>\n",
       "    </tr>\n",
       "  </thead>\n",
       "  <tbody>\n",
       "    <tr>\n",
       "      <th>0</th>\n",
       "      <td>06b8999e2fba1a1fbc88172c00ba8bc7</td>\n",
       "      <td>861eff4711a542e4b93843c6dd7febb0</td>\n",
       "      <td>14409</td>\n",
       "      <td>franca</td>\n",
       "      <td>SP</td>\n",
       "    </tr>\n",
       "    <tr>\n",
       "      <th>1</th>\n",
       "      <td>18955e83d337fd6b2def6b18a428ac77</td>\n",
       "      <td>290c77bc529b7ac935b93aa66c333dc3</td>\n",
       "      <td>9790</td>\n",
       "      <td>sao bernardo do campo</td>\n",
       "      <td>SP</td>\n",
       "    </tr>\n",
       "  </tbody>\n",
       "</table>\n",
       "</div>"
      ],
      "text/plain": [
       "                        customer_id                customer_unique_id  \\\n",
       "0  06b8999e2fba1a1fbc88172c00ba8bc7  861eff4711a542e4b93843c6dd7febb0   \n",
       "1  18955e83d337fd6b2def6b18a428ac77  290c77bc529b7ac935b93aa66c333dc3   \n",
       "\n",
       "   customer_zip_code_prefix          customer_city customer_state  \n",
       "0                     14409                 franca             SP  \n",
       "1                      9790  sao bernardo do campo             SP  "
      ]
     },
     "execution_count": 4,
     "metadata": {},
     "output_type": "execute_result"
    }
   ],
   "source": [
    "olist_customers_dataset.head(2)"
   ]
  },
  {
   "cell_type": "code",
   "execution_count": 5,
   "metadata": {
    "id": "IBjXak4-Kdpz"
   },
   "outputs": [],
   "source": [
    "#renaming zipcode for merging\n",
    "olist_customers_dataset = olist_customers_dataset.rename(columns={'customer_zip_code_prefix':'zip_code'})"
   ]
  },
  {
   "cell_type": "code",
   "execution_count": 9,
   "metadata": {
    "colab": {
     "base_uri": "https://localhost:8080/",
     "height": 106
    },
    "executionInfo": {
     "elapsed": 775,
     "status": "ok",
     "timestamp": 1628574517865,
     "user": {
      "displayName": "raghav verma",
      "photoUrl": "https://lh3.googleusercontent.com/a-/AOh14GhkD3JSxEmymvRDBBLHWxtPj3TzqOs1cPtEj4IYUQ=s64",
      "userId": "04994909679565212406"
     },
     "user_tz": -330
    },
    "id": "4_bpL0AFKdp0",
    "outputId": "bbf9ba1b-ccda-4b08-f461-3223c25736f3"
   },
   "outputs": [
    {
     "data": {
      "text/html": [
       "<div>\n",
       "<style scoped>\n",
       "    .dataframe tbody tr th:only-of-type {\n",
       "        vertical-align: middle;\n",
       "    }\n",
       "\n",
       "    .dataframe tbody tr th {\n",
       "        vertical-align: top;\n",
       "    }\n",
       "\n",
       "    .dataframe thead th {\n",
       "        text-align: right;\n",
       "    }\n",
       "</style>\n",
       "<table border=\"1\" class=\"dataframe\">\n",
       "  <thead>\n",
       "    <tr style=\"text-align: right;\">\n",
       "      <th></th>\n",
       "      <th>customer_id</th>\n",
       "      <th>customer_unique_id</th>\n",
       "      <th>zip_code</th>\n",
       "      <th>customer_city</th>\n",
       "      <th>customer_state</th>\n",
       "    </tr>\n",
       "  </thead>\n",
       "  <tbody>\n",
       "    <tr>\n",
       "      <th>0</th>\n",
       "      <td>06b8999e2fba1a1fbc88172c00ba8bc7</td>\n",
       "      <td>861eff4711a542e4b93843c6dd7febb0</td>\n",
       "      <td>14409</td>\n",
       "      <td>franca</td>\n",
       "      <td>SP</td>\n",
       "    </tr>\n",
       "    <tr>\n",
       "      <th>1</th>\n",
       "      <td>18955e83d337fd6b2def6b18a428ac77</td>\n",
       "      <td>290c77bc529b7ac935b93aa66c333dc3</td>\n",
       "      <td>9790</td>\n",
       "      <td>sao bernardo do campo</td>\n",
       "      <td>SP</td>\n",
       "    </tr>\n",
       "  </tbody>\n",
       "</table>\n",
       "</div>"
      ],
      "text/plain": [
       "                        customer_id                customer_unique_id  \\\n",
       "0  06b8999e2fba1a1fbc88172c00ba8bc7  861eff4711a542e4b93843c6dd7febb0   \n",
       "1  18955e83d337fd6b2def6b18a428ac77  290c77bc529b7ac935b93aa66c333dc3   \n",
       "\n",
       "   zip_code          customer_city customer_state  \n",
       "0     14409                 franca             SP  \n",
       "1      9790  sao bernardo do campo             SP  "
      ]
     },
     "execution_count": 9,
     "metadata": {},
     "output_type": "execute_result"
    }
   ],
   "source": [
    "olist_customers_dataset.head(2)"
   ]
  },
  {
   "cell_type": "code",
   "execution_count": 10,
   "metadata": {
    "colab": {
     "base_uri": "https://localhost:8080/",
     "height": 106
    },
    "executionInfo": {
     "elapsed": 24,
     "status": "ok",
     "timestamp": 1628574517868,
     "user": {
      "displayName": "raghav verma",
      "photoUrl": "https://lh3.googleusercontent.com/a-/AOh14GhkD3JSxEmymvRDBBLHWxtPj3TzqOs1cPtEj4IYUQ=s64",
      "userId": "04994909679565212406"
     },
     "user_tz": -330
    },
    "id": "PZUcIV8VKdp0",
    "outputId": "403899af-b499-4140-d680-edbb96161260"
   },
   "outputs": [
    {
     "data": {
      "text/html": [
       "<div>\n",
       "<style scoped>\n",
       "    .dataframe tbody tr th:only-of-type {\n",
       "        vertical-align: middle;\n",
       "    }\n",
       "\n",
       "    .dataframe tbody tr th {\n",
       "        vertical-align: top;\n",
       "    }\n",
       "\n",
       "    .dataframe thead th {\n",
       "        text-align: right;\n",
       "    }\n",
       "</style>\n",
       "<table border=\"1\" class=\"dataframe\">\n",
       "  <thead>\n",
       "    <tr style=\"text-align: right;\">\n",
       "      <th></th>\n",
       "      <th>geolocation_zip_code_prefix</th>\n",
       "      <th>geolocation_lat</th>\n",
       "      <th>geolocation_lng</th>\n",
       "      <th>geolocation_city</th>\n",
       "      <th>geolocation_state</th>\n",
       "    </tr>\n",
       "  </thead>\n",
       "  <tbody>\n",
       "    <tr>\n",
       "      <th>0</th>\n",
       "      <td>1037</td>\n",
       "      <td>-23.545621</td>\n",
       "      <td>-46.639292</td>\n",
       "      <td>sao paulo</td>\n",
       "      <td>SP</td>\n",
       "    </tr>\n",
       "    <tr>\n",
       "      <th>1</th>\n",
       "      <td>1046</td>\n",
       "      <td>-23.546081</td>\n",
       "      <td>-46.644820</td>\n",
       "      <td>sao paulo</td>\n",
       "      <td>SP</td>\n",
       "    </tr>\n",
       "  </tbody>\n",
       "</table>\n",
       "</div>"
      ],
      "text/plain": [
       "   geolocation_zip_code_prefix  geolocation_lat  geolocation_lng  \\\n",
       "0                         1037       -23.545621       -46.639292   \n",
       "1                         1046       -23.546081       -46.644820   \n",
       "\n",
       "  geolocation_city geolocation_state  \n",
       "0        sao paulo                SP  \n",
       "1        sao paulo                SP  "
      ]
     },
     "execution_count": 10,
     "metadata": {},
     "output_type": "execute_result"
    }
   ],
   "source": [
    "olist_geolocation_dataset.head(2)"
   ]
  },
  {
   "cell_type": "code",
   "execution_count": 11,
   "metadata": {
    "id": "xiIytfKxKdp1"
   },
   "outputs": [],
   "source": [
    "#renaming zipcode for merging\n",
    "olist_geolocation_dataset = olist_geolocation_dataset.rename(columns={'geolocation_zip_code_prefix':'zip_code'})"
   ]
  },
  {
   "cell_type": "code",
   "execution_count": 12,
   "metadata": {
    "colab": {
     "base_uri": "https://localhost:8080/",
     "height": 106
    },
    "executionInfo": {
     "elapsed": 28,
     "status": "ok",
     "timestamp": 1628574518515,
     "user": {
      "displayName": "raghav verma",
      "photoUrl": "https://lh3.googleusercontent.com/a-/AOh14GhkD3JSxEmymvRDBBLHWxtPj3TzqOs1cPtEj4IYUQ=s64",
      "userId": "04994909679565212406"
     },
     "user_tz": -330
    },
    "id": "abvQFy6hKdp1",
    "outputId": "7192c2ef-c457-41af-e1d4-6fc0320e9a44"
   },
   "outputs": [
    {
     "data": {
      "text/html": [
       "<div>\n",
       "<style scoped>\n",
       "    .dataframe tbody tr th:only-of-type {\n",
       "        vertical-align: middle;\n",
       "    }\n",
       "\n",
       "    .dataframe tbody tr th {\n",
       "        vertical-align: top;\n",
       "    }\n",
       "\n",
       "    .dataframe thead th {\n",
       "        text-align: right;\n",
       "    }\n",
       "</style>\n",
       "<table border=\"1\" class=\"dataframe\">\n",
       "  <thead>\n",
       "    <tr style=\"text-align: right;\">\n",
       "      <th></th>\n",
       "      <th>zip_code</th>\n",
       "      <th>geolocation_lat</th>\n",
       "      <th>geolocation_lng</th>\n",
       "      <th>geolocation_city</th>\n",
       "      <th>geolocation_state</th>\n",
       "    </tr>\n",
       "  </thead>\n",
       "  <tbody>\n",
       "    <tr>\n",
       "      <th>0</th>\n",
       "      <td>1037</td>\n",
       "      <td>-23.545621</td>\n",
       "      <td>-46.639292</td>\n",
       "      <td>sao paulo</td>\n",
       "      <td>SP</td>\n",
       "    </tr>\n",
       "    <tr>\n",
       "      <th>1</th>\n",
       "      <td>1046</td>\n",
       "      <td>-23.546081</td>\n",
       "      <td>-46.644820</td>\n",
       "      <td>sao paulo</td>\n",
       "      <td>SP</td>\n",
       "    </tr>\n",
       "  </tbody>\n",
       "</table>\n",
       "</div>"
      ],
      "text/plain": [
       "   zip_code  geolocation_lat  geolocation_lng geolocation_city  \\\n",
       "0      1037       -23.545621       -46.639292        sao paulo   \n",
       "1      1046       -23.546081       -46.644820        sao paulo   \n",
       "\n",
       "  geolocation_state  \n",
       "0                SP  \n",
       "1                SP  "
      ]
     },
     "execution_count": 12,
     "metadata": {},
     "output_type": "execute_result"
    }
   ],
   "source": [
    "olist_geolocation_dataset.head(2)"
   ]
  },
  {
   "cell_type": "code",
   "execution_count": 13,
   "metadata": {
    "colab": {
     "base_uri": "https://localhost:8080/",
     "height": 126
    },
    "executionInfo": {
     "elapsed": 26,
     "status": "ok",
     "timestamp": 1628574518516,
     "user": {
      "displayName": "raghav verma",
      "photoUrl": "https://lh3.googleusercontent.com/a-/AOh14GhkD3JSxEmymvRDBBLHWxtPj3TzqOs1cPtEj4IYUQ=s64",
      "userId": "04994909679565212406"
     },
     "user_tz": -330
    },
    "id": "Vgqdq9fFKdp1",
    "outputId": "345d0aa5-2fbc-40da-c53c-4cc1e0641204"
   },
   "outputs": [
    {
     "data": {
      "text/html": [
       "<div>\n",
       "<style scoped>\n",
       "    .dataframe tbody tr th:only-of-type {\n",
       "        vertical-align: middle;\n",
       "    }\n",
       "\n",
       "    .dataframe tbody tr th {\n",
       "        vertical-align: top;\n",
       "    }\n",
       "\n",
       "    .dataframe thead th {\n",
       "        text-align: right;\n",
       "    }\n",
       "</style>\n",
       "<table border=\"1\" class=\"dataframe\">\n",
       "  <thead>\n",
       "    <tr style=\"text-align: right;\">\n",
       "      <th></th>\n",
       "      <th>order_id</th>\n",
       "      <th>order_item_id</th>\n",
       "      <th>product_id</th>\n",
       "      <th>seller_id</th>\n",
       "      <th>shipping_limit_date</th>\n",
       "      <th>price</th>\n",
       "      <th>freight_value</th>\n",
       "    </tr>\n",
       "  </thead>\n",
       "  <tbody>\n",
       "    <tr>\n",
       "      <th>0</th>\n",
       "      <td>00010242fe8c5a6d1ba2dd792cb16214</td>\n",
       "      <td>1</td>\n",
       "      <td>4244733e06e7ecb4970a6e2683c13e61</td>\n",
       "      <td>48436dade18ac8b2bce089ec2a041202</td>\n",
       "      <td>19-09-2017 09:45</td>\n",
       "      <td>58.9</td>\n",
       "      <td>13.29</td>\n",
       "    </tr>\n",
       "    <tr>\n",
       "      <th>1</th>\n",
       "      <td>00018f77f2f0320c557190d7a144bdd3</td>\n",
       "      <td>1</td>\n",
       "      <td>e5f2d52b802189ee658865ca93d83a8f</td>\n",
       "      <td>dd7ddc04e1b6c2c614352b383efe2d36</td>\n",
       "      <td>03-05-2017 11:05</td>\n",
       "      <td>239.9</td>\n",
       "      <td>19.93</td>\n",
       "    </tr>\n",
       "  </tbody>\n",
       "</table>\n",
       "</div>"
      ],
      "text/plain": [
       "                           order_id  order_item_id  \\\n",
       "0  00010242fe8c5a6d1ba2dd792cb16214              1   \n",
       "1  00018f77f2f0320c557190d7a144bdd3              1   \n",
       "\n",
       "                         product_id                         seller_id  \\\n",
       "0  4244733e06e7ecb4970a6e2683c13e61  48436dade18ac8b2bce089ec2a041202   \n",
       "1  e5f2d52b802189ee658865ca93d83a8f  dd7ddc04e1b6c2c614352b383efe2d36   \n",
       "\n",
       "  shipping_limit_date  price  freight_value  \n",
       "0    19-09-2017 09:45   58.9          13.29  \n",
       "1    03-05-2017 11:05  239.9          19.93  "
      ]
     },
     "execution_count": 13,
     "metadata": {},
     "output_type": "execute_result"
    }
   ],
   "source": [
    "olist_order_items_dataset.head(2)"
   ]
  },
  {
   "cell_type": "code",
   "execution_count": 14,
   "metadata": {
    "colab": {
     "base_uri": "https://localhost:8080/",
     "height": 106
    },
    "executionInfo": {
     "elapsed": 25,
     "status": "ok",
     "timestamp": 1628574518517,
     "user": {
      "displayName": "raghav verma",
      "photoUrl": "https://lh3.googleusercontent.com/a-/AOh14GhkD3JSxEmymvRDBBLHWxtPj3TzqOs1cPtEj4IYUQ=s64",
      "userId": "04994909679565212406"
     },
     "user_tz": -330
    },
    "id": "Cm3FLC7JKdp2",
    "outputId": "02e2c0c7-5451-43b8-937d-ddc0a75c25c5"
   },
   "outputs": [
    {
     "data": {
      "text/html": [
       "<div>\n",
       "<style scoped>\n",
       "    .dataframe tbody tr th:only-of-type {\n",
       "        vertical-align: middle;\n",
       "    }\n",
       "\n",
       "    .dataframe tbody tr th {\n",
       "        vertical-align: top;\n",
       "    }\n",
       "\n",
       "    .dataframe thead th {\n",
       "        text-align: right;\n",
       "    }\n",
       "</style>\n",
       "<table border=\"1\" class=\"dataframe\">\n",
       "  <thead>\n",
       "    <tr style=\"text-align: right;\">\n",
       "      <th></th>\n",
       "      <th>order_id</th>\n",
       "      <th>payment_sequential</th>\n",
       "      <th>payment_type</th>\n",
       "      <th>payment_installments</th>\n",
       "      <th>payment_value</th>\n",
       "    </tr>\n",
       "  </thead>\n",
       "  <tbody>\n",
       "    <tr>\n",
       "      <th>0</th>\n",
       "      <td>b81ef226f3fe1789b1e8b2acac839d17</td>\n",
       "      <td>1</td>\n",
       "      <td>credit_card</td>\n",
       "      <td>8</td>\n",
       "      <td>99.33</td>\n",
       "    </tr>\n",
       "    <tr>\n",
       "      <th>1</th>\n",
       "      <td>a9810da82917af2d9aefd1278f1dcfa0</td>\n",
       "      <td>1</td>\n",
       "      <td>credit_card</td>\n",
       "      <td>1</td>\n",
       "      <td>24.39</td>\n",
       "    </tr>\n",
       "  </tbody>\n",
       "</table>\n",
       "</div>"
      ],
      "text/plain": [
       "                           order_id  payment_sequential payment_type  \\\n",
       "0  b81ef226f3fe1789b1e8b2acac839d17                   1  credit_card   \n",
       "1  a9810da82917af2d9aefd1278f1dcfa0                   1  credit_card   \n",
       "\n",
       "   payment_installments  payment_value  \n",
       "0                     8          99.33  \n",
       "1                     1          24.39  "
      ]
     },
     "execution_count": 14,
     "metadata": {},
     "output_type": "execute_result"
    }
   ],
   "source": [
    "olist_order_payments_dataset.head(2)"
   ]
  },
  {
   "cell_type": "code",
   "execution_count": 15,
   "metadata": {
    "colab": {
     "base_uri": "https://localhost:8080/",
     "height": 126
    },
    "executionInfo": {
     "elapsed": 33,
     "status": "ok",
     "timestamp": 1628574519108,
     "user": {
      "displayName": "raghav verma",
      "photoUrl": "https://lh3.googleusercontent.com/a-/AOh14GhkD3JSxEmymvRDBBLHWxtPj3TzqOs1cPtEj4IYUQ=s64",
      "userId": "04994909679565212406"
     },
     "user_tz": -330
    },
    "id": "LJayGRKxKdp2",
    "outputId": "70691e89-d1a2-4085-a684-053e298db9b9"
   },
   "outputs": [
    {
     "data": {
      "text/html": [
       "<div>\n",
       "<style scoped>\n",
       "    .dataframe tbody tr th:only-of-type {\n",
       "        vertical-align: middle;\n",
       "    }\n",
       "\n",
       "    .dataframe tbody tr th {\n",
       "        vertical-align: top;\n",
       "    }\n",
       "\n",
       "    .dataframe thead th {\n",
       "        text-align: right;\n",
       "    }\n",
       "</style>\n",
       "<table border=\"1\" class=\"dataframe\">\n",
       "  <thead>\n",
       "    <tr style=\"text-align: right;\">\n",
       "      <th></th>\n",
       "      <th>review_id</th>\n",
       "      <th>order_id</th>\n",
       "      <th>review_score</th>\n",
       "      <th>review_comment_title</th>\n",
       "      <th>review_comment_message</th>\n",
       "      <th>review_creation_date</th>\n",
       "      <th>review_answer_timestamp</th>\n",
       "    </tr>\n",
       "  </thead>\n",
       "  <tbody>\n",
       "    <tr>\n",
       "      <th>0</th>\n",
       "      <td>7bc2406110b926393aa56f80a40eba40</td>\n",
       "      <td>73fc7af87114b39712e6da79b0a377eb</td>\n",
       "      <td>4</td>\n",
       "      <td>NaN</td>\n",
       "      <td>NaN</td>\n",
       "      <td>18-01-2018 00:00</td>\n",
       "      <td>18-01-2018 21:46</td>\n",
       "    </tr>\n",
       "    <tr>\n",
       "      <th>1</th>\n",
       "      <td>80e641a11e56f04c1ad469d5645fdfde</td>\n",
       "      <td>a548910a1c6147796b98fdf73dbeba33</td>\n",
       "      <td>5</td>\n",
       "      <td>NaN</td>\n",
       "      <td>NaN</td>\n",
       "      <td>10-03-2018 00:00</td>\n",
       "      <td>11-03-2018 03:05</td>\n",
       "    </tr>\n",
       "  </tbody>\n",
       "</table>\n",
       "</div>"
      ],
      "text/plain": [
       "                          review_id                          order_id  \\\n",
       "0  7bc2406110b926393aa56f80a40eba40  73fc7af87114b39712e6da79b0a377eb   \n",
       "1  80e641a11e56f04c1ad469d5645fdfde  a548910a1c6147796b98fdf73dbeba33   \n",
       "\n",
       "   review_score review_comment_title review_comment_message  \\\n",
       "0             4                  NaN                    NaN   \n",
       "1             5                  NaN                    NaN   \n",
       "\n",
       "  review_creation_date review_answer_timestamp  \n",
       "0     18-01-2018 00:00        18-01-2018 21:46  \n",
       "1     10-03-2018 00:00        11-03-2018 03:05  "
      ]
     },
     "execution_count": 15,
     "metadata": {},
     "output_type": "execute_result"
    }
   ],
   "source": [
    "olist_order_reviews_dataset.head(2)"
   ]
  },
  {
   "cell_type": "code",
   "execution_count": 16,
   "metadata": {
    "colab": {
     "base_uri": "https://localhost:8080/",
     "height": 126
    },
    "executionInfo": {
     "elapsed": 32,
     "status": "ok",
     "timestamp": 1628574519110,
     "user": {
      "displayName": "raghav verma",
      "photoUrl": "https://lh3.googleusercontent.com/a-/AOh14GhkD3JSxEmymvRDBBLHWxtPj3TzqOs1cPtEj4IYUQ=s64",
      "userId": "04994909679565212406"
     },
     "user_tz": -330
    },
    "id": "ws1wwOvnKdp3",
    "outputId": "17f84bc5-d84c-4cd5-eebf-76bbfc1e3fb0"
   },
   "outputs": [
    {
     "data": {
      "text/html": [
       "<div>\n",
       "<style scoped>\n",
       "    .dataframe tbody tr th:only-of-type {\n",
       "        vertical-align: middle;\n",
       "    }\n",
       "\n",
       "    .dataframe tbody tr th {\n",
       "        vertical-align: top;\n",
       "    }\n",
       "\n",
       "    .dataframe thead th {\n",
       "        text-align: right;\n",
       "    }\n",
       "</style>\n",
       "<table border=\"1\" class=\"dataframe\">\n",
       "  <thead>\n",
       "    <tr style=\"text-align: right;\">\n",
       "      <th></th>\n",
       "      <th>order_id</th>\n",
       "      <th>customer_id</th>\n",
       "      <th>order_status</th>\n",
       "      <th>order_purchase_timestamp</th>\n",
       "      <th>order_approved_at</th>\n",
       "      <th>order_delivered_carrier_date</th>\n",
       "      <th>order_delivered_customer_date</th>\n",
       "      <th>order_estimated_delivery_date</th>\n",
       "    </tr>\n",
       "  </thead>\n",
       "  <tbody>\n",
       "    <tr>\n",
       "      <th>0</th>\n",
       "      <td>e481f51cbdc54678b7cc49136f2d6af7</td>\n",
       "      <td>9ef432eb6251297304e76186b10a928d</td>\n",
       "      <td>delivered</td>\n",
       "      <td>2017-10-02 10:56:33</td>\n",
       "      <td>2017-10-02 11:07:15</td>\n",
       "      <td>2017-10-04 19:55:00</td>\n",
       "      <td>2017-10-10 21:25:13</td>\n",
       "      <td>2017-10-18 00:00:00</td>\n",
       "    </tr>\n",
       "    <tr>\n",
       "      <th>1</th>\n",
       "      <td>53cdb2fc8bc7dce0b6741e2150273451</td>\n",
       "      <td>b0830fb4747a6c6d20dea0b8c802d7ef</td>\n",
       "      <td>delivered</td>\n",
       "      <td>2018-07-24 20:41:37</td>\n",
       "      <td>2018-07-26 03:24:27</td>\n",
       "      <td>2018-07-26 14:31:00</td>\n",
       "      <td>2018-08-07 15:27:45</td>\n",
       "      <td>2018-08-13 00:00:00</td>\n",
       "    </tr>\n",
       "  </tbody>\n",
       "</table>\n",
       "</div>"
      ],
      "text/plain": [
       "                           order_id                       customer_id  \\\n",
       "0  e481f51cbdc54678b7cc49136f2d6af7  9ef432eb6251297304e76186b10a928d   \n",
       "1  53cdb2fc8bc7dce0b6741e2150273451  b0830fb4747a6c6d20dea0b8c802d7ef   \n",
       "\n",
       "  order_status order_purchase_timestamp    order_approved_at  \\\n",
       "0    delivered      2017-10-02 10:56:33  2017-10-02 11:07:15   \n",
       "1    delivered      2018-07-24 20:41:37  2018-07-26 03:24:27   \n",
       "\n",
       "  order_delivered_carrier_date order_delivered_customer_date  \\\n",
       "0          2017-10-04 19:55:00           2017-10-10 21:25:13   \n",
       "1          2018-07-26 14:31:00           2018-08-07 15:27:45   \n",
       "\n",
       "  order_estimated_delivery_date  \n",
       "0           2017-10-18 00:00:00  \n",
       "1           2018-08-13 00:00:00  "
      ]
     },
     "execution_count": 16,
     "metadata": {},
     "output_type": "execute_result"
    }
   ],
   "source": [
    "olist_orders_dataset.head(2)"
   ]
  },
  {
   "cell_type": "code",
   "execution_count": 17,
   "metadata": {
    "colab": {
     "base_uri": "https://localhost:8080/",
     "height": 126
    },
    "executionInfo": {
     "elapsed": 33,
     "status": "ok",
     "timestamp": 1628574519112,
     "user": {
      "displayName": "raghav verma",
      "photoUrl": "https://lh3.googleusercontent.com/a-/AOh14GhkD3JSxEmymvRDBBLHWxtPj3TzqOs1cPtEj4IYUQ=s64",
      "userId": "04994909679565212406"
     },
     "user_tz": -330
    },
    "id": "03B3i1FPKdp3",
    "outputId": "eadc5259-9f20-4e8b-f4a9-341e0283cf90"
   },
   "outputs": [
    {
     "data": {
      "text/html": [
       "<div>\n",
       "<style scoped>\n",
       "    .dataframe tbody tr th:only-of-type {\n",
       "        vertical-align: middle;\n",
       "    }\n",
       "\n",
       "    .dataframe tbody tr th {\n",
       "        vertical-align: top;\n",
       "    }\n",
       "\n",
       "    .dataframe thead th {\n",
       "        text-align: right;\n",
       "    }\n",
       "</style>\n",
       "<table border=\"1\" class=\"dataframe\">\n",
       "  <thead>\n",
       "    <tr style=\"text-align: right;\">\n",
       "      <th></th>\n",
       "      <th>product_id</th>\n",
       "      <th>product_category_name</th>\n",
       "      <th>product_name_lenght</th>\n",
       "      <th>product_description_lenght</th>\n",
       "      <th>product_photos_qty</th>\n",
       "      <th>product_weight_g</th>\n",
       "      <th>product_length_cm</th>\n",
       "      <th>product_height_cm</th>\n",
       "      <th>product_width_cm</th>\n",
       "    </tr>\n",
       "  </thead>\n",
       "  <tbody>\n",
       "    <tr>\n",
       "      <th>0</th>\n",
       "      <td>1e9e8ef04dbcff4541ed26657ea517e5</td>\n",
       "      <td>perfumaria</td>\n",
       "      <td>40.0</td>\n",
       "      <td>287.0</td>\n",
       "      <td>1.0</td>\n",
       "      <td>225.0</td>\n",
       "      <td>16.0</td>\n",
       "      <td>10.0</td>\n",
       "      <td>14.0</td>\n",
       "    </tr>\n",
       "    <tr>\n",
       "      <th>1</th>\n",
       "      <td>3aa071139cb16b67ca9e5dea641aaa2f</td>\n",
       "      <td>artes</td>\n",
       "      <td>44.0</td>\n",
       "      <td>276.0</td>\n",
       "      <td>1.0</td>\n",
       "      <td>1000.0</td>\n",
       "      <td>30.0</td>\n",
       "      <td>18.0</td>\n",
       "      <td>20.0</td>\n",
       "    </tr>\n",
       "  </tbody>\n",
       "</table>\n",
       "</div>"
      ],
      "text/plain": [
       "                         product_id product_category_name  \\\n",
       "0  1e9e8ef04dbcff4541ed26657ea517e5            perfumaria   \n",
       "1  3aa071139cb16b67ca9e5dea641aaa2f                 artes   \n",
       "\n",
       "   product_name_lenght  product_description_lenght  product_photos_qty  \\\n",
       "0                 40.0                       287.0                 1.0   \n",
       "1                 44.0                       276.0                 1.0   \n",
       "\n",
       "   product_weight_g  product_length_cm  product_height_cm  product_width_cm  \n",
       "0             225.0               16.0               10.0              14.0  \n",
       "1            1000.0               30.0               18.0              20.0  "
      ]
     },
     "execution_count": 17,
     "metadata": {},
     "output_type": "execute_result"
    }
   ],
   "source": [
    "olist_products_dataset.head(2)"
   ]
  },
  {
   "cell_type": "code",
   "execution_count": 18,
   "metadata": {
    "colab": {
     "base_uri": "https://localhost:8080/",
     "height": 106
    },
    "executionInfo": {
     "elapsed": 37,
     "status": "ok",
     "timestamp": 1628574519118,
     "user": {
      "displayName": "raghav verma",
      "photoUrl": "https://lh3.googleusercontent.com/a-/AOh14GhkD3JSxEmymvRDBBLHWxtPj3TzqOs1cPtEj4IYUQ=s64",
      "userId": "04994909679565212406"
     },
     "user_tz": -330
    },
    "id": "xbFyp2TDKdp3",
    "outputId": "3276af4f-7d4e-4d7e-eaac-96a9c4d9477e"
   },
   "outputs": [
    {
     "data": {
      "text/html": [
       "<div>\n",
       "<style scoped>\n",
       "    .dataframe tbody tr th:only-of-type {\n",
       "        vertical-align: middle;\n",
       "    }\n",
       "\n",
       "    .dataframe tbody tr th {\n",
       "        vertical-align: top;\n",
       "    }\n",
       "\n",
       "    .dataframe thead th {\n",
       "        text-align: right;\n",
       "    }\n",
       "</style>\n",
       "<table border=\"1\" class=\"dataframe\">\n",
       "  <thead>\n",
       "    <tr style=\"text-align: right;\">\n",
       "      <th></th>\n",
       "      <th>seller_id</th>\n",
       "      <th>seller_zip_code_prefix</th>\n",
       "      <th>seller_city</th>\n",
       "      <th>seller_state</th>\n",
       "    </tr>\n",
       "  </thead>\n",
       "  <tbody>\n",
       "    <tr>\n",
       "      <th>0</th>\n",
       "      <td>3442f8959a84dea7ee197c632cb2df15</td>\n",
       "      <td>13023</td>\n",
       "      <td>campinas</td>\n",
       "      <td>SP</td>\n",
       "    </tr>\n",
       "    <tr>\n",
       "      <th>1</th>\n",
       "      <td>d1b65fc7debc3361ea86b5f14c68d2e2</td>\n",
       "      <td>13844</td>\n",
       "      <td>mogi guacu</td>\n",
       "      <td>SP</td>\n",
       "    </tr>\n",
       "  </tbody>\n",
       "</table>\n",
       "</div>"
      ],
      "text/plain": [
       "                          seller_id  seller_zip_code_prefix seller_city  \\\n",
       "0  3442f8959a84dea7ee197c632cb2df15                   13023    campinas   \n",
       "1  d1b65fc7debc3361ea86b5f14c68d2e2                   13844  mogi guacu   \n",
       "\n",
       "  seller_state  \n",
       "0           SP  \n",
       "1           SP  "
      ]
     },
     "execution_count": 18,
     "metadata": {},
     "output_type": "execute_result"
    }
   ],
   "source": [
    "olist_sellers_dataset.head(2)"
   ]
  },
  {
   "cell_type": "code",
   "execution_count": 19,
   "metadata": {
    "id": "-oLKkfT5Kdp4"
   },
   "outputs": [],
   "source": [
    "#renaming zipcode for merging\n",
    "olist_sellers_dataset = olist_sellers_dataset.rename(columns={'seller_zip_code_prefix':'zip_code'})"
   ]
  },
  {
   "cell_type": "code",
   "execution_count": 20,
   "metadata": {
    "colab": {
     "base_uri": "https://localhost:8080/",
     "height": 106
    },
    "executionInfo": {
     "elapsed": 41,
     "status": "ok",
     "timestamp": 1628574524147,
     "user": {
      "displayName": "raghav verma",
      "photoUrl": "https://lh3.googleusercontent.com/a-/AOh14GhkD3JSxEmymvRDBBLHWxtPj3TzqOs1cPtEj4IYUQ=s64",
      "userId": "04994909679565212406"
     },
     "user_tz": -330
    },
    "id": "ZBPaeN0_Kdp4",
    "outputId": "d2891d72-fb81-483a-8ac1-922261d943b5"
   },
   "outputs": [
    {
     "data": {
      "text/html": [
       "<div>\n",
       "<style scoped>\n",
       "    .dataframe tbody tr th:only-of-type {\n",
       "        vertical-align: middle;\n",
       "    }\n",
       "\n",
       "    .dataframe tbody tr th {\n",
       "        vertical-align: top;\n",
       "    }\n",
       "\n",
       "    .dataframe thead th {\n",
       "        text-align: right;\n",
       "    }\n",
       "</style>\n",
       "<table border=\"1\" class=\"dataframe\">\n",
       "  <thead>\n",
       "    <tr style=\"text-align: right;\">\n",
       "      <th></th>\n",
       "      <th>seller_id</th>\n",
       "      <th>zip_code</th>\n",
       "      <th>seller_city</th>\n",
       "      <th>seller_state</th>\n",
       "    </tr>\n",
       "  </thead>\n",
       "  <tbody>\n",
       "    <tr>\n",
       "      <th>0</th>\n",
       "      <td>3442f8959a84dea7ee197c632cb2df15</td>\n",
       "      <td>13023</td>\n",
       "      <td>campinas</td>\n",
       "      <td>SP</td>\n",
       "    </tr>\n",
       "    <tr>\n",
       "      <th>1</th>\n",
       "      <td>d1b65fc7debc3361ea86b5f14c68d2e2</td>\n",
       "      <td>13844</td>\n",
       "      <td>mogi guacu</td>\n",
       "      <td>SP</td>\n",
       "    </tr>\n",
       "  </tbody>\n",
       "</table>\n",
       "</div>"
      ],
      "text/plain": [
       "                          seller_id  zip_code seller_city seller_state\n",
       "0  3442f8959a84dea7ee197c632cb2df15     13023    campinas           SP\n",
       "1  d1b65fc7debc3361ea86b5f14c68d2e2     13844  mogi guacu           SP"
      ]
     },
     "execution_count": 20,
     "metadata": {},
     "output_type": "execute_result"
    }
   ],
   "source": [
    "olist_sellers_dataset.head(2)"
   ]
  },
  {
   "cell_type": "code",
   "execution_count": 21,
   "metadata": {
    "colab": {
     "base_uri": "https://localhost:8080/",
     "height": 106
    },
    "executionInfo": {
     "elapsed": 40,
     "status": "ok",
     "timestamp": 1628574524149,
     "user": {
      "displayName": "raghav verma",
      "photoUrl": "https://lh3.googleusercontent.com/a-/AOh14GhkD3JSxEmymvRDBBLHWxtPj3TzqOs1cPtEj4IYUQ=s64",
      "userId": "04994909679565212406"
     },
     "user_tz": -330
    },
    "id": "M8wXSVphKdp4",
    "outputId": "62b47dbd-0411-4a35-f4f0-2715aaa8d33f"
   },
   "outputs": [
    {
     "data": {
      "text/html": [
       "<div>\n",
       "<style scoped>\n",
       "    .dataframe tbody tr th:only-of-type {\n",
       "        vertical-align: middle;\n",
       "    }\n",
       "\n",
       "    .dataframe tbody tr th {\n",
       "        vertical-align: top;\n",
       "    }\n",
       "\n",
       "    .dataframe thead th {\n",
       "        text-align: right;\n",
       "    }\n",
       "</style>\n",
       "<table border=\"1\" class=\"dataframe\">\n",
       "  <thead>\n",
       "    <tr style=\"text-align: right;\">\n",
       "      <th></th>\n",
       "      <th>product_category_name</th>\n",
       "      <th>product_category_name_english</th>\n",
       "    </tr>\n",
       "  </thead>\n",
       "  <tbody>\n",
       "    <tr>\n",
       "      <th>0</th>\n",
       "      <td>beleza_saude</td>\n",
       "      <td>health_beauty</td>\n",
       "    </tr>\n",
       "    <tr>\n",
       "      <th>1</th>\n",
       "      <td>informatica_acessorios</td>\n",
       "      <td>computers_accessories</td>\n",
       "    </tr>\n",
       "  </tbody>\n",
       "</table>\n",
       "</div>"
      ],
      "text/plain": [
       "    product_category_name product_category_name_english\n",
       "0            beleza_saude                 health_beauty\n",
       "1  informatica_acessorios         computers_accessories"
      ]
     },
     "execution_count": 21,
     "metadata": {},
     "output_type": "execute_result"
    }
   ],
   "source": [
    "product_category_name_translation.head(2)"
   ]
  },
  {
   "cell_type": "code",
   "execution_count": 22,
   "metadata": {
    "colab": {
     "base_uri": "https://localhost:8080/"
    },
    "executionInfo": {
     "elapsed": 40,
     "status": "ok",
     "timestamp": 1628574524152,
     "user": {
      "displayName": "raghav verma",
      "photoUrl": "https://lh3.googleusercontent.com/a-/AOh14GhkD3JSxEmymvRDBBLHWxtPj3TzqOs1cPtEj4IYUQ=s64",
      "userId": "04994909679565212406"
     },
     "user_tz": -330
    },
    "id": "HtsLOb9uKdp5",
    "outputId": "3f02c120-6475-41b2-d030-9e58736f0aee"
   },
   "outputs": [
    {
     "data": {
      "text/plain": [
       "Index(['customer_id', 'customer_unique_id', 'zip_code', 'customer_city',\n",
       "       'customer_state'],\n",
       "      dtype='object')"
      ]
     },
     "execution_count": 22,
     "metadata": {},
     "output_type": "execute_result"
    }
   ],
   "source": [
    "olist_customers_dataset.columns"
   ]
  },
  {
   "cell_type": "code",
   "execution_count": 23,
   "metadata": {
    "colab": {
     "base_uri": "https://localhost:8080/"
    },
    "executionInfo": {
     "elapsed": 38,
     "status": "ok",
     "timestamp": 1628574524156,
     "user": {
      "displayName": "raghav verma",
      "photoUrl": "https://lh3.googleusercontent.com/a-/AOh14GhkD3JSxEmymvRDBBLHWxtPj3TzqOs1cPtEj4IYUQ=s64",
      "userId": "04994909679565212406"
     },
     "user_tz": -330
    },
    "id": "rIxIbWZvKdp5",
    "outputId": "1314563c-6811-4c88-89b1-7e7d7ebcce72"
   },
   "outputs": [
    {
     "data": {
      "text/plain": [
       "Index(['zip_code', 'geolocation_lat', 'geolocation_lng', 'geolocation_city',\n",
       "       'geolocation_state'],\n",
       "      dtype='object')"
      ]
     },
     "execution_count": 23,
     "metadata": {},
     "output_type": "execute_result"
    }
   ],
   "source": [
    "olist_geolocation_dataset.columns"
   ]
  },
  {
   "cell_type": "code",
   "execution_count": 24,
   "metadata": {
    "colab": {
     "base_uri": "https://localhost:8080/"
    },
    "executionInfo": {
     "elapsed": 16,
     "status": "ok",
     "timestamp": 1628574524814,
     "user": {
      "displayName": "raghav verma",
      "photoUrl": "https://lh3.googleusercontent.com/a-/AOh14GhkD3JSxEmymvRDBBLHWxtPj3TzqOs1cPtEj4IYUQ=s64",
      "userId": "04994909679565212406"
     },
     "user_tz": -330
    },
    "id": "fI8iK-PcKdp5",
    "outputId": "3622db72-2bc1-45a7-d25b-186c9f1a0cc1"
   },
   "outputs": [
    {
     "data": {
      "text/plain": [
       "Index(['review_id', 'order_id', 'review_score', 'review_comment_title',\n",
       "       'review_comment_message', 'review_creation_date',\n",
       "       'review_answer_timestamp'],\n",
       "      dtype='object')"
      ]
     },
     "execution_count": 24,
     "metadata": {},
     "output_type": "execute_result"
    }
   ],
   "source": [
    "olist_order_reviews_dataset.columns"
   ]
  },
  {
   "cell_type": "code",
   "execution_count": 25,
   "metadata": {
    "colab": {
     "base_uri": "https://localhost:8080/"
    },
    "executionInfo": {
     "elapsed": 15,
     "status": "ok",
     "timestamp": 1628574524815,
     "user": {
      "displayName": "raghav verma",
      "photoUrl": "https://lh3.googleusercontent.com/a-/AOh14GhkD3JSxEmymvRDBBLHWxtPj3TzqOs1cPtEj4IYUQ=s64",
      "userId": "04994909679565212406"
     },
     "user_tz": -330
    },
    "id": "06bXgoSKKdp5",
    "outputId": "a7a2f268-9a0c-41dc-c527-582d6ff140d8"
   },
   "outputs": [
    {
     "data": {
      "text/plain": [
       "Index(['order_id', 'customer_id', 'order_status', 'order_purchase_timestamp',\n",
       "       'order_approved_at', 'order_delivered_carrier_date',\n",
       "       'order_delivered_customer_date', 'order_estimated_delivery_date'],\n",
       "      dtype='object')"
      ]
     },
     "execution_count": 25,
     "metadata": {},
     "output_type": "execute_result"
    }
   ],
   "source": [
    "olist_orders_dataset.columns"
   ]
  },
  {
   "cell_type": "code",
   "execution_count": 26,
   "metadata": {
    "colab": {
     "base_uri": "https://localhost:8080/"
    },
    "executionInfo": {
     "elapsed": 8,
     "status": "ok",
     "timestamp": 1628574524816,
     "user": {
      "displayName": "raghav verma",
      "photoUrl": "https://lh3.googleusercontent.com/a-/AOh14GhkD3JSxEmymvRDBBLHWxtPj3TzqOs1cPtEj4IYUQ=s64",
      "userId": "04994909679565212406"
     },
     "user_tz": -330
    },
    "id": "u5ezIf5_Kdp6",
    "outputId": "aaa48890-8354-4a33-f650-adbb16f4ee4c"
   },
   "outputs": [
    {
     "data": {
      "text/plain": [
       "Index(['seller_id', 'zip_code', 'seller_city', 'seller_state'], dtype='object')"
      ]
     },
     "execution_count": 26,
     "metadata": {},
     "output_type": "execute_result"
    }
   ],
   "source": [
    "olist_sellers_dataset.columns"
   ]
  },
  {
   "cell_type": "code",
   "execution_count": 27,
   "metadata": {
    "colab": {
     "base_uri": "https://localhost:8080/"
    },
    "executionInfo": {
     "elapsed": 20,
     "status": "ok",
     "timestamp": 1628574526106,
     "user": {
      "displayName": "raghav verma",
      "photoUrl": "https://lh3.googleusercontent.com/a-/AOh14GhkD3JSxEmymvRDBBLHWxtPj3TzqOs1cPtEj4IYUQ=s64",
      "userId": "04994909679565212406"
     },
     "user_tz": -330
    },
    "id": "41kaNo-yKdp6",
    "outputId": "abaab926-208e-41fa-a787-9997e52ae5aa"
   },
   "outputs": [
    {
     "data": {
      "text/plain": [
       "Index(['order_id', 'customer_id', 'order_status', 'order_purchase_timestamp',\n",
       "       'order_approved_at', 'order_delivered_carrier_date',\n",
       "       'order_delivered_customer_date', 'order_estimated_delivery_date'],\n",
       "      dtype='object')"
      ]
     },
     "execution_count": 27,
     "metadata": {},
     "output_type": "execute_result"
    }
   ],
   "source": [
    "olist_orders_dataset.columns"
   ]
  },
  {
   "cell_type": "code",
   "execution_count": null,
   "metadata": {
    "id": "YIH6gxBVKdp6"
   },
   "outputs": [],
   "source": []
  },
  {
   "cell_type": "code",
   "execution_count": 28,
   "metadata": {
    "colab": {
     "base_uri": "https://localhost:8080/",
     "height": 314
    },
    "executionInfo": {
     "elapsed": 19,
     "status": "error",
     "timestamp": 1628574526111,
     "user": {
      "displayName": "raghav verma",
      "photoUrl": "https://lh3.googleusercontent.com/a-/AOh14GhkD3JSxEmymvRDBBLHWxtPj3TzqOs1cPtEj4IYUQ=s64",
      "userId": "04994909679565212406"
     },
     "user_tz": -330
    },
    "id": "ilZ-ZzwpKdp6",
    "outputId": "45ec14be-7a4f-4857-bc03-a9e513f2af39"
   },
   "outputs": [],
   "source": [
    "olist_geolocation_dataset=olist_geolocation_dataset.drop(columns = ['geolocation_state']) "
   ]
  },
  {
   "cell_type": "code",
   "execution_count": 29,
   "metadata": {
    "id": "LdqBomG1Kdp6"
   },
   "outputs": [],
   "source": [
    "olist_orders_dataset=olist_orders_dataset.drop(columns = ['order_approved_at','order_estimated_delivery_date']) "
   ]
  },
  {
   "cell_type": "code",
   "execution_count": 30,
   "metadata": {
    "id": "IgvNIMTCKdp7"
   },
   "outputs": [],
   "source": [
    "reviews_data=olist_order_reviews_dataset.drop(columns = ['review_id','review_comment_title','review_comment_message','review_creation_date','review_answer_timestamp']) "
   ]
  },
  {
   "cell_type": "code",
   "execution_count": null,
   "metadata": {
    "id": "ob_FLDhoKdp7"
   },
   "outputs": [],
   "source": []
  },
  {
   "cell_type": "code",
   "execution_count": 31,
   "metadata": {
    "colab": {
     "base_uri": "https://localhost:8080/"
    },
    "executionInfo": {
     "elapsed": 15,
     "status": "ok",
     "timestamp": 1628574526523,
     "user": {
      "displayName": "raghav verma",
      "photoUrl": "https://lh3.googleusercontent.com/a-/AOh14GhkD3JSxEmymvRDBBLHWxtPj3TzqOs1cPtEj4IYUQ=s64",
      "userId": "04994909679565212406"
     },
     "user_tz": -330
    },
    "id": "gnWbaP4dKdp7",
    "outputId": "9774d058-8a35-43f5-da03-94d9036f1b83"
   },
   "outputs": [
    {
     "data": {
      "text/plain": [
       "(1000163, 4)"
      ]
     },
     "execution_count": 31,
     "metadata": {},
     "output_type": "execute_result"
    }
   ],
   "source": [
    "olist_geolocation_dataset.shape"
   ]
  },
  {
   "cell_type": "code",
   "execution_count": 32,
   "metadata": {
    "colab": {
     "base_uri": "https://localhost:8080/"
    },
    "executionInfo": {
     "elapsed": 10,
     "status": "ok",
     "timestamp": 1628574526523,
     "user": {
      "displayName": "raghav verma",
      "photoUrl": "https://lh3.googleusercontent.com/a-/AOh14GhkD3JSxEmymvRDBBLHWxtPj3TzqOs1cPtEj4IYUQ=s64",
      "userId": "04994909679565212406"
     },
     "user_tz": -330
    },
    "id": "a65yTW6FKdp7",
    "outputId": "bf669e3e-9d4a-4100-8af1-6f16a83c3195"
   },
   "outputs": [
    {
     "data": {
      "text/plain": [
       "(99441, 6)"
      ]
     },
     "execution_count": 32,
     "metadata": {},
     "output_type": "execute_result"
    }
   ],
   "source": [
    "olist_orders_dataset.shape"
   ]
  },
  {
   "cell_type": "code",
   "execution_count": 33,
   "metadata": {
    "colab": {
     "base_uri": "https://localhost:8080/"
    },
    "executionInfo": {
     "elapsed": 7,
     "status": "ok",
     "timestamp": 1628574526955,
     "user": {
      "displayName": "raghav verma",
      "photoUrl": "https://lh3.googleusercontent.com/a-/AOh14GhkD3JSxEmymvRDBBLHWxtPj3TzqOs1cPtEj4IYUQ=s64",
      "userId": "04994909679565212406"
     },
     "user_tz": -330
    },
    "id": "VIJcexDYKdp7",
    "outputId": "db5a8c60-972a-43f0-a782-7ccc5a4d0f1b"
   },
   "outputs": [
    {
     "data": {
      "text/plain": [
       "(3095, 4)"
      ]
     },
     "execution_count": 33,
     "metadata": {},
     "output_type": "execute_result"
    }
   ],
   "source": [
    "olist_sellers_dataset.shape"
   ]
  },
  {
   "cell_type": "code",
   "execution_count": null,
   "metadata": {
    "id": "-TCrD-EyKdp8"
   },
   "outputs": [],
   "source": []
  },
  {
   "cell_type": "code",
   "execution_count": 34,
   "metadata": {
    "id": "Q-QKFUiKKdp8"
   },
   "outputs": [],
   "source": [
    "zipcode = pd.merge(pd.merge( olist_customers_dataset, olist_geolocation_dataset, on = 'zip_code', how='inner'), olist_sellers_dataset, on='zip_code', how = 'inner')"
   ]
  },
  {
   "cell_type": "code",
   "execution_count": 35,
   "metadata": {
    "colab": {
     "base_uri": "https://localhost:8080/"
    },
    "executionInfo": {
     "elapsed": 5,
     "status": "ok",
     "timestamp": 1628574537216,
     "user": {
      "displayName": "raghav verma",
      "photoUrl": "https://lh3.googleusercontent.com/a-/AOh14GhkD3JSxEmymvRDBBLHWxtPj3TzqOs1cPtEj4IYUQ=s64",
      "userId": "04994909679565212406"
     },
     "user_tz": -330
    },
    "id": "6k8AfX1uKdp8",
    "outputId": "f0d31deb-de90-4454-f0b3-9c188bda4b31"
   },
   "outputs": [
    {
     "data": {
      "text/plain": [
       "(11492515, 11)"
      ]
     },
     "execution_count": 35,
     "metadata": {},
     "output_type": "execute_result"
    }
   ],
   "source": [
    "zipcode.shape"
   ]
  },
  {
   "cell_type": "code",
   "execution_count": 36,
   "metadata": {
    "id": "YYDcmQ7iKdp8"
   },
   "outputs": [],
   "source": [
    "orderid = pd.merge(pd.merge(olist_order_items_dataset,olist_orders_dataset, on='order_id', how='inner'),reviews_data, on='order_id', how='inner')"
   ]
  },
  {
   "cell_type": "code",
   "execution_count": 37,
   "metadata": {
    "colab": {
     "base_uri": "https://localhost:8080/"
    },
    "executionInfo": {
     "elapsed": 4,
     "status": "ok",
     "timestamp": 1628574538380,
     "user": {
      "displayName": "raghav verma",
      "photoUrl": "https://lh3.googleusercontent.com/a-/AOh14GhkD3JSxEmymvRDBBLHWxtPj3TzqOs1cPtEj4IYUQ=s64",
      "userId": "04994909679565212406"
     },
     "user_tz": -330
    },
    "id": "_xJGhTwvKdp9",
    "outputId": "8fc36cca-6860-4083-d52e-90991d775e18"
   },
   "outputs": [
    {
     "data": {
      "text/plain": [
       "(113322, 13)"
      ]
     },
     "execution_count": 37,
     "metadata": {},
     "output_type": "execute_result"
    }
   ],
   "source": [
    "orderid.shape"
   ]
  },
  {
   "cell_type": "code",
   "execution_count": null,
   "metadata": {
    "id": "J25NIzdhKdp9"
   },
   "outputs": [],
   "source": []
  },
  {
   "cell_type": "code",
   "execution_count": null,
   "metadata": {
    "id": "TQhl-0U7Kdp9"
   },
   "outputs": [],
   "source": []
  },
  {
   "cell_type": "code",
   "execution_count": 38,
   "metadata": {
    "id": "c1i9Aqe8Kdp9"
   },
   "outputs": [],
   "source": [
    "import seaborn as sns\n",
    "import matplotlib.pyplot as plt"
   ]
  },
  {
   "cell_type": "markdown",
   "metadata": {
    "id": "VUBABFlyKdp9"
   },
   "source": [
    "## ZIPCODE AND ORDERID MERGING"
   ]
  },
  {
   "cell_type": "code",
   "execution_count": 39,
   "metadata": {
    "id": "X_06dK25Kdp-"
   },
   "outputs": [],
   "source": [
    "zipcode_final = pd.merge(zipcode,orderid, on='customer_id',how='inner')"
   ]
  },
  {
   "cell_type": "code",
   "execution_count": 41,
   "metadata": {
    "colab": {
     "base_uri": "https://localhost:8080/"
    },
    "executionInfo": {
     "elapsed": 24,
     "status": "ok",
     "timestamp": 1628574552090,
     "user": {
      "displayName": "raghav verma",
      "photoUrl": "https://lh3.googleusercontent.com/a-/AOh14GhkD3JSxEmymvRDBBLHWxtPj3TzqOs1cPtEj4IYUQ=s64",
      "userId": "04994909679565212406"
     },
     "user_tz": -330
    },
    "id": "PBXPchtGKdp-",
    "outputId": "afe743d1-793e-448c-a66e-0537eb4e5dd3"
   },
   "outputs": [
    {
     "data": {
      "text/plain": [
       "(13235172, 23)"
      ]
     },
     "execution_count": 41,
     "metadata": {},
     "output_type": "execute_result"
    }
   ],
   "source": [
    "zipcode_final.shape"
   ]
  },
  {
   "cell_type": "code",
   "execution_count": 42,
   "metadata": {
    "colab": {
     "base_uri": "https://localhost:8080/",
     "height": 215
    },
    "executionInfo": {
     "elapsed": 39,
     "status": "ok",
     "timestamp": 1628574552112,
     "user": {
      "displayName": "raghav verma",
      "photoUrl": "https://lh3.googleusercontent.com/a-/AOh14GhkD3JSxEmymvRDBBLHWxtPj3TzqOs1cPtEj4IYUQ=s64",
      "userId": "04994909679565212406"
     },
     "user_tz": -330
    },
    "id": "bbWueFlzKdp-",
    "outputId": "2ad1e4be-639f-48c7-f563-84e2114a04b9"
   },
   "outputs": [
    {
     "data": {
      "text/html": [
       "<div>\n",
       "<style scoped>\n",
       "    .dataframe tbody tr th:only-of-type {\n",
       "        vertical-align: middle;\n",
       "    }\n",
       "\n",
       "    .dataframe tbody tr th {\n",
       "        vertical-align: top;\n",
       "    }\n",
       "\n",
       "    .dataframe thead th {\n",
       "        text-align: right;\n",
       "    }\n",
       "</style>\n",
       "<table border=\"1\" class=\"dataframe\">\n",
       "  <thead>\n",
       "    <tr style=\"text-align: right;\">\n",
       "      <th></th>\n",
       "      <th>customer_id</th>\n",
       "      <th>customer_unique_id</th>\n",
       "      <th>zip_code</th>\n",
       "      <th>customer_city</th>\n",
       "      <th>customer_state</th>\n",
       "      <th>geolocation_lat</th>\n",
       "      <th>geolocation_lng</th>\n",
       "      <th>geolocation_city</th>\n",
       "      <th>seller_id_x</th>\n",
       "      <th>seller_city</th>\n",
       "      <th>...</th>\n",
       "      <th>product_id</th>\n",
       "      <th>seller_id_y</th>\n",
       "      <th>shipping_limit_date</th>\n",
       "      <th>price</th>\n",
       "      <th>freight_value</th>\n",
       "      <th>order_status</th>\n",
       "      <th>order_purchase_timestamp</th>\n",
       "      <th>order_delivered_carrier_date</th>\n",
       "      <th>order_delivered_customer_date</th>\n",
       "      <th>review_score</th>\n",
       "    </tr>\n",
       "  </thead>\n",
       "  <tbody>\n",
       "    <tr>\n",
       "      <th>0</th>\n",
       "      <td>4f2d8ab171c80ec8364f7c12e35b23ad</td>\n",
       "      <td>345ecd01c38d18a9036ed96c73b8d066</td>\n",
       "      <td>13056</td>\n",
       "      <td>campinas</td>\n",
       "      <td>SP</td>\n",
       "      <td>-22.987222</td>\n",
       "      <td>-47.151073</td>\n",
       "      <td>campinas</td>\n",
       "      <td>8d46553a36e68f95350a200c12f8f2e2</td>\n",
       "      <td>campinas</td>\n",
       "      <td>...</td>\n",
       "      <td>9391a573abe00141c56e38d84d7d5b3b</td>\n",
       "      <td>4a3ca9315b744ce9f8e9374361493884</td>\n",
       "      <td>31-07-2018 10:10</td>\n",
       "      <td>230.0</td>\n",
       "      <td>22.25</td>\n",
       "      <td>delivered</td>\n",
       "      <td>2018-07-29 09:51:30</td>\n",
       "      <td>2018-07-30 15:16:00</td>\n",
       "      <td>2018-08-09 20:55:48</td>\n",
       "      <td>5</td>\n",
       "    </tr>\n",
       "    <tr>\n",
       "      <th>1</th>\n",
       "      <td>4f2d8ab171c80ec8364f7c12e35b23ad</td>\n",
       "      <td>345ecd01c38d18a9036ed96c73b8d066</td>\n",
       "      <td>13056</td>\n",
       "      <td>campinas</td>\n",
       "      <td>SP</td>\n",
       "      <td>-22.964194</td>\n",
       "      <td>-47.146534</td>\n",
       "      <td>campinas</td>\n",
       "      <td>8d46553a36e68f95350a200c12f8f2e2</td>\n",
       "      <td>campinas</td>\n",
       "      <td>...</td>\n",
       "      <td>9391a573abe00141c56e38d84d7d5b3b</td>\n",
       "      <td>4a3ca9315b744ce9f8e9374361493884</td>\n",
       "      <td>31-07-2018 10:10</td>\n",
       "      <td>230.0</td>\n",
       "      <td>22.25</td>\n",
       "      <td>delivered</td>\n",
       "      <td>2018-07-29 09:51:30</td>\n",
       "      <td>2018-07-30 15:16:00</td>\n",
       "      <td>2018-08-09 20:55:48</td>\n",
       "      <td>5</td>\n",
       "    </tr>\n",
       "    <tr>\n",
       "      <th>2</th>\n",
       "      <td>4f2d8ab171c80ec8364f7c12e35b23ad</td>\n",
       "      <td>345ecd01c38d18a9036ed96c73b8d066</td>\n",
       "      <td>13056</td>\n",
       "      <td>campinas</td>\n",
       "      <td>SP</td>\n",
       "      <td>-22.961982</td>\n",
       "      <td>-47.146298</td>\n",
       "      <td>campinas</td>\n",
       "      <td>8d46553a36e68f95350a200c12f8f2e2</td>\n",
       "      <td>campinas</td>\n",
       "      <td>...</td>\n",
       "      <td>9391a573abe00141c56e38d84d7d5b3b</td>\n",
       "      <td>4a3ca9315b744ce9f8e9374361493884</td>\n",
       "      <td>31-07-2018 10:10</td>\n",
       "      <td>230.0</td>\n",
       "      <td>22.25</td>\n",
       "      <td>delivered</td>\n",
       "      <td>2018-07-29 09:51:30</td>\n",
       "      <td>2018-07-30 15:16:00</td>\n",
       "      <td>2018-08-09 20:55:48</td>\n",
       "      <td>5</td>\n",
       "    </tr>\n",
       "    <tr>\n",
       "      <th>3</th>\n",
       "      <td>4f2d8ab171c80ec8364f7c12e35b23ad</td>\n",
       "      <td>345ecd01c38d18a9036ed96c73b8d066</td>\n",
       "      <td>13056</td>\n",
       "      <td>campinas</td>\n",
       "      <td>SP</td>\n",
       "      <td>-22.968058</td>\n",
       "      <td>-47.147139</td>\n",
       "      <td>campinas</td>\n",
       "      <td>8d46553a36e68f95350a200c12f8f2e2</td>\n",
       "      <td>campinas</td>\n",
       "      <td>...</td>\n",
       "      <td>9391a573abe00141c56e38d84d7d5b3b</td>\n",
       "      <td>4a3ca9315b744ce9f8e9374361493884</td>\n",
       "      <td>31-07-2018 10:10</td>\n",
       "      <td>230.0</td>\n",
       "      <td>22.25</td>\n",
       "      <td>delivered</td>\n",
       "      <td>2018-07-29 09:51:30</td>\n",
       "      <td>2018-07-30 15:16:00</td>\n",
       "      <td>2018-08-09 20:55:48</td>\n",
       "      <td>5</td>\n",
       "    </tr>\n",
       "    <tr>\n",
       "      <th>4</th>\n",
       "      <td>4f2d8ab171c80ec8364f7c12e35b23ad</td>\n",
       "      <td>345ecd01c38d18a9036ed96c73b8d066</td>\n",
       "      <td>13056</td>\n",
       "      <td>campinas</td>\n",
       "      <td>SP</td>\n",
       "      <td>-22.977905</td>\n",
       "      <td>-47.145693</td>\n",
       "      <td>campinas</td>\n",
       "      <td>8d46553a36e68f95350a200c12f8f2e2</td>\n",
       "      <td>campinas</td>\n",
       "      <td>...</td>\n",
       "      <td>9391a573abe00141c56e38d84d7d5b3b</td>\n",
       "      <td>4a3ca9315b744ce9f8e9374361493884</td>\n",
       "      <td>31-07-2018 10:10</td>\n",
       "      <td>230.0</td>\n",
       "      <td>22.25</td>\n",
       "      <td>delivered</td>\n",
       "      <td>2018-07-29 09:51:30</td>\n",
       "      <td>2018-07-30 15:16:00</td>\n",
       "      <td>2018-08-09 20:55:48</td>\n",
       "      <td>5</td>\n",
       "    </tr>\n",
       "  </tbody>\n",
       "</table>\n",
       "<p>5 rows × 23 columns</p>\n",
       "</div>"
      ],
      "text/plain": [
       "                        customer_id                customer_unique_id  \\\n",
       "0  4f2d8ab171c80ec8364f7c12e35b23ad  345ecd01c38d18a9036ed96c73b8d066   \n",
       "1  4f2d8ab171c80ec8364f7c12e35b23ad  345ecd01c38d18a9036ed96c73b8d066   \n",
       "2  4f2d8ab171c80ec8364f7c12e35b23ad  345ecd01c38d18a9036ed96c73b8d066   \n",
       "3  4f2d8ab171c80ec8364f7c12e35b23ad  345ecd01c38d18a9036ed96c73b8d066   \n",
       "4  4f2d8ab171c80ec8364f7c12e35b23ad  345ecd01c38d18a9036ed96c73b8d066   \n",
       "\n",
       "   zip_code customer_city customer_state  geolocation_lat  geolocation_lng  \\\n",
       "0     13056      campinas             SP       -22.987222       -47.151073   \n",
       "1     13056      campinas             SP       -22.964194       -47.146534   \n",
       "2     13056      campinas             SP       -22.961982       -47.146298   \n",
       "3     13056      campinas             SP       -22.968058       -47.147139   \n",
       "4     13056      campinas             SP       -22.977905       -47.145693   \n",
       "\n",
       "  geolocation_city                       seller_id_x seller_city  ...  \\\n",
       "0         campinas  8d46553a36e68f95350a200c12f8f2e2    campinas  ...   \n",
       "1         campinas  8d46553a36e68f95350a200c12f8f2e2    campinas  ...   \n",
       "2         campinas  8d46553a36e68f95350a200c12f8f2e2    campinas  ...   \n",
       "3         campinas  8d46553a36e68f95350a200c12f8f2e2    campinas  ...   \n",
       "4         campinas  8d46553a36e68f95350a200c12f8f2e2    campinas  ...   \n",
       "\n",
       "                         product_id                       seller_id_y  \\\n",
       "0  9391a573abe00141c56e38d84d7d5b3b  4a3ca9315b744ce9f8e9374361493884   \n",
       "1  9391a573abe00141c56e38d84d7d5b3b  4a3ca9315b744ce9f8e9374361493884   \n",
       "2  9391a573abe00141c56e38d84d7d5b3b  4a3ca9315b744ce9f8e9374361493884   \n",
       "3  9391a573abe00141c56e38d84d7d5b3b  4a3ca9315b744ce9f8e9374361493884   \n",
       "4  9391a573abe00141c56e38d84d7d5b3b  4a3ca9315b744ce9f8e9374361493884   \n",
       "\n",
       "   shipping_limit_date  price freight_value order_status  \\\n",
       "0     31-07-2018 10:10  230.0         22.25    delivered   \n",
       "1     31-07-2018 10:10  230.0         22.25    delivered   \n",
       "2     31-07-2018 10:10  230.0         22.25    delivered   \n",
       "3     31-07-2018 10:10  230.0         22.25    delivered   \n",
       "4     31-07-2018 10:10  230.0         22.25    delivered   \n",
       "\n",
       "   order_purchase_timestamp  order_delivered_carrier_date  \\\n",
       "0       2018-07-29 09:51:30           2018-07-30 15:16:00   \n",
       "1       2018-07-29 09:51:30           2018-07-30 15:16:00   \n",
       "2       2018-07-29 09:51:30           2018-07-30 15:16:00   \n",
       "3       2018-07-29 09:51:30           2018-07-30 15:16:00   \n",
       "4       2018-07-29 09:51:30           2018-07-30 15:16:00   \n",
       "\n",
       "  order_delivered_customer_date review_score  \n",
       "0           2018-08-09 20:55:48            5  \n",
       "1           2018-08-09 20:55:48            5  \n",
       "2           2018-08-09 20:55:48            5  \n",
       "3           2018-08-09 20:55:48            5  \n",
       "4           2018-08-09 20:55:48            5  \n",
       "\n",
       "[5 rows x 23 columns]"
      ]
     },
     "execution_count": 42,
     "metadata": {},
     "output_type": "execute_result"
    }
   ],
   "source": [
    "zipcode_final.head()"
   ]
  },
  {
   "cell_type": "code",
   "execution_count": 43,
   "metadata": {
    "colab": {
     "base_uri": "https://localhost:8080/"
    },
    "executionInfo": {
     "elapsed": 7,
     "status": "ok",
     "timestamp": 1628574553700,
     "user": {
      "displayName": "raghav verma",
      "photoUrl": "https://lh3.googleusercontent.com/a-/AOh14GhkD3JSxEmymvRDBBLHWxtPj3TzqOs1cPtEj4IYUQ=s64",
      "userId": "04994909679565212406"
     },
     "user_tz": -330
    },
    "id": "-K4YMCj6Kdp-",
    "outputId": "b9476487-c16a-4174-e17e-3e776001feb6"
   },
   "outputs": [
    {
     "data": {
      "text/plain": [
       "Index(['customer_id', 'customer_unique_id', 'zip_code', 'customer_city',\n",
       "       'customer_state', 'geolocation_lat', 'geolocation_lng',\n",
       "       'geolocation_city', 'seller_id_x', 'seller_city', 'seller_state',\n",
       "       'order_id', 'order_item_id', 'product_id', 'seller_id_y',\n",
       "       'shipping_limit_date', 'price', 'freight_value', 'order_status',\n",
       "       'order_purchase_timestamp', 'order_delivered_carrier_date',\n",
       "       'order_delivered_customer_date', 'review_score'],\n",
       "      dtype='object')"
      ]
     },
     "execution_count": 43,
     "metadata": {},
     "output_type": "execute_result"
    }
   ],
   "source": [
    "zipcode_final.columns\n",
    "#customer_state,seller_state, seller_city."
   ]
  },
  {
   "cell_type": "code",
   "execution_count": 44,
   "metadata": {},
   "outputs": [],
   "source": [
    "zipcode_final=zipcode_final[zipcode_final['order_status']=='delivered']"
   ]
  },
  {
   "cell_type": "code",
   "execution_count": 45,
   "metadata": {},
   "outputs": [
    {
     "data": {
      "text/plain": [
       "(12968467, 23)"
      ]
     },
     "execution_count": 45,
     "metadata": {},
     "output_type": "execute_result"
    }
   ],
   "source": [
    "zipcode_final.shape"
   ]
  },
  {
   "cell_type": "code",
   "execution_count": 50,
   "metadata": {},
   "outputs": [],
   "source": [
    "rating=zipcode_final.drop(['customer_unique_id','zip_code', 'customer_city','geolocation_lat', 'geolocation_lng','geolocation_city', 'seller_id_x', 'seller_city','order_item_id', 'product_id', 'seller_id_y','shipping_limit_date','order_status','order_delivered_carrier_date'],axis=1)"
   ]
  },
  {
   "cell_type": "code",
   "execution_count": 51,
   "metadata": {},
   "outputs": [
    {
     "data": {
      "text/html": [
       "<div>\n",
       "<style scoped>\n",
       "    .dataframe tbody tr th:only-of-type {\n",
       "        vertical-align: middle;\n",
       "    }\n",
       "\n",
       "    .dataframe tbody tr th {\n",
       "        vertical-align: top;\n",
       "    }\n",
       "\n",
       "    .dataframe thead th {\n",
       "        text-align: right;\n",
       "    }\n",
       "</style>\n",
       "<table border=\"1\" class=\"dataframe\">\n",
       "  <thead>\n",
       "    <tr style=\"text-align: right;\">\n",
       "      <th></th>\n",
       "      <th>customer_id</th>\n",
       "      <th>customer_state</th>\n",
       "      <th>seller_state</th>\n",
       "      <th>order_id</th>\n",
       "      <th>price</th>\n",
       "      <th>freight_value</th>\n",
       "      <th>order_purchase_timestamp</th>\n",
       "      <th>order_delivered_customer_date</th>\n",
       "      <th>review_score</th>\n",
       "    </tr>\n",
       "  </thead>\n",
       "  <tbody>\n",
       "    <tr>\n",
       "      <th>0</th>\n",
       "      <td>4f2d8ab171c80ec8364f7c12e35b23ad</td>\n",
       "      <td>SP</td>\n",
       "      <td>SP</td>\n",
       "      <td>6b7d50bd145f6fc7f33cebabd7e49d0f</td>\n",
       "      <td>230.0</td>\n",
       "      <td>22.25</td>\n",
       "      <td>2018-07-29 09:51:30</td>\n",
       "      <td>2018-08-09 20:55:48</td>\n",
       "      <td>5</td>\n",
       "    </tr>\n",
       "    <tr>\n",
       "      <th>1</th>\n",
       "      <td>4f2d8ab171c80ec8364f7c12e35b23ad</td>\n",
       "      <td>SP</td>\n",
       "      <td>SP</td>\n",
       "      <td>6b7d50bd145f6fc7f33cebabd7e49d0f</td>\n",
       "      <td>230.0</td>\n",
       "      <td>22.25</td>\n",
       "      <td>2018-07-29 09:51:30</td>\n",
       "      <td>2018-08-09 20:55:48</td>\n",
       "      <td>5</td>\n",
       "    </tr>\n",
       "    <tr>\n",
       "      <th>2</th>\n",
       "      <td>4f2d8ab171c80ec8364f7c12e35b23ad</td>\n",
       "      <td>SP</td>\n",
       "      <td>SP</td>\n",
       "      <td>6b7d50bd145f6fc7f33cebabd7e49d0f</td>\n",
       "      <td>230.0</td>\n",
       "      <td>22.25</td>\n",
       "      <td>2018-07-29 09:51:30</td>\n",
       "      <td>2018-08-09 20:55:48</td>\n",
       "      <td>5</td>\n",
       "    </tr>\n",
       "    <tr>\n",
       "      <th>3</th>\n",
       "      <td>4f2d8ab171c80ec8364f7c12e35b23ad</td>\n",
       "      <td>SP</td>\n",
       "      <td>SP</td>\n",
       "      <td>6b7d50bd145f6fc7f33cebabd7e49d0f</td>\n",
       "      <td>230.0</td>\n",
       "      <td>22.25</td>\n",
       "      <td>2018-07-29 09:51:30</td>\n",
       "      <td>2018-08-09 20:55:48</td>\n",
       "      <td>5</td>\n",
       "    </tr>\n",
       "    <tr>\n",
       "      <th>4</th>\n",
       "      <td>4f2d8ab171c80ec8364f7c12e35b23ad</td>\n",
       "      <td>SP</td>\n",
       "      <td>SP</td>\n",
       "      <td>6b7d50bd145f6fc7f33cebabd7e49d0f</td>\n",
       "      <td>230.0</td>\n",
       "      <td>22.25</td>\n",
       "      <td>2018-07-29 09:51:30</td>\n",
       "      <td>2018-08-09 20:55:48</td>\n",
       "      <td>5</td>\n",
       "    </tr>\n",
       "  </tbody>\n",
       "</table>\n",
       "</div>"
      ],
      "text/plain": [
       "                        customer_id customer_state seller_state  \\\n",
       "0  4f2d8ab171c80ec8364f7c12e35b23ad             SP           SP   \n",
       "1  4f2d8ab171c80ec8364f7c12e35b23ad             SP           SP   \n",
       "2  4f2d8ab171c80ec8364f7c12e35b23ad             SP           SP   \n",
       "3  4f2d8ab171c80ec8364f7c12e35b23ad             SP           SP   \n",
       "4  4f2d8ab171c80ec8364f7c12e35b23ad             SP           SP   \n",
       "\n",
       "                           order_id  price  freight_value  \\\n",
       "0  6b7d50bd145f6fc7f33cebabd7e49d0f  230.0          22.25   \n",
       "1  6b7d50bd145f6fc7f33cebabd7e49d0f  230.0          22.25   \n",
       "2  6b7d50bd145f6fc7f33cebabd7e49d0f  230.0          22.25   \n",
       "3  6b7d50bd145f6fc7f33cebabd7e49d0f  230.0          22.25   \n",
       "4  6b7d50bd145f6fc7f33cebabd7e49d0f  230.0          22.25   \n",
       "\n",
       "  order_purchase_timestamp order_delivered_customer_date  review_score  \n",
       "0      2018-07-29 09:51:30           2018-08-09 20:55:48             5  \n",
       "1      2018-07-29 09:51:30           2018-08-09 20:55:48             5  \n",
       "2      2018-07-29 09:51:30           2018-08-09 20:55:48             5  \n",
       "3      2018-07-29 09:51:30           2018-08-09 20:55:48             5  \n",
       "4      2018-07-29 09:51:30           2018-08-09 20:55:48             5  "
      ]
     },
     "execution_count": 51,
     "metadata": {},
     "output_type": "execute_result"
    }
   ],
   "source": [
    "rating.head()"
   ]
  },
  {
   "cell_type": "code",
   "execution_count": 53,
   "metadata": {},
   "outputs": [],
   "source": [
    "rating=rating.drop_duplicates(subset=None, keep='first', inplace=False, ignore_index=False)"
   ]
  },
  {
   "cell_type": "code",
   "execution_count": 54,
   "metadata": {},
   "outputs": [
    {
     "data": {
      "text/plain": [
       "(28374, 9)"
      ]
     },
     "execution_count": 54,
     "metadata": {},
     "output_type": "execute_result"
    }
   ],
   "source": [
    "rating.shape"
   ]
  },
  {
   "cell_type": "code",
   "execution_count": 55,
   "metadata": {},
   "outputs": [
    {
     "data": {
      "text/html": [
       "<div>\n",
       "<style scoped>\n",
       "    .dataframe tbody tr th:only-of-type {\n",
       "        vertical-align: middle;\n",
       "    }\n",
       "\n",
       "    .dataframe tbody tr th {\n",
       "        vertical-align: top;\n",
       "    }\n",
       "\n",
       "    .dataframe thead th {\n",
       "        text-align: right;\n",
       "    }\n",
       "</style>\n",
       "<table border=\"1\" class=\"dataframe\">\n",
       "  <thead>\n",
       "    <tr style=\"text-align: right;\">\n",
       "      <th></th>\n",
       "      <th>customer_id</th>\n",
       "      <th>customer_state</th>\n",
       "      <th>seller_state</th>\n",
       "      <th>order_id</th>\n",
       "      <th>price</th>\n",
       "      <th>freight_value</th>\n",
       "      <th>order_purchase_timestamp</th>\n",
       "      <th>order_delivered_customer_date</th>\n",
       "      <th>review_score</th>\n",
       "    </tr>\n",
       "  </thead>\n",
       "  <tbody>\n",
       "    <tr>\n",
       "      <th>0</th>\n",
       "      <td>4f2d8ab171c80ec8364f7c12e35b23ad</td>\n",
       "      <td>SP</td>\n",
       "      <td>SP</td>\n",
       "      <td>6b7d50bd145f6fc7f33cebabd7e49d0f</td>\n",
       "      <td>230.00</td>\n",
       "      <td>22.25</td>\n",
       "      <td>2018-07-29 09:51:30</td>\n",
       "      <td>2018-08-09 20:55:48</td>\n",
       "      <td>5</td>\n",
       "    </tr>\n",
       "    <tr>\n",
       "      <th>157</th>\n",
       "      <td>cf7956da5b322ee09795506d6fcb238f</td>\n",
       "      <td>SP</td>\n",
       "      <td>SP</td>\n",
       "      <td>a9dfd8a8ec4fa0a848fb61986bdc153f</td>\n",
       "      <td>129.90</td>\n",
       "      <td>23.62</td>\n",
       "      <td>2018-08-20 13:09:40</td>\n",
       "      <td>2018-08-29 18:32:58</td>\n",
       "      <td>1</td>\n",
       "    </tr>\n",
       "    <tr>\n",
       "      <th>471</th>\n",
       "      <td>bf4de82f32ef651f28d27c81bcda7407</td>\n",
       "      <td>SP</td>\n",
       "      <td>SP</td>\n",
       "      <td>7cc4f378e3ec48d51a94b7d0da4dbc31</td>\n",
       "      <td>42.00</td>\n",
       "      <td>9.60</td>\n",
       "      <td>2018-06-22 10:44:50</td>\n",
       "      <td>2018-07-03 18:28:41</td>\n",
       "      <td>5</td>\n",
       "    </tr>\n",
       "    <tr>\n",
       "      <th>628</th>\n",
       "      <td>ede8227cb317f0794d3df6d6407c5d28</td>\n",
       "      <td>SP</td>\n",
       "      <td>SP</td>\n",
       "      <td>22b29d286c0de8b013b0db61ddcb3754</td>\n",
       "      <td>146.99</td>\n",
       "      <td>13.58</td>\n",
       "      <td>2017-11-10 11:04:30</td>\n",
       "      <td>2017-11-18 14:21:26</td>\n",
       "      <td>2</td>\n",
       "    </tr>\n",
       "    <tr>\n",
       "      <th>785</th>\n",
       "      <td>788cbdfbcd36bc44ed880e34bd010c4e</td>\n",
       "      <td>SP</td>\n",
       "      <td>SP</td>\n",
       "      <td>ed2c99c57389c865c573a025e1d6d34c</td>\n",
       "      <td>19.50</td>\n",
       "      <td>7.40</td>\n",
       "      <td>2018-06-30 20:30:35</td>\n",
       "      <td>2018-07-13 14:51:05</td>\n",
       "      <td>4</td>\n",
       "    </tr>\n",
       "  </tbody>\n",
       "</table>\n",
       "</div>"
      ],
      "text/plain": [
       "                          customer_id customer_state seller_state  \\\n",
       "0    4f2d8ab171c80ec8364f7c12e35b23ad             SP           SP   \n",
       "157  cf7956da5b322ee09795506d6fcb238f             SP           SP   \n",
       "471  bf4de82f32ef651f28d27c81bcda7407             SP           SP   \n",
       "628  ede8227cb317f0794d3df6d6407c5d28             SP           SP   \n",
       "785  788cbdfbcd36bc44ed880e34bd010c4e             SP           SP   \n",
       "\n",
       "                             order_id   price  freight_value  \\\n",
       "0    6b7d50bd145f6fc7f33cebabd7e49d0f  230.00          22.25   \n",
       "157  a9dfd8a8ec4fa0a848fb61986bdc153f  129.90          23.62   \n",
       "471  7cc4f378e3ec48d51a94b7d0da4dbc31   42.00           9.60   \n",
       "628  22b29d286c0de8b013b0db61ddcb3754  146.99          13.58   \n",
       "785  ed2c99c57389c865c573a025e1d6d34c   19.50           7.40   \n",
       "\n",
       "    order_purchase_timestamp order_delivered_customer_date  review_score  \n",
       "0        2018-07-29 09:51:30           2018-08-09 20:55:48             5  \n",
       "157      2018-08-20 13:09:40           2018-08-29 18:32:58             1  \n",
       "471      2018-06-22 10:44:50           2018-07-03 18:28:41             5  \n",
       "628      2017-11-10 11:04:30           2017-11-18 14:21:26             2  \n",
       "785      2018-06-30 20:30:35           2018-07-13 14:51:05             4  "
      ]
     },
     "execution_count": 55,
     "metadata": {},
     "output_type": "execute_result"
    }
   ],
   "source": [
    "rating.head()"
   ]
  },
  {
   "cell_type": "code",
   "execution_count": 56,
   "metadata": {},
   "outputs": [],
   "source": [
    "rating[['order_purchase_timestamp','order_delivered_customer_date']] = rating[['order_purchase_timestamp','order_delivered_customer_date']].apply(pd.to_datetime) \n",
    "rating['order_duration'] = (rating['order_delivered_customer_date'] - rating['order_purchase_timestamp']).dt.days"
   ]
  },
  {
   "cell_type": "code",
   "execution_count": 57,
   "metadata": {},
   "outputs": [
    {
     "data": {
      "text/html": [
       "<div>\n",
       "<style scoped>\n",
       "    .dataframe tbody tr th:only-of-type {\n",
       "        vertical-align: middle;\n",
       "    }\n",
       "\n",
       "    .dataframe tbody tr th {\n",
       "        vertical-align: top;\n",
       "    }\n",
       "\n",
       "    .dataframe thead th {\n",
       "        text-align: right;\n",
       "    }\n",
       "</style>\n",
       "<table border=\"1\" class=\"dataframe\">\n",
       "  <thead>\n",
       "    <tr style=\"text-align: right;\">\n",
       "      <th></th>\n",
       "      <th>customer_id</th>\n",
       "      <th>customer_state</th>\n",
       "      <th>seller_state</th>\n",
       "      <th>order_id</th>\n",
       "      <th>price</th>\n",
       "      <th>freight_value</th>\n",
       "      <th>order_purchase_timestamp</th>\n",
       "      <th>order_delivered_customer_date</th>\n",
       "      <th>review_score</th>\n",
       "      <th>order_duration</th>\n",
       "    </tr>\n",
       "  </thead>\n",
       "  <tbody>\n",
       "    <tr>\n",
       "      <th>0</th>\n",
       "      <td>4f2d8ab171c80ec8364f7c12e35b23ad</td>\n",
       "      <td>SP</td>\n",
       "      <td>SP</td>\n",
       "      <td>6b7d50bd145f6fc7f33cebabd7e49d0f</td>\n",
       "      <td>230.00</td>\n",
       "      <td>22.25</td>\n",
       "      <td>2018-07-29 09:51:30</td>\n",
       "      <td>2018-08-09 20:55:48</td>\n",
       "      <td>5</td>\n",
       "      <td>11.0</td>\n",
       "    </tr>\n",
       "    <tr>\n",
       "      <th>157</th>\n",
       "      <td>cf7956da5b322ee09795506d6fcb238f</td>\n",
       "      <td>SP</td>\n",
       "      <td>SP</td>\n",
       "      <td>a9dfd8a8ec4fa0a848fb61986bdc153f</td>\n",
       "      <td>129.90</td>\n",
       "      <td>23.62</td>\n",
       "      <td>2018-08-20 13:09:40</td>\n",
       "      <td>2018-08-29 18:32:58</td>\n",
       "      <td>1</td>\n",
       "      <td>9.0</td>\n",
       "    </tr>\n",
       "    <tr>\n",
       "      <th>471</th>\n",
       "      <td>bf4de82f32ef651f28d27c81bcda7407</td>\n",
       "      <td>SP</td>\n",
       "      <td>SP</td>\n",
       "      <td>7cc4f378e3ec48d51a94b7d0da4dbc31</td>\n",
       "      <td>42.00</td>\n",
       "      <td>9.60</td>\n",
       "      <td>2018-06-22 10:44:50</td>\n",
       "      <td>2018-07-03 18:28:41</td>\n",
       "      <td>5</td>\n",
       "      <td>11.0</td>\n",
       "    </tr>\n",
       "    <tr>\n",
       "      <th>628</th>\n",
       "      <td>ede8227cb317f0794d3df6d6407c5d28</td>\n",
       "      <td>SP</td>\n",
       "      <td>SP</td>\n",
       "      <td>22b29d286c0de8b013b0db61ddcb3754</td>\n",
       "      <td>146.99</td>\n",
       "      <td>13.58</td>\n",
       "      <td>2017-11-10 11:04:30</td>\n",
       "      <td>2017-11-18 14:21:26</td>\n",
       "      <td>2</td>\n",
       "      <td>8.0</td>\n",
       "    </tr>\n",
       "    <tr>\n",
       "      <th>785</th>\n",
       "      <td>788cbdfbcd36bc44ed880e34bd010c4e</td>\n",
       "      <td>SP</td>\n",
       "      <td>SP</td>\n",
       "      <td>ed2c99c57389c865c573a025e1d6d34c</td>\n",
       "      <td>19.50</td>\n",
       "      <td>7.40</td>\n",
       "      <td>2018-06-30 20:30:35</td>\n",
       "      <td>2018-07-13 14:51:05</td>\n",
       "      <td>4</td>\n",
       "      <td>12.0</td>\n",
       "    </tr>\n",
       "  </tbody>\n",
       "</table>\n",
       "</div>"
      ],
      "text/plain": [
       "                          customer_id customer_state seller_state  \\\n",
       "0    4f2d8ab171c80ec8364f7c12e35b23ad             SP           SP   \n",
       "157  cf7956da5b322ee09795506d6fcb238f             SP           SP   \n",
       "471  bf4de82f32ef651f28d27c81bcda7407             SP           SP   \n",
       "628  ede8227cb317f0794d3df6d6407c5d28             SP           SP   \n",
       "785  788cbdfbcd36bc44ed880e34bd010c4e             SP           SP   \n",
       "\n",
       "                             order_id   price  freight_value  \\\n",
       "0    6b7d50bd145f6fc7f33cebabd7e49d0f  230.00          22.25   \n",
       "157  a9dfd8a8ec4fa0a848fb61986bdc153f  129.90          23.62   \n",
       "471  7cc4f378e3ec48d51a94b7d0da4dbc31   42.00           9.60   \n",
       "628  22b29d286c0de8b013b0db61ddcb3754  146.99          13.58   \n",
       "785  ed2c99c57389c865c573a025e1d6d34c   19.50           7.40   \n",
       "\n",
       "    order_purchase_timestamp order_delivered_customer_date  review_score  \\\n",
       "0        2018-07-29 09:51:30           2018-08-09 20:55:48             5   \n",
       "157      2018-08-20 13:09:40           2018-08-29 18:32:58             1   \n",
       "471      2018-06-22 10:44:50           2018-07-03 18:28:41             5   \n",
       "628      2017-11-10 11:04:30           2017-11-18 14:21:26             2   \n",
       "785      2018-06-30 20:30:35           2018-07-13 14:51:05             4   \n",
       "\n",
       "     order_duration  \n",
       "0              11.0  \n",
       "157             9.0  \n",
       "471            11.0  \n",
       "628             8.0  \n",
       "785            12.0  "
      ]
     },
     "execution_count": 57,
     "metadata": {},
     "output_type": "execute_result"
    }
   ],
   "source": [
    "rating.head()"
   ]
  },
  {
   "cell_type": "code",
   "execution_count": 58,
   "metadata": {},
   "outputs": [],
   "source": [
    "rating=rating.drop(['order_purchase_timestamp','order_delivered_customer_date'],axis=1)"
   ]
  },
  {
   "cell_type": "code",
   "execution_count": 59,
   "metadata": {},
   "outputs": [
    {
     "data": {
      "text/html": [
       "<div>\n",
       "<style scoped>\n",
       "    .dataframe tbody tr th:only-of-type {\n",
       "        vertical-align: middle;\n",
       "    }\n",
       "\n",
       "    .dataframe tbody tr th {\n",
       "        vertical-align: top;\n",
       "    }\n",
       "\n",
       "    .dataframe thead th {\n",
       "        text-align: right;\n",
       "    }\n",
       "</style>\n",
       "<table border=\"1\" class=\"dataframe\">\n",
       "  <thead>\n",
       "    <tr style=\"text-align: right;\">\n",
       "      <th></th>\n",
       "      <th>customer_id</th>\n",
       "      <th>customer_state</th>\n",
       "      <th>seller_state</th>\n",
       "      <th>order_id</th>\n",
       "      <th>price</th>\n",
       "      <th>freight_value</th>\n",
       "      <th>review_score</th>\n",
       "      <th>order_duration</th>\n",
       "    </tr>\n",
       "  </thead>\n",
       "  <tbody>\n",
       "    <tr>\n",
       "      <th>0</th>\n",
       "      <td>4f2d8ab171c80ec8364f7c12e35b23ad</td>\n",
       "      <td>SP</td>\n",
       "      <td>SP</td>\n",
       "      <td>6b7d50bd145f6fc7f33cebabd7e49d0f</td>\n",
       "      <td>230.00</td>\n",
       "      <td>22.25</td>\n",
       "      <td>5</td>\n",
       "      <td>11.0</td>\n",
       "    </tr>\n",
       "    <tr>\n",
       "      <th>157</th>\n",
       "      <td>cf7956da5b322ee09795506d6fcb238f</td>\n",
       "      <td>SP</td>\n",
       "      <td>SP</td>\n",
       "      <td>a9dfd8a8ec4fa0a848fb61986bdc153f</td>\n",
       "      <td>129.90</td>\n",
       "      <td>23.62</td>\n",
       "      <td>1</td>\n",
       "      <td>9.0</td>\n",
       "    </tr>\n",
       "    <tr>\n",
       "      <th>471</th>\n",
       "      <td>bf4de82f32ef651f28d27c81bcda7407</td>\n",
       "      <td>SP</td>\n",
       "      <td>SP</td>\n",
       "      <td>7cc4f378e3ec48d51a94b7d0da4dbc31</td>\n",
       "      <td>42.00</td>\n",
       "      <td>9.60</td>\n",
       "      <td>5</td>\n",
       "      <td>11.0</td>\n",
       "    </tr>\n",
       "    <tr>\n",
       "      <th>628</th>\n",
       "      <td>ede8227cb317f0794d3df6d6407c5d28</td>\n",
       "      <td>SP</td>\n",
       "      <td>SP</td>\n",
       "      <td>22b29d286c0de8b013b0db61ddcb3754</td>\n",
       "      <td>146.99</td>\n",
       "      <td>13.58</td>\n",
       "      <td>2</td>\n",
       "      <td>8.0</td>\n",
       "    </tr>\n",
       "    <tr>\n",
       "      <th>785</th>\n",
       "      <td>788cbdfbcd36bc44ed880e34bd010c4e</td>\n",
       "      <td>SP</td>\n",
       "      <td>SP</td>\n",
       "      <td>ed2c99c57389c865c573a025e1d6d34c</td>\n",
       "      <td>19.50</td>\n",
       "      <td>7.40</td>\n",
       "      <td>4</td>\n",
       "      <td>12.0</td>\n",
       "    </tr>\n",
       "  </tbody>\n",
       "</table>\n",
       "</div>"
      ],
      "text/plain": [
       "                          customer_id customer_state seller_state  \\\n",
       "0    4f2d8ab171c80ec8364f7c12e35b23ad             SP           SP   \n",
       "157  cf7956da5b322ee09795506d6fcb238f             SP           SP   \n",
       "471  bf4de82f32ef651f28d27c81bcda7407             SP           SP   \n",
       "628  ede8227cb317f0794d3df6d6407c5d28             SP           SP   \n",
       "785  788cbdfbcd36bc44ed880e34bd010c4e             SP           SP   \n",
       "\n",
       "                             order_id   price  freight_value  review_score  \\\n",
       "0    6b7d50bd145f6fc7f33cebabd7e49d0f  230.00          22.25             5   \n",
       "157  a9dfd8a8ec4fa0a848fb61986bdc153f  129.90          23.62             1   \n",
       "471  7cc4f378e3ec48d51a94b7d0da4dbc31   42.00           9.60             5   \n",
       "628  22b29d286c0de8b013b0db61ddcb3754  146.99          13.58             2   \n",
       "785  ed2c99c57389c865c573a025e1d6d34c   19.50           7.40             4   \n",
       "\n",
       "     order_duration  \n",
       "0              11.0  \n",
       "157             9.0  \n",
       "471            11.0  \n",
       "628             8.0  \n",
       "785            12.0  "
      ]
     },
     "execution_count": 59,
     "metadata": {},
     "output_type": "execute_result"
    }
   ],
   "source": [
    "rating.head()"
   ]
  },
  {
   "cell_type": "markdown",
   "metadata": {},
   "source": [
    "# making comment dataframe"
   ]
  },
  {
   "cell_type": "code",
   "execution_count": 126,
   "metadata": {},
   "outputs": [
    {
     "data": {
      "text/plain": [
       "(100000, 6)"
      ]
     },
     "execution_count": 126,
     "metadata": {},
     "output_type": "execute_result"
    }
   ],
   "source": [
    "comment.shape"
   ]
  },
  {
   "cell_type": "code",
   "execution_count": 120,
   "metadata": {},
   "outputs": [],
   "source": [
    "comment=pd.read_excel('Merged_File2.xlsx')"
   ]
  },
  {
   "cell_type": "code",
   "execution_count": 143,
   "metadata": {},
   "outputs": [
    {
     "data": {
      "text/html": [
       "<div>\n",
       "<style scoped>\n",
       "    .dataframe tbody tr th:only-of-type {\n",
       "        vertical-align: middle;\n",
       "    }\n",
       "\n",
       "    .dataframe tbody tr th {\n",
       "        vertical-align: top;\n",
       "    }\n",
       "\n",
       "    .dataframe thead th {\n",
       "        text-align: right;\n",
       "    }\n",
       "</style>\n",
       "<table border=\"1\" class=\"dataframe\">\n",
       "  <thead>\n",
       "    <tr style=\"text-align: right;\">\n",
       "      <th></th>\n",
       "      <th>Unnamed: 0</th>\n",
       "      <th>customer_id</th>\n",
       "      <th>order_id</th>\n",
       "      <th>review_comment_title</th>\n",
       "      <th>review_comment_message</th>\n",
       "      <th>review</th>\n",
       "      <th>review_clean</th>\n",
       "      <th>neg</th>\n",
       "      <th>neu</th>\n",
       "      <th>pos</th>\n",
       "      <th>compound</th>\n",
       "      <th>max value</th>\n",
       "      <th>type_review</th>\n",
       "    </tr>\n",
       "  </thead>\n",
       "  <tbody>\n",
       "    <tr>\n",
       "      <th>0</th>\n",
       "      <td>0</td>\n",
       "      <td>41dcb106f807e993532d446263290104</td>\n",
       "      <td>73fc7af87114b39712e6da79b0a377eb</td>\n",
       "      <td>NaN</td>\n",
       "      <td>NaN</td>\n",
       "      <td></td>\n",
       "      <td></td>\n",
       "      <td>0.0</td>\n",
       "      <td>0.000</td>\n",
       "      <td>0.000</td>\n",
       "      <td>0.0000</td>\n",
       "      <td>0.000</td>\n",
       "      <td>neu</td>\n",
       "    </tr>\n",
       "    <tr>\n",
       "      <th>1</th>\n",
       "      <td>1</td>\n",
       "      <td>8a2e7ef9053dea531e4dc76bd6d853e6</td>\n",
       "      <td>a548910a1c6147796b98fdf73dbeba33</td>\n",
       "      <td>NaN</td>\n",
       "      <td>NaN</td>\n",
       "      <td></td>\n",
       "      <td></td>\n",
       "      <td>0.0</td>\n",
       "      <td>0.000</td>\n",
       "      <td>0.000</td>\n",
       "      <td>0.0000</td>\n",
       "      <td>0.000</td>\n",
       "      <td>neu</td>\n",
       "    </tr>\n",
       "    <tr>\n",
       "      <th>2</th>\n",
       "      <td>2</td>\n",
       "      <td>e226dfed6544df5b7b87a48208690feb</td>\n",
       "      <td>f9e4b658b201a9f2ecdecbb34bed034b</td>\n",
       "      <td>NaN</td>\n",
       "      <td>NaN</td>\n",
       "      <td></td>\n",
       "      <td></td>\n",
       "      <td>0.0</td>\n",
       "      <td>0.000</td>\n",
       "      <td>0.000</td>\n",
       "      <td>0.0000</td>\n",
       "      <td>0.000</td>\n",
       "      <td>neu</td>\n",
       "    </tr>\n",
       "    <tr>\n",
       "      <th>3</th>\n",
       "      <td>3</td>\n",
       "      <td>de6dff97e5f1ba84a3cd9a3bc97df5f6</td>\n",
       "      <td>658677c97b385a9be170737859d3511b</td>\n",
       "      <td>NaN</td>\n",
       "      <td>I received it well before the stipulated deadl...</td>\n",
       "      <td>I received it well before the stipulated dead...</td>\n",
       "      <td>receive well stipulate deadline</td>\n",
       "      <td>0.0</td>\n",
       "      <td>0.741</td>\n",
       "      <td>0.259</td>\n",
       "      <td>0.2732</td>\n",
       "      <td>0.741</td>\n",
       "      <td>neu</td>\n",
       "    </tr>\n",
       "    <tr>\n",
       "      <th>4</th>\n",
       "      <td>4</td>\n",
       "      <td>5986b333ca0d44534a156a52a8e33a83</td>\n",
       "      <td>8e6bfb81e283fa7e4f11123a3fb894f1</td>\n",
       "      <td>NaN</td>\n",
       "      <td>Congratulations lannister stores I loved shopp...</td>\n",
       "      <td>Congratulations lannister stores I loved shop...</td>\n",
       "      <td>congratulation lannister store love shop onlin...</td>\n",
       "      <td>0.0</td>\n",
       "      <td>0.330</td>\n",
       "      <td>0.670</td>\n",
       "      <td>0.9601</td>\n",
       "      <td>0.670</td>\n",
       "      <td>pos</td>\n",
       "    </tr>\n",
       "  </tbody>\n",
       "</table>\n",
       "</div>"
      ],
      "text/plain": [
       "   Unnamed: 0                       customer_id  \\\n",
       "0           0  41dcb106f807e993532d446263290104   \n",
       "1           1  8a2e7ef9053dea531e4dc76bd6d853e6   \n",
       "2           2  e226dfed6544df5b7b87a48208690feb   \n",
       "3           3  de6dff97e5f1ba84a3cd9a3bc97df5f6   \n",
       "4           4  5986b333ca0d44534a156a52a8e33a83   \n",
       "\n",
       "                           order_id review_comment_title  \\\n",
       "0  73fc7af87114b39712e6da79b0a377eb                  NaN   \n",
       "1  a548910a1c6147796b98fdf73dbeba33                  NaN   \n",
       "2  f9e4b658b201a9f2ecdecbb34bed034b                  NaN   \n",
       "3  658677c97b385a9be170737859d3511b                  NaN   \n",
       "4  8e6bfb81e283fa7e4f11123a3fb894f1                  NaN   \n",
       "\n",
       "                              review_comment_message  \\\n",
       "0                                                NaN   \n",
       "1                                                NaN   \n",
       "2                                                NaN   \n",
       "3  I received it well before the stipulated deadl...   \n",
       "4  Congratulations lannister stores I loved shopp...   \n",
       "\n",
       "                                              review  \\\n",
       "0                                                      \n",
       "1                                                      \n",
       "2                                                      \n",
       "3   I received it well before the stipulated dead...   \n",
       "4   Congratulations lannister stores I loved shop...   \n",
       "\n",
       "                                        review_clean  neg    neu    pos  \\\n",
       "0                                                     0.0  0.000  0.000   \n",
       "1                                                     0.0  0.000  0.000   \n",
       "2                                                     0.0  0.000  0.000   \n",
       "3                    receive well stipulate deadline  0.0  0.741  0.259   \n",
       "4  congratulation lannister store love shop onlin...  0.0  0.330  0.670   \n",
       "\n",
       "   compound  max value type_review  \n",
       "0    0.0000      0.000         neu  \n",
       "1    0.0000      0.000         neu  \n",
       "2    0.0000      0.000         neu  \n",
       "3    0.2732      0.741         neu  \n",
       "4    0.9601      0.670         pos  "
      ]
     },
     "execution_count": 143,
     "metadata": {},
     "output_type": "execute_result"
    }
   ],
   "source": [
    "comment.head()"
   ]
  },
  {
   "cell_type": "code",
   "execution_count": 127,
   "metadata": {},
   "outputs": [],
   "source": [
    "comment['review']=comment['review_comment_title'].fillna('').astype(str)+' '+comment['review_comment_message'].fillna('').astype(str)"
   ]
  },
  {
   "cell_type": "code",
   "execution_count": 128,
   "metadata": {},
   "outputs": [
    {
     "data": {
      "text/html": [
       "<div>\n",
       "<style scoped>\n",
       "    .dataframe tbody tr th:only-of-type {\n",
       "        vertical-align: middle;\n",
       "    }\n",
       "\n",
       "    .dataframe tbody tr th {\n",
       "        vertical-align: top;\n",
       "    }\n",
       "\n",
       "    .dataframe thead th {\n",
       "        text-align: right;\n",
       "    }\n",
       "</style>\n",
       "<table border=\"1\" class=\"dataframe\">\n",
       "  <thead>\n",
       "    <tr style=\"text-align: right;\">\n",
       "      <th></th>\n",
       "      <th>Unnamed: 0</th>\n",
       "      <th>customer_id</th>\n",
       "      <th>order_id</th>\n",
       "      <th>review_comment_title</th>\n",
       "      <th>review_comment_message</th>\n",
       "      <th>review</th>\n",
       "    </tr>\n",
       "  </thead>\n",
       "  <tbody>\n",
       "    <tr>\n",
       "      <th>0</th>\n",
       "      <td>0</td>\n",
       "      <td>41dcb106f807e993532d446263290104</td>\n",
       "      <td>73fc7af87114b39712e6da79b0a377eb</td>\n",
       "      <td>NaN</td>\n",
       "      <td>NaN</td>\n",
       "      <td></td>\n",
       "    </tr>\n",
       "    <tr>\n",
       "      <th>1</th>\n",
       "      <td>1</td>\n",
       "      <td>8a2e7ef9053dea531e4dc76bd6d853e6</td>\n",
       "      <td>a548910a1c6147796b98fdf73dbeba33</td>\n",
       "      <td>NaN</td>\n",
       "      <td>NaN</td>\n",
       "      <td></td>\n",
       "    </tr>\n",
       "    <tr>\n",
       "      <th>2</th>\n",
       "      <td>2</td>\n",
       "      <td>e226dfed6544df5b7b87a48208690feb</td>\n",
       "      <td>f9e4b658b201a9f2ecdecbb34bed034b</td>\n",
       "      <td>NaN</td>\n",
       "      <td>NaN</td>\n",
       "      <td></td>\n",
       "    </tr>\n",
       "    <tr>\n",
       "      <th>3</th>\n",
       "      <td>3</td>\n",
       "      <td>de6dff97e5f1ba84a3cd9a3bc97df5f6</td>\n",
       "      <td>658677c97b385a9be170737859d3511b</td>\n",
       "      <td>NaN</td>\n",
       "      <td>I received it well before the stipulated deadl...</td>\n",
       "      <td>I received it well before the stipulated dead...</td>\n",
       "    </tr>\n",
       "    <tr>\n",
       "      <th>4</th>\n",
       "      <td>4</td>\n",
       "      <td>5986b333ca0d44534a156a52a8e33a83</td>\n",
       "      <td>8e6bfb81e283fa7e4f11123a3fb894f1</td>\n",
       "      <td>NaN</td>\n",
       "      <td>Congratulations lannister stores I loved shopp...</td>\n",
       "      <td>Congratulations lannister stores I loved shop...</td>\n",
       "    </tr>\n",
       "    <tr>\n",
       "      <th>5</th>\n",
       "      <td>5</td>\n",
       "      <td>eecafc3ff695f031bfe354a9fff9d437</td>\n",
       "      <td>b18dcdf73be66366873cd26c5724d1dc</td>\n",
       "      <td>NaN</td>\n",
       "      <td>NaN</td>\n",
       "      <td></td>\n",
       "    </tr>\n",
       "    <tr>\n",
       "      <th>6</th>\n",
       "      <td>6</td>\n",
       "      <td>840be0730010e9580efd289bc9f37706</td>\n",
       "      <td>e48aa0d2dcec3a2e87348811bcfdf22b</td>\n",
       "      <td>NaN</td>\n",
       "      <td>NaN</td>\n",
       "      <td></td>\n",
       "    </tr>\n",
       "    <tr>\n",
       "      <th>7</th>\n",
       "      <td>7</td>\n",
       "      <td>98f485515e575607a8003b17e91990bd</td>\n",
       "      <td>c31a859e34e3adac22f376954e19b39d</td>\n",
       "      <td>NaN</td>\n",
       "      <td>NaN</td>\n",
       "      <td></td>\n",
       "    </tr>\n",
       "    <tr>\n",
       "      <th>8</th>\n",
       "      <td>8</td>\n",
       "      <td>daf813bc2e41c86027d086e8dfb35571</td>\n",
       "      <td>9c214ac970e84273583ab523dfafd09b</td>\n",
       "      <td>NaN</td>\n",
       "      <td>NaN</td>\n",
       "      <td></td>\n",
       "    </tr>\n",
       "    <tr>\n",
       "      <th>9</th>\n",
       "      <td>9</td>\n",
       "      <td>a5224bdc7685fd39cd7a23404415493d</td>\n",
       "      <td>b9bf720beb4ab3728760088589c62129</td>\n",
       "      <td>I recommend</td>\n",
       "      <td>Efficient appliance. on the website the brand ...</td>\n",
       "      <td>I recommend Efficient appliance. on the websit...</td>\n",
       "    </tr>\n",
       "  </tbody>\n",
       "</table>\n",
       "</div>"
      ],
      "text/plain": [
       "   Unnamed: 0                       customer_id  \\\n",
       "0           0  41dcb106f807e993532d446263290104   \n",
       "1           1  8a2e7ef9053dea531e4dc76bd6d853e6   \n",
       "2           2  e226dfed6544df5b7b87a48208690feb   \n",
       "3           3  de6dff97e5f1ba84a3cd9a3bc97df5f6   \n",
       "4           4  5986b333ca0d44534a156a52a8e33a83   \n",
       "5           5  eecafc3ff695f031bfe354a9fff9d437   \n",
       "6           6  840be0730010e9580efd289bc9f37706   \n",
       "7           7  98f485515e575607a8003b17e91990bd   \n",
       "8           8  daf813bc2e41c86027d086e8dfb35571   \n",
       "9           9  a5224bdc7685fd39cd7a23404415493d   \n",
       "\n",
       "                           order_id review_comment_title  \\\n",
       "0  73fc7af87114b39712e6da79b0a377eb                  NaN   \n",
       "1  a548910a1c6147796b98fdf73dbeba33                  NaN   \n",
       "2  f9e4b658b201a9f2ecdecbb34bed034b                  NaN   \n",
       "3  658677c97b385a9be170737859d3511b                  NaN   \n",
       "4  8e6bfb81e283fa7e4f11123a3fb894f1                  NaN   \n",
       "5  b18dcdf73be66366873cd26c5724d1dc                  NaN   \n",
       "6  e48aa0d2dcec3a2e87348811bcfdf22b                  NaN   \n",
       "7  c31a859e34e3adac22f376954e19b39d                  NaN   \n",
       "8  9c214ac970e84273583ab523dfafd09b                  NaN   \n",
       "9  b9bf720beb4ab3728760088589c62129          I recommend   \n",
       "\n",
       "                              review_comment_message  \\\n",
       "0                                                NaN   \n",
       "1                                                NaN   \n",
       "2                                                NaN   \n",
       "3  I received it well before the stipulated deadl...   \n",
       "4  Congratulations lannister stores I loved shopp...   \n",
       "5                                                NaN   \n",
       "6                                                NaN   \n",
       "7                                                NaN   \n",
       "8                                                NaN   \n",
       "9  Efficient appliance. on the website the brand ...   \n",
       "\n",
       "                                              review  \n",
       "0                                                     \n",
       "1                                                     \n",
       "2                                                     \n",
       "3   I received it well before the stipulated dead...  \n",
       "4   Congratulations lannister stores I loved shop...  \n",
       "5                                                     \n",
       "6                                                     \n",
       "7                                                     \n",
       "8                                                     \n",
       "9  I recommend Efficient appliance. on the websit...  "
      ]
     },
     "execution_count": 128,
     "metadata": {},
     "output_type": "execute_result"
    }
   ],
   "source": [
    "comment.head(10)"
   ]
  },
  {
   "cell_type": "code",
   "execution_count": null,
   "metadata": {},
   "outputs": [],
   "source": [
    "comment['review']"
   ]
  },
  {
   "cell_type": "markdown",
   "metadata": {},
   "source": [
    "# applying nltk for sentiment analysis on comments to classify them into positive, negative or neutral comments."
   ]
  },
  {
   "cell_type": "code",
   "execution_count": 81,
   "metadata": {},
   "outputs": [],
   "source": [
    "from nltk.corpus import wordnet\n",
    "\n",
    "def get_wordnet_pos(pos_tag):\n",
    "    if pos_tag.startswith('J'):\n",
    "        return wordnet.ADJ\n",
    "    elif pos_tag.startswith('V'):\n",
    "        return wordnet.VERB\n",
    "    elif pos_tag.startswith('N'):\n",
    "        return wordnet.NOUN\n",
    "    elif pos_tag.startswith('R'):\n",
    "        return wordnet.ADV\n",
    "    else:\n",
    "        return wordnet.NOUN"
   ]
  },
  {
   "cell_type": "code",
   "execution_count": 83,
   "metadata": {},
   "outputs": [],
   "source": [
    "import string\n",
    "from nltk import pos_tag\n",
    "from nltk.corpus import stopwords\n",
    "from nltk.tokenize import WhitespaceTokenizer\n",
    "from nltk.stem import WordNetLemmatizer"
   ]
  },
  {
   "cell_type": "code",
   "execution_count": 84,
   "metadata": {},
   "outputs": [],
   "source": [
    "\n",
    "    \n",
    "\n",
    "\n",
    "def clean_text(text):\n",
    "    # lower text\n",
    "    text = text.lower()\n",
    "    # tokenize text and remove puncutation\n",
    "    text = [word.strip(string.punctuation) for word in text.split(\" \")]\n",
    "    # remove words that contain numbers\n",
    "    text = [word for word in text if not any(c.isdigit() for c in word)]\n",
    "    # remove stop words\n",
    "    stop = stopwords.words('english')\n",
    "    text = [x for x in text if x not in stop]\n",
    "    # remove empty tokens\n",
    "    text = [t for t in text if len(t) > 0]\n",
    "    # pos tag text\n",
    "    pos_tags = pos_tag(text)\n",
    "    # lemmatize text\n",
    "    text = [WordNetLemmatizer().lemmatize(t[0], get_wordnet_pos(t[1])) for t in pos_tags]\n",
    "    # remove words with only one letter\n",
    "    text = [t for t in text if len(t) > 1]\n",
    "    # join all\n",
    "    text = \" \".join(text)\n",
    "    return(text)\n",
    "\n"
   ]
  },
  {
   "cell_type": "code",
   "execution_count": null,
   "metadata": {},
   "outputs": [],
   "source": [
    "import nltk\n",
    "nltk.download()"
   ]
  },
  {
   "cell_type": "code",
   "execution_count": 87,
   "metadata": {},
   "outputs": [
    {
     "name": "stdout",
     "output_type": "stream",
     "text": [
      "Requirement already satisfied: nltk in c:\\users\\hp\\anaconda3\\lib\\site-packages (3.5)\n",
      "Collecting nltk\n",
      "  Downloading nltk-3.6.2-py3-none-any.whl (1.5 MB)\n",
      "Requirement already satisfied: tqdm in c:\\users\\hp\\anaconda3\\lib\\site-packages (from nltk) (4.50.2)\n",
      "Requirement already satisfied: click in c:\\users\\hp\\anaconda3\\lib\\site-packages (from nltk) (7.1.2)\n",
      "Requirement already satisfied: joblib in c:\\users\\hp\\anaconda3\\lib\\site-packages (from nltk) (0.17.0)\n",
      "Requirement already satisfied: regex in c:\\users\\hp\\anaconda3\\lib\\site-packages (from nltk) (2020.10.15)\n",
      "Installing collected packages: nltk\n",
      "Successfully installed nltk-3.6.2\n",
      "Note: you may need to restart the kernel to use updated packages.\n"
     ]
    },
    {
     "name": "stderr",
     "output_type": "stream",
     "text": [
      "  WARNING: The script nltk.exe is installed in 'C:\\Users\\hp\\AppData\\Roaming\\Python\\Python38\\Scripts' which is not on PATH.\n",
      "  Consider adding this directory to PATH or, if you prefer to suppress this warning, use --no-warn-script-location.\n",
      "WARNING: You are using pip version 21.1.2; however, version 21.2.4 is available.\n",
      "You should consider upgrading via the 'C:\\Users\\hp\\anaconda3\\python.exe -m pip install --upgrade pip' command.\n"
     ]
    }
   ],
   "source": [
    "pip install --user -U nltk"
   ]
  },
  {
   "cell_type": "code",
   "execution_count": 89,
   "metadata": {},
   "outputs": [],
   "source": [
    "import nltk"
   ]
  },
  {
   "cell_type": "code",
   "execution_count": 90,
   "metadata": {},
   "outputs": [
    {
     "name": "stderr",
     "output_type": "stream",
     "text": [
      "[nltk_data] Downloading package stopwords to\n",
      "[nltk_data]     C:\\Users\\hp\\AppData\\Roaming\\nltk_data...\n",
      "[nltk_data]   Unzipping corpora\\stopwords.zip.\n"
     ]
    },
    {
     "data": {
      "text/plain": [
       "True"
      ]
     },
     "execution_count": 90,
     "metadata": {},
     "output_type": "execute_result"
    }
   ],
   "source": [
    "nltk.download('stopwords')"
   ]
  },
  {
   "cell_type": "code",
   "execution_count": 92,
   "metadata": {},
   "outputs": [
    {
     "name": "stderr",
     "output_type": "stream",
     "text": [
      "[nltk_data] Downloading package averaged_perceptron_tagger to\n",
      "[nltk_data]     C:\\Users\\hp\\AppData\\Roaming\\nltk_data...\n",
      "[nltk_data]   Unzipping taggers\\averaged_perceptron_tagger.zip.\n"
     ]
    },
    {
     "data": {
      "text/plain": [
       "True"
      ]
     },
     "execution_count": 92,
     "metadata": {},
     "output_type": "execute_result"
    }
   ],
   "source": [
    "nltk.download('averaged_perceptron_tagger')"
   ]
  },
  {
   "cell_type": "code",
   "execution_count": 94,
   "metadata": {},
   "outputs": [
    {
     "name": "stderr",
     "output_type": "stream",
     "text": [
      "[nltk_data] Downloading package wordnet to\n",
      "[nltk_data]     C:\\Users\\hp\\AppData\\Roaming\\nltk_data...\n",
      "[nltk_data]   Unzipping corpora\\wordnet.zip.\n"
     ]
    },
    {
     "data": {
      "text/plain": [
       "True"
      ]
     },
     "execution_count": 94,
     "metadata": {},
     "output_type": "execute_result"
    }
   ],
   "source": [
    "nltk.download('wordnet')"
   ]
  },
  {
   "cell_type": "code",
   "execution_count": 129,
   "metadata": {},
   "outputs": [],
   "source": [
    "comment[\"review_clean\"] = comment[\"review\"].apply(lambda x: clean_text(x))"
   ]
  },
  {
   "cell_type": "code",
   "execution_count": 130,
   "metadata": {},
   "outputs": [
    {
     "data": {
      "text/html": [
       "<div>\n",
       "<style scoped>\n",
       "    .dataframe tbody tr th:only-of-type {\n",
       "        vertical-align: middle;\n",
       "    }\n",
       "\n",
       "    .dataframe tbody tr th {\n",
       "        vertical-align: top;\n",
       "    }\n",
       "\n",
       "    .dataframe thead th {\n",
       "        text-align: right;\n",
       "    }\n",
       "</style>\n",
       "<table border=\"1\" class=\"dataframe\">\n",
       "  <thead>\n",
       "    <tr style=\"text-align: right;\">\n",
       "      <th></th>\n",
       "      <th>Unnamed: 0</th>\n",
       "      <th>customer_id</th>\n",
       "      <th>order_id</th>\n",
       "      <th>review_comment_title</th>\n",
       "      <th>review_comment_message</th>\n",
       "      <th>review</th>\n",
       "      <th>review_clean</th>\n",
       "    </tr>\n",
       "  </thead>\n",
       "  <tbody>\n",
       "    <tr>\n",
       "      <th>0</th>\n",
       "      <td>0</td>\n",
       "      <td>41dcb106f807e993532d446263290104</td>\n",
       "      <td>73fc7af87114b39712e6da79b0a377eb</td>\n",
       "      <td>NaN</td>\n",
       "      <td>NaN</td>\n",
       "      <td></td>\n",
       "      <td></td>\n",
       "    </tr>\n",
       "    <tr>\n",
       "      <th>1</th>\n",
       "      <td>1</td>\n",
       "      <td>8a2e7ef9053dea531e4dc76bd6d853e6</td>\n",
       "      <td>a548910a1c6147796b98fdf73dbeba33</td>\n",
       "      <td>NaN</td>\n",
       "      <td>NaN</td>\n",
       "      <td></td>\n",
       "      <td></td>\n",
       "    </tr>\n",
       "    <tr>\n",
       "      <th>2</th>\n",
       "      <td>2</td>\n",
       "      <td>e226dfed6544df5b7b87a48208690feb</td>\n",
       "      <td>f9e4b658b201a9f2ecdecbb34bed034b</td>\n",
       "      <td>NaN</td>\n",
       "      <td>NaN</td>\n",
       "      <td></td>\n",
       "      <td></td>\n",
       "    </tr>\n",
       "    <tr>\n",
       "      <th>3</th>\n",
       "      <td>3</td>\n",
       "      <td>de6dff97e5f1ba84a3cd9a3bc97df5f6</td>\n",
       "      <td>658677c97b385a9be170737859d3511b</td>\n",
       "      <td>NaN</td>\n",
       "      <td>I received it well before the stipulated deadl...</td>\n",
       "      <td>I received it well before the stipulated dead...</td>\n",
       "      <td>receive well stipulate deadline</td>\n",
       "    </tr>\n",
       "    <tr>\n",
       "      <th>4</th>\n",
       "      <td>4</td>\n",
       "      <td>5986b333ca0d44534a156a52a8e33a83</td>\n",
       "      <td>8e6bfb81e283fa7e4f11123a3fb894f1</td>\n",
       "      <td>NaN</td>\n",
       "      <td>Congratulations lannister stores I loved shopp...</td>\n",
       "      <td>Congratulations lannister stores I loved shop...</td>\n",
       "      <td>congratulation lannister store love shop onlin...</td>\n",
       "    </tr>\n",
       "  </tbody>\n",
       "</table>\n",
       "</div>"
      ],
      "text/plain": [
       "   Unnamed: 0                       customer_id  \\\n",
       "0           0  41dcb106f807e993532d446263290104   \n",
       "1           1  8a2e7ef9053dea531e4dc76bd6d853e6   \n",
       "2           2  e226dfed6544df5b7b87a48208690feb   \n",
       "3           3  de6dff97e5f1ba84a3cd9a3bc97df5f6   \n",
       "4           4  5986b333ca0d44534a156a52a8e33a83   \n",
       "\n",
       "                           order_id review_comment_title  \\\n",
       "0  73fc7af87114b39712e6da79b0a377eb                  NaN   \n",
       "1  a548910a1c6147796b98fdf73dbeba33                  NaN   \n",
       "2  f9e4b658b201a9f2ecdecbb34bed034b                  NaN   \n",
       "3  658677c97b385a9be170737859d3511b                  NaN   \n",
       "4  8e6bfb81e283fa7e4f11123a3fb894f1                  NaN   \n",
       "\n",
       "                              review_comment_message  \\\n",
       "0                                                NaN   \n",
       "1                                                NaN   \n",
       "2                                                NaN   \n",
       "3  I received it well before the stipulated deadl...   \n",
       "4  Congratulations lannister stores I loved shopp...   \n",
       "\n",
       "                                              review  \\\n",
       "0                                                      \n",
       "1                                                      \n",
       "2                                                      \n",
       "3   I received it well before the stipulated dead...   \n",
       "4   Congratulations lannister stores I loved shop...   \n",
       "\n",
       "                                        review_clean  \n",
       "0                                                     \n",
       "1                                                     \n",
       "2                                                     \n",
       "3                    receive well stipulate deadline  \n",
       "4  congratulation lannister store love shop onlin...  "
      ]
     },
     "execution_count": 130,
     "metadata": {},
     "output_type": "execute_result"
    }
   ],
   "source": [
    "comment.head()"
   ]
  },
  {
   "cell_type": "code",
   "execution_count": 106,
   "metadata": {},
   "outputs": [],
   "source": [
    "#comment=comment.iloc[0:200]"
   ]
  },
  {
   "cell_type": "code",
   "execution_count": 131,
   "metadata": {},
   "outputs": [],
   "source": [
    "# add sentiment anaylsis columns\n",
    "from nltk.sentiment.vader import SentimentIntensityAnalyzer\n",
    "\n",
    "sid = SentimentIntensityAnalyzer()\n",
    "comment[\"sentiments\"] = comment[\"review\"].apply(lambda x: sid.polarity_scores(x))\n",
    "comment = pd.concat([comment.drop(['sentiments'], axis=1), comment['sentiments'].apply(pd.Series)], axis=1)\n"
   ]
  },
  {
   "cell_type": "code",
   "execution_count": 104,
   "metadata": {},
   "outputs": [
    {
     "name": "stderr",
     "output_type": "stream",
     "text": [
      "[nltk_data] Downloading package vader_lexicon to\n",
      "[nltk_data]     C:\\Users\\hp\\AppData\\Roaming\\nltk_data...\n"
     ]
    },
    {
     "data": {
      "text/plain": [
       "True"
      ]
     },
     "execution_count": 104,
     "metadata": {},
     "output_type": "execute_result"
    }
   ],
   "source": [
    "nltk.download('vader_lexicon')"
   ]
  },
  {
   "cell_type": "code",
   "execution_count": 134,
   "metadata": {},
   "outputs": [
    {
     "data": {
      "text/html": [
       "<div>\n",
       "<style scoped>\n",
       "    .dataframe tbody tr th:only-of-type {\n",
       "        vertical-align: middle;\n",
       "    }\n",
       "\n",
       "    .dataframe tbody tr th {\n",
       "        vertical-align: top;\n",
       "    }\n",
       "\n",
       "    .dataframe thead th {\n",
       "        text-align: right;\n",
       "    }\n",
       "</style>\n",
       "<table border=\"1\" class=\"dataframe\">\n",
       "  <thead>\n",
       "    <tr style=\"text-align: right;\">\n",
       "      <th></th>\n",
       "      <th>Unnamed: 0</th>\n",
       "      <th>customer_id</th>\n",
       "      <th>order_id</th>\n",
       "      <th>review_comment_title</th>\n",
       "      <th>review_comment_message</th>\n",
       "      <th>review</th>\n",
       "      <th>review_clean</th>\n",
       "      <th>neg</th>\n",
       "      <th>neu</th>\n",
       "      <th>pos</th>\n",
       "      <th>compound</th>\n",
       "    </tr>\n",
       "  </thead>\n",
       "  <tbody>\n",
       "    <tr>\n",
       "      <th>0</th>\n",
       "      <td>0</td>\n",
       "      <td>41dcb106f807e993532d446263290104</td>\n",
       "      <td>73fc7af87114b39712e6da79b0a377eb</td>\n",
       "      <td>NaN</td>\n",
       "      <td>NaN</td>\n",
       "      <td></td>\n",
       "      <td></td>\n",
       "      <td>0.0</td>\n",
       "      <td>0.000</td>\n",
       "      <td>0.000</td>\n",
       "      <td>0.0000</td>\n",
       "    </tr>\n",
       "    <tr>\n",
       "      <th>1</th>\n",
       "      <td>1</td>\n",
       "      <td>8a2e7ef9053dea531e4dc76bd6d853e6</td>\n",
       "      <td>a548910a1c6147796b98fdf73dbeba33</td>\n",
       "      <td>NaN</td>\n",
       "      <td>NaN</td>\n",
       "      <td></td>\n",
       "      <td></td>\n",
       "      <td>0.0</td>\n",
       "      <td>0.000</td>\n",
       "      <td>0.000</td>\n",
       "      <td>0.0000</td>\n",
       "    </tr>\n",
       "    <tr>\n",
       "      <th>2</th>\n",
       "      <td>2</td>\n",
       "      <td>e226dfed6544df5b7b87a48208690feb</td>\n",
       "      <td>f9e4b658b201a9f2ecdecbb34bed034b</td>\n",
       "      <td>NaN</td>\n",
       "      <td>NaN</td>\n",
       "      <td></td>\n",
       "      <td></td>\n",
       "      <td>0.0</td>\n",
       "      <td>0.000</td>\n",
       "      <td>0.000</td>\n",
       "      <td>0.0000</td>\n",
       "    </tr>\n",
       "    <tr>\n",
       "      <th>3</th>\n",
       "      <td>3</td>\n",
       "      <td>de6dff97e5f1ba84a3cd9a3bc97df5f6</td>\n",
       "      <td>658677c97b385a9be170737859d3511b</td>\n",
       "      <td>NaN</td>\n",
       "      <td>I received it well before the stipulated deadl...</td>\n",
       "      <td>I received it well before the stipulated dead...</td>\n",
       "      <td>receive well stipulate deadline</td>\n",
       "      <td>0.0</td>\n",
       "      <td>0.741</td>\n",
       "      <td>0.259</td>\n",
       "      <td>0.2732</td>\n",
       "    </tr>\n",
       "    <tr>\n",
       "      <th>4</th>\n",
       "      <td>4</td>\n",
       "      <td>5986b333ca0d44534a156a52a8e33a83</td>\n",
       "      <td>8e6bfb81e283fa7e4f11123a3fb894f1</td>\n",
       "      <td>NaN</td>\n",
       "      <td>Congratulations lannister stores I loved shopp...</td>\n",
       "      <td>Congratulations lannister stores I loved shop...</td>\n",
       "      <td>congratulation lannister store love shop onlin...</td>\n",
       "      <td>0.0</td>\n",
       "      <td>0.330</td>\n",
       "      <td>0.670</td>\n",
       "      <td>0.9601</td>\n",
       "    </tr>\n",
       "  </tbody>\n",
       "</table>\n",
       "</div>"
      ],
      "text/plain": [
       "   Unnamed: 0                       customer_id  \\\n",
       "0           0  41dcb106f807e993532d446263290104   \n",
       "1           1  8a2e7ef9053dea531e4dc76bd6d853e6   \n",
       "2           2  e226dfed6544df5b7b87a48208690feb   \n",
       "3           3  de6dff97e5f1ba84a3cd9a3bc97df5f6   \n",
       "4           4  5986b333ca0d44534a156a52a8e33a83   \n",
       "\n",
       "                           order_id review_comment_title  \\\n",
       "0  73fc7af87114b39712e6da79b0a377eb                  NaN   \n",
       "1  a548910a1c6147796b98fdf73dbeba33                  NaN   \n",
       "2  f9e4b658b201a9f2ecdecbb34bed034b                  NaN   \n",
       "3  658677c97b385a9be170737859d3511b                  NaN   \n",
       "4  8e6bfb81e283fa7e4f11123a3fb894f1                  NaN   \n",
       "\n",
       "                              review_comment_message  \\\n",
       "0                                                NaN   \n",
       "1                                                NaN   \n",
       "2                                                NaN   \n",
       "3  I received it well before the stipulated deadl...   \n",
       "4  Congratulations lannister stores I loved shopp...   \n",
       "\n",
       "                                              review  \\\n",
       "0                                                      \n",
       "1                                                      \n",
       "2                                                      \n",
       "3   I received it well before the stipulated dead...   \n",
       "4   Congratulations lannister stores I loved shop...   \n",
       "\n",
       "                                        review_clean  neg    neu    pos  \\\n",
       "0                                                     0.0  0.000  0.000   \n",
       "1                                                     0.0  0.000  0.000   \n",
       "2                                                     0.0  0.000  0.000   \n",
       "3                    receive well stipulate deadline  0.0  0.741  0.259   \n",
       "4  congratulation lannister store love shop onlin...  0.0  0.330  0.670   \n",
       "\n",
       "   compound  \n",
       "0    0.0000  \n",
       "1    0.0000  \n",
       "2    0.0000  \n",
       "3    0.2732  \n",
       "4    0.9601  "
      ]
     },
     "execution_count": 134,
     "metadata": {},
     "output_type": "execute_result"
    }
   ],
   "source": [
    "comment.head()"
   ]
  },
  {
   "cell_type": "markdown",
   "metadata": {},
   "source": [
    "# classify according to major ratio of sentiment"
   ]
  },
  {
   "cell_type": "code",
   "execution_count": 140,
   "metadata": {},
   "outputs": [],
   "source": [
    "comment['max value'] = comment[['neu','neg','pos']].max(axis=1)"
   ]
  },
  {
   "cell_type": "code",
   "execution_count": 141,
   "metadata": {},
   "outputs": [],
   "source": [
    "comment['type_review'] = comment[['neu','neg','pos']].idxmax(axis=1)"
   ]
  },
  {
   "cell_type": "code",
   "execution_count": 346,
   "metadata": {},
   "outputs": [
    {
     "data": {
      "text/html": [
       "<div>\n",
       "<style scoped>\n",
       "    .dataframe tbody tr th:only-of-type {\n",
       "        vertical-align: middle;\n",
       "    }\n",
       "\n",
       "    .dataframe tbody tr th {\n",
       "        vertical-align: top;\n",
       "    }\n",
       "\n",
       "    .dataframe thead th {\n",
       "        text-align: right;\n",
       "    }\n",
       "</style>\n",
       "<table border=\"1\" class=\"dataframe\">\n",
       "  <thead>\n",
       "    <tr style=\"text-align: right;\">\n",
       "      <th></th>\n",
       "      <th>Unnamed: 0</th>\n",
       "      <th>customer_id</th>\n",
       "      <th>order_id</th>\n",
       "      <th>review_comment_title</th>\n",
       "      <th>review_comment_message</th>\n",
       "      <th>review</th>\n",
       "      <th>review_clean</th>\n",
       "      <th>neg</th>\n",
       "      <th>neu</th>\n",
       "      <th>pos</th>\n",
       "      <th>compound</th>\n",
       "      <th>max value</th>\n",
       "      <th>type_review</th>\n",
       "    </tr>\n",
       "  </thead>\n",
       "  <tbody>\n",
       "    <tr>\n",
       "      <th>0</th>\n",
       "      <td>0</td>\n",
       "      <td>41dcb106f807e993532d446263290104</td>\n",
       "      <td>73fc7af87114b39712e6da79b0a377eb</td>\n",
       "      <td>NaN</td>\n",
       "      <td>NaN</td>\n",
       "      <td></td>\n",
       "      <td></td>\n",
       "      <td>0.000</td>\n",
       "      <td>0.000</td>\n",
       "      <td>0.000</td>\n",
       "      <td>0.0000</td>\n",
       "      <td>0.000</td>\n",
       "      <td>neu</td>\n",
       "    </tr>\n",
       "    <tr>\n",
       "      <th>1</th>\n",
       "      <td>1</td>\n",
       "      <td>8a2e7ef9053dea531e4dc76bd6d853e6</td>\n",
       "      <td>a548910a1c6147796b98fdf73dbeba33</td>\n",
       "      <td>NaN</td>\n",
       "      <td>NaN</td>\n",
       "      <td></td>\n",
       "      <td></td>\n",
       "      <td>0.000</td>\n",
       "      <td>0.000</td>\n",
       "      <td>0.000</td>\n",
       "      <td>0.0000</td>\n",
       "      <td>0.000</td>\n",
       "      <td>neu</td>\n",
       "    </tr>\n",
       "    <tr>\n",
       "      <th>2</th>\n",
       "      <td>2</td>\n",
       "      <td>e226dfed6544df5b7b87a48208690feb</td>\n",
       "      <td>f9e4b658b201a9f2ecdecbb34bed034b</td>\n",
       "      <td>NaN</td>\n",
       "      <td>NaN</td>\n",
       "      <td></td>\n",
       "      <td></td>\n",
       "      <td>0.000</td>\n",
       "      <td>0.000</td>\n",
       "      <td>0.000</td>\n",
       "      <td>0.0000</td>\n",
       "      <td>0.000</td>\n",
       "      <td>neu</td>\n",
       "    </tr>\n",
       "    <tr>\n",
       "      <th>3</th>\n",
       "      <td>3</td>\n",
       "      <td>de6dff97e5f1ba84a3cd9a3bc97df5f6</td>\n",
       "      <td>658677c97b385a9be170737859d3511b</td>\n",
       "      <td>NaN</td>\n",
       "      <td>I received it well before the stipulated deadl...</td>\n",
       "      <td>I received it well before the stipulated dead...</td>\n",
       "      <td>receive well stipulate deadline</td>\n",
       "      <td>0.000</td>\n",
       "      <td>0.741</td>\n",
       "      <td>0.259</td>\n",
       "      <td>0.2732</td>\n",
       "      <td>0.741</td>\n",
       "      <td>neu</td>\n",
       "    </tr>\n",
       "    <tr>\n",
       "      <th>4</th>\n",
       "      <td>4</td>\n",
       "      <td>5986b333ca0d44534a156a52a8e33a83</td>\n",
       "      <td>8e6bfb81e283fa7e4f11123a3fb894f1</td>\n",
       "      <td>NaN</td>\n",
       "      <td>Congratulations lannister stores I loved shopp...</td>\n",
       "      <td>Congratulations lannister stores I loved shop...</td>\n",
       "      <td>congratulation lannister store love shop onlin...</td>\n",
       "      <td>0.000</td>\n",
       "      <td>0.330</td>\n",
       "      <td>0.670</td>\n",
       "      <td>0.9601</td>\n",
       "      <td>0.670</td>\n",
       "      <td>pos</td>\n",
       "    </tr>\n",
       "    <tr>\n",
       "      <th>5</th>\n",
       "      <td>5</td>\n",
       "      <td>eecafc3ff695f031bfe354a9fff9d437</td>\n",
       "      <td>b18dcdf73be66366873cd26c5724d1dc</td>\n",
       "      <td>NaN</td>\n",
       "      <td>NaN</td>\n",
       "      <td></td>\n",
       "      <td></td>\n",
       "      <td>0.000</td>\n",
       "      <td>0.000</td>\n",
       "      <td>0.000</td>\n",
       "      <td>0.0000</td>\n",
       "      <td>0.000</td>\n",
       "      <td>neu</td>\n",
       "    </tr>\n",
       "    <tr>\n",
       "      <th>6</th>\n",
       "      <td>6</td>\n",
       "      <td>840be0730010e9580efd289bc9f37706</td>\n",
       "      <td>e48aa0d2dcec3a2e87348811bcfdf22b</td>\n",
       "      <td>NaN</td>\n",
       "      <td>NaN</td>\n",
       "      <td></td>\n",
       "      <td></td>\n",
       "      <td>0.000</td>\n",
       "      <td>0.000</td>\n",
       "      <td>0.000</td>\n",
       "      <td>0.0000</td>\n",
       "      <td>0.000</td>\n",
       "      <td>neu</td>\n",
       "    </tr>\n",
       "    <tr>\n",
       "      <th>7</th>\n",
       "      <td>7</td>\n",
       "      <td>98f485515e575607a8003b17e91990bd</td>\n",
       "      <td>c31a859e34e3adac22f376954e19b39d</td>\n",
       "      <td>NaN</td>\n",
       "      <td>NaN</td>\n",
       "      <td></td>\n",
       "      <td></td>\n",
       "      <td>0.000</td>\n",
       "      <td>0.000</td>\n",
       "      <td>0.000</td>\n",
       "      <td>0.0000</td>\n",
       "      <td>0.000</td>\n",
       "      <td>neu</td>\n",
       "    </tr>\n",
       "    <tr>\n",
       "      <th>8</th>\n",
       "      <td>8</td>\n",
       "      <td>daf813bc2e41c86027d086e8dfb35571</td>\n",
       "      <td>9c214ac970e84273583ab523dfafd09b</td>\n",
       "      <td>NaN</td>\n",
       "      <td>NaN</td>\n",
       "      <td></td>\n",
       "      <td></td>\n",
       "      <td>0.000</td>\n",
       "      <td>0.000</td>\n",
       "      <td>0.000</td>\n",
       "      <td>0.0000</td>\n",
       "      <td>0.000</td>\n",
       "      <td>neu</td>\n",
       "    </tr>\n",
       "    <tr>\n",
       "      <th>9</th>\n",
       "      <td>9</td>\n",
       "      <td>a5224bdc7685fd39cd7a23404415493d</td>\n",
       "      <td>b9bf720beb4ab3728760088589c62129</td>\n",
       "      <td>I recommend</td>\n",
       "      <td>Efficient appliance. on the website the brand ...</td>\n",
       "      <td>I recommend Efficient appliance. on the websit...</td>\n",
       "      <td>recommend efficient appliance. on website bran...</td>\n",
       "      <td>0.000</td>\n",
       "      <td>0.854</td>\n",
       "      <td>0.146</td>\n",
       "      <td>0.6486</td>\n",
       "      <td>0.854</td>\n",
       "      <td>neu</td>\n",
       "    </tr>\n",
       "    <tr>\n",
       "      <th>10</th>\n",
       "      <td>10</td>\n",
       "      <td>272b46feddddc51904608ddd90feee33</td>\n",
       "      <td>cdf9aa68e72324eeb25c7de974696ee2</td>\n",
       "      <td>NaN</td>\n",
       "      <td>NaN</td>\n",
       "      <td></td>\n",
       "      <td></td>\n",
       "      <td>0.000</td>\n",
       "      <td>0.000</td>\n",
       "      <td>0.000</td>\n",
       "      <td>0.0000</td>\n",
       "      <td>0.000</td>\n",
       "      <td>neu</td>\n",
       "    </tr>\n",
       "    <tr>\n",
       "      <th>11</th>\n",
       "      <td>11</td>\n",
       "      <td>b1af08103e1e17838522e5b9fbe2ed11</td>\n",
       "      <td>3d374c9e46530bb5ed4a7648915306a6</td>\n",
       "      <td>NaN</td>\n",
       "      <td>NaN</td>\n",
       "      <td></td>\n",
       "      <td></td>\n",
       "      <td>0.000</td>\n",
       "      <td>0.000</td>\n",
       "      <td>0.000</td>\n",
       "      <td>0.0000</td>\n",
       "      <td>0.000</td>\n",
       "      <td>neu</td>\n",
       "    </tr>\n",
       "    <tr>\n",
       "      <th>12</th>\n",
       "      <td>12</td>\n",
       "      <td>8ebbeb09e94d1e789142983f73faa9cd</td>\n",
       "      <td>9d6f15f95d01e79bd1349cc208361f09</td>\n",
       "      <td>NaN</td>\n",
       "      <td>But a little bit, locking... for the value ta ...</td>\n",
       "      <td>But a little bit, locking... for the value ta...</td>\n",
       "      <td>little bit lock value ta</td>\n",
       "      <td>0.000</td>\n",
       "      <td>0.769</td>\n",
       "      <td>0.231</td>\n",
       "      <td>0.3400</td>\n",
       "      <td>0.769</td>\n",
       "      <td>neu</td>\n",
       "    </tr>\n",
       "    <tr>\n",
       "      <th>13</th>\n",
       "      <td>13</td>\n",
       "      <td>9d53af6298240d4573ca6e52bcfa6c63</td>\n",
       "      <td>2eaf8e099d871cd5c22b83b5ea8f6e0e</td>\n",
       "      <td>NaN</td>\n",
       "      <td>NaN</td>\n",
       "      <td></td>\n",
       "      <td></td>\n",
       "      <td>0.000</td>\n",
       "      <td>0.000</td>\n",
       "      <td>0.000</td>\n",
       "      <td>0.0000</td>\n",
       "      <td>0.000</td>\n",
       "      <td>neu</td>\n",
       "    </tr>\n",
       "    <tr>\n",
       "      <th>14</th>\n",
       "      <td>14</td>\n",
       "      <td>12a063cae60cd7bc2f0029514b21d24c</td>\n",
       "      <td>d7bd0e4afdf94846eb73642b4e3e75c3</td>\n",
       "      <td>NaN</td>\n",
       "      <td>NaN</td>\n",
       "      <td></td>\n",
       "      <td></td>\n",
       "      <td>0.000</td>\n",
       "      <td>0.000</td>\n",
       "      <td>0.000</td>\n",
       "      <td>0.0000</td>\n",
       "      <td>0.000</td>\n",
       "      <td>neu</td>\n",
       "    </tr>\n",
       "    <tr>\n",
       "      <th>15</th>\n",
       "      <td>15</td>\n",
       "      <td>659ded3e9b43aaf51cf9586d03033b46</td>\n",
       "      <td>e51478e7e277a83743b6f9991dbfa3fb</td>\n",
       "      <td>I highly recommend</td>\n",
       "      <td>Reliable seller, product ok and delivery befor...</td>\n",
       "      <td>I highly recommend Reliable seller, product ok...</td>\n",
       "      <td>highly recommend reliable seller product ok de...</td>\n",
       "      <td>0.000</td>\n",
       "      <td>0.616</td>\n",
       "      <td>0.384</td>\n",
       "      <td>0.6115</td>\n",
       "      <td>0.616</td>\n",
       "      <td>neu</td>\n",
       "    </tr>\n",
       "    <tr>\n",
       "      <th>16</th>\n",
       "      <td>16</td>\n",
       "      <td>db13a417a95ad304e9674468c17ade85</td>\n",
       "      <td>0dacf04c5ad59fd5a0cc1faa07c34e39</td>\n",
       "      <td>NaN</td>\n",
       "      <td>I WOULD LIKE TO KNOW WHAT THERE WAS, I ALWAYS ...</td>\n",
       "      <td>I WOULD LIKE TO KNOW WHAT THERE WAS, I ALWAYS...</td>\n",
       "      <td>would like know always receive purchase disapp...</td>\n",
       "      <td>0.167</td>\n",
       "      <td>0.699</td>\n",
       "      <td>0.134</td>\n",
       "      <td>-0.1531</td>\n",
       "      <td>0.699</td>\n",
       "      <td>neu</td>\n",
       "    </tr>\n",
       "    <tr>\n",
       "      <th>17</th>\n",
       "      <td>17</td>\n",
       "      <td>0f3c16514be9fe9bdb840983701d2ce6</td>\n",
       "      <td>ff1581e08b3011021e7c7de592ddc81e</td>\n",
       "      <td>NaN</td>\n",
       "      <td>NaN</td>\n",
       "      <td></td>\n",
       "      <td></td>\n",
       "      <td>0.000</td>\n",
       "      <td>0.000</td>\n",
       "      <td>0.000</td>\n",
       "      <td>0.0000</td>\n",
       "      <td>0.000</td>\n",
       "      <td>neu</td>\n",
       "    </tr>\n",
       "    <tr>\n",
       "      <th>18</th>\n",
       "      <td>18</td>\n",
       "      <td>db3234528c502acda9991fd53d7223d6</td>\n",
       "      <td>70a752414a13d09cc1f2b437b914b28e</td>\n",
       "      <td>NaN</td>\n",
       "      <td>NaN</td>\n",
       "      <td></td>\n",
       "      <td></td>\n",
       "      <td>0.000</td>\n",
       "      <td>0.000</td>\n",
       "      <td>0.000</td>\n",
       "      <td>0.0000</td>\n",
       "      <td>0.000</td>\n",
       "      <td>neu</td>\n",
       "    </tr>\n",
       "    <tr>\n",
       "      <th>19</th>\n",
       "      <td>19</td>\n",
       "      <td>e545e697bb9d1b81e0a702121d4e94d5</td>\n",
       "      <td>583174fbe37d3d5f0d6661be3aad1786</td>\n",
       "      <td>My product did not arrive</td>\n",
       "      <td>bad</td>\n",
       "      <td>My product did not arrive bad</td>\n",
       "      <td>product arrive bad</td>\n",
       "      <td>0.000</td>\n",
       "      <td>0.637</td>\n",
       "      <td>0.363</td>\n",
       "      <td>0.4310</td>\n",
       "      <td>0.637</td>\n",
       "      <td>neu</td>\n",
       "    </tr>\n",
       "  </tbody>\n",
       "</table>\n",
       "</div>"
      ],
      "text/plain": [
       "    Unnamed: 0                       customer_id  \\\n",
       "0            0  41dcb106f807e993532d446263290104   \n",
       "1            1  8a2e7ef9053dea531e4dc76bd6d853e6   \n",
       "2            2  e226dfed6544df5b7b87a48208690feb   \n",
       "3            3  de6dff97e5f1ba84a3cd9a3bc97df5f6   \n",
       "4            4  5986b333ca0d44534a156a52a8e33a83   \n",
       "5            5  eecafc3ff695f031bfe354a9fff9d437   \n",
       "6            6  840be0730010e9580efd289bc9f37706   \n",
       "7            7  98f485515e575607a8003b17e91990bd   \n",
       "8            8  daf813bc2e41c86027d086e8dfb35571   \n",
       "9            9  a5224bdc7685fd39cd7a23404415493d   \n",
       "10          10  272b46feddddc51904608ddd90feee33   \n",
       "11          11  b1af08103e1e17838522e5b9fbe2ed11   \n",
       "12          12  8ebbeb09e94d1e789142983f73faa9cd   \n",
       "13          13  9d53af6298240d4573ca6e52bcfa6c63   \n",
       "14          14  12a063cae60cd7bc2f0029514b21d24c   \n",
       "15          15  659ded3e9b43aaf51cf9586d03033b46   \n",
       "16          16  db13a417a95ad304e9674468c17ade85   \n",
       "17          17  0f3c16514be9fe9bdb840983701d2ce6   \n",
       "18          18  db3234528c502acda9991fd53d7223d6   \n",
       "19          19  e545e697bb9d1b81e0a702121d4e94d5   \n",
       "\n",
       "                            order_id       review_comment_title  \\\n",
       "0   73fc7af87114b39712e6da79b0a377eb                        NaN   \n",
       "1   a548910a1c6147796b98fdf73dbeba33                        NaN   \n",
       "2   f9e4b658b201a9f2ecdecbb34bed034b                        NaN   \n",
       "3   658677c97b385a9be170737859d3511b                        NaN   \n",
       "4   8e6bfb81e283fa7e4f11123a3fb894f1                        NaN   \n",
       "5   b18dcdf73be66366873cd26c5724d1dc                        NaN   \n",
       "6   e48aa0d2dcec3a2e87348811bcfdf22b                        NaN   \n",
       "7   c31a859e34e3adac22f376954e19b39d                        NaN   \n",
       "8   9c214ac970e84273583ab523dfafd09b                        NaN   \n",
       "9   b9bf720beb4ab3728760088589c62129                I recommend   \n",
       "10  cdf9aa68e72324eeb25c7de974696ee2                        NaN   \n",
       "11  3d374c9e46530bb5ed4a7648915306a6                        NaN   \n",
       "12  9d6f15f95d01e79bd1349cc208361f09                        NaN   \n",
       "13  2eaf8e099d871cd5c22b83b5ea8f6e0e                        NaN   \n",
       "14  d7bd0e4afdf94846eb73642b4e3e75c3                        NaN   \n",
       "15  e51478e7e277a83743b6f9991dbfa3fb         I highly recommend   \n",
       "16  0dacf04c5ad59fd5a0cc1faa07c34e39                        NaN   \n",
       "17  ff1581e08b3011021e7c7de592ddc81e                        NaN   \n",
       "18  70a752414a13d09cc1f2b437b914b28e                        NaN   \n",
       "19  583174fbe37d3d5f0d6661be3aad1786  My product did not arrive   \n",
       "\n",
       "                               review_comment_message  \\\n",
       "0                                                 NaN   \n",
       "1                                                 NaN   \n",
       "2                                                 NaN   \n",
       "3   I received it well before the stipulated deadl...   \n",
       "4   Congratulations lannister stores I loved shopp...   \n",
       "5                                                 NaN   \n",
       "6                                                 NaN   \n",
       "7                                                 NaN   \n",
       "8                                                 NaN   \n",
       "9   Efficient appliance. on the website the brand ...   \n",
       "10                                                NaN   \n",
       "11                                                NaN   \n",
       "12  But a little bit, locking... for the value ta ...   \n",
       "13                                                NaN   \n",
       "14                                                NaN   \n",
       "15  Reliable seller, product ok and delivery befor...   \n",
       "16  I WOULD LIKE TO KNOW WHAT THERE WAS, I ALWAYS ...   \n",
       "17                                                NaN   \n",
       "18                                                NaN   \n",
       "19                                                bad   \n",
       "\n",
       "                                               review  \\\n",
       "0                                                       \n",
       "1                                                       \n",
       "2                                                       \n",
       "3    I received it well before the stipulated dead...   \n",
       "4    Congratulations lannister stores I loved shop...   \n",
       "5                                                       \n",
       "6                                                       \n",
       "7                                                       \n",
       "8                                                       \n",
       "9   I recommend Efficient appliance. on the websit...   \n",
       "10                                                      \n",
       "11                                                      \n",
       "12   But a little bit, locking... for the value ta...   \n",
       "13                                                      \n",
       "14                                                      \n",
       "15  I highly recommend Reliable seller, product ok...   \n",
       "16   I WOULD LIKE TO KNOW WHAT THERE WAS, I ALWAYS...   \n",
       "17                                                      \n",
       "18                                                      \n",
       "19                      My product did not arrive bad   \n",
       "\n",
       "                                         review_clean    neg    neu    pos  \\\n",
       "0                                                      0.000  0.000  0.000   \n",
       "1                                                      0.000  0.000  0.000   \n",
       "2                                                      0.000  0.000  0.000   \n",
       "3                     receive well stipulate deadline  0.000  0.741  0.259   \n",
       "4   congratulation lannister store love shop onlin...  0.000  0.330  0.670   \n",
       "5                                                      0.000  0.000  0.000   \n",
       "6                                                      0.000  0.000  0.000   \n",
       "7                                                      0.000  0.000  0.000   \n",
       "8                                                      0.000  0.000  0.000   \n",
       "9   recommend efficient appliance. on website bran...  0.000  0.854  0.146   \n",
       "10                                                     0.000  0.000  0.000   \n",
       "11                                                     0.000  0.000  0.000   \n",
       "12                           little bit lock value ta  0.000  0.769  0.231   \n",
       "13                                                     0.000  0.000  0.000   \n",
       "14                                                     0.000  0.000  0.000   \n",
       "15  highly recommend reliable seller product ok de...  0.000  0.616  0.384   \n",
       "16  would like know always receive purchase disapp...  0.167  0.699  0.134   \n",
       "17                                                     0.000  0.000  0.000   \n",
       "18                                                     0.000  0.000  0.000   \n",
       "19                                 product arrive bad  0.000  0.637  0.363   \n",
       "\n",
       "    compound  max value type_review  \n",
       "0     0.0000      0.000         neu  \n",
       "1     0.0000      0.000         neu  \n",
       "2     0.0000      0.000         neu  \n",
       "3     0.2732      0.741         neu  \n",
       "4     0.9601      0.670         pos  \n",
       "5     0.0000      0.000         neu  \n",
       "6     0.0000      0.000         neu  \n",
       "7     0.0000      0.000         neu  \n",
       "8     0.0000      0.000         neu  \n",
       "9     0.6486      0.854         neu  \n",
       "10    0.0000      0.000         neu  \n",
       "11    0.0000      0.000         neu  \n",
       "12    0.3400      0.769         neu  \n",
       "13    0.0000      0.000         neu  \n",
       "14    0.0000      0.000         neu  \n",
       "15    0.6115      0.616         neu  \n",
       "16   -0.1531      0.699         neu  \n",
       "17    0.0000      0.000         neu  \n",
       "18    0.0000      0.000         neu  \n",
       "19    0.4310      0.637         neu  "
      ]
     },
     "execution_count": 346,
     "metadata": {},
     "output_type": "execute_result"
    }
   ],
   "source": [
    "comment.head(20)"
   ]
  },
  {
   "cell_type": "code",
   "execution_count": 347,
   "metadata": {},
   "outputs": [
    {
     "data": {
      "text/plain": [
       "(100000, 13)"
      ]
     },
     "execution_count": 347,
     "metadata": {},
     "output_type": "execute_result"
    }
   ],
   "source": [
    "comment.shape"
   ]
  },
  {
   "cell_type": "code",
   "execution_count": 348,
   "metadata": {},
   "outputs": [
    {
     "data": {
      "text/plain": [
       "neu    83954\n",
       "pos    14716\n",
       "neg     1330\n",
       "Name: type_review, dtype: int64"
      ]
     },
     "execution_count": 348,
     "metadata": {},
     "output_type": "execute_result"
    }
   ],
   "source": [
    "comment['type_review'].value_counts()"
   ]
  },
  {
   "cell_type": "markdown",
   "metadata": {},
   "source": [
    "# merge all important features"
   ]
  },
  {
   "cell_type": "code",
   "execution_count": 362,
   "metadata": {},
   "outputs": [],
   "source": [
    "rating_final = pd.merge( rating, comment, on = 'order_id', how='inner')"
   ]
  },
  {
   "cell_type": "code",
   "execution_count": 363,
   "metadata": {},
   "outputs": [
    {
     "data": {
      "text/plain": [
       "(28654, 20)"
      ]
     },
     "execution_count": 363,
     "metadata": {},
     "output_type": "execute_result"
    }
   ],
   "source": [
    "rating_final.shape"
   ]
  },
  {
   "cell_type": "code",
   "execution_count": 364,
   "metadata": {},
   "outputs": [
    {
     "data": {
      "text/html": [
       "<div>\n",
       "<style scoped>\n",
       "    .dataframe tbody tr th:only-of-type {\n",
       "        vertical-align: middle;\n",
       "    }\n",
       "\n",
       "    .dataframe tbody tr th {\n",
       "        vertical-align: top;\n",
       "    }\n",
       "\n",
       "    .dataframe thead th {\n",
       "        text-align: right;\n",
       "    }\n",
       "</style>\n",
       "<table border=\"1\" class=\"dataframe\">\n",
       "  <thead>\n",
       "    <tr style=\"text-align: right;\">\n",
       "      <th></th>\n",
       "      <th>customer_id_x</th>\n",
       "      <th>customer_state</th>\n",
       "      <th>seller_state</th>\n",
       "      <th>order_id</th>\n",
       "      <th>price</th>\n",
       "      <th>freight_value</th>\n",
       "      <th>review_score</th>\n",
       "      <th>order_duration</th>\n",
       "      <th>Unnamed: 0</th>\n",
       "      <th>customer_id_y</th>\n",
       "      <th>review_comment_title</th>\n",
       "      <th>review_comment_message</th>\n",
       "      <th>review</th>\n",
       "      <th>review_clean</th>\n",
       "      <th>neg</th>\n",
       "      <th>neu</th>\n",
       "      <th>pos</th>\n",
       "      <th>compound</th>\n",
       "      <th>max value</th>\n",
       "      <th>type_review</th>\n",
       "    </tr>\n",
       "  </thead>\n",
       "  <tbody>\n",
       "    <tr>\n",
       "      <th>0</th>\n",
       "      <td>4f2d8ab171c80ec8364f7c12e35b23ad</td>\n",
       "      <td>SP</td>\n",
       "      <td>SP</td>\n",
       "      <td>6b7d50bd145f6fc7f33cebabd7e49d0f</td>\n",
       "      <td>230.00</td>\n",
       "      <td>22.25</td>\n",
       "      <td>5</td>\n",
       "      <td>11.0</td>\n",
       "      <td>32121</td>\n",
       "      <td>4f2d8ab171c80ec8364f7c12e35b23ad</td>\n",
       "      <td>the best grade</td>\n",
       "      <td>NaN</td>\n",
       "      <td>the best grade</td>\n",
       "      <td>best grade</td>\n",
       "      <td>0.0</td>\n",
       "      <td>0.323</td>\n",
       "      <td>0.677</td>\n",
       "      <td>0.6369</td>\n",
       "      <td>0.677</td>\n",
       "      <td>pos</td>\n",
       "    </tr>\n",
       "    <tr>\n",
       "      <th>1</th>\n",
       "      <td>cf7956da5b322ee09795506d6fcb238f</td>\n",
       "      <td>SP</td>\n",
       "      <td>SP</td>\n",
       "      <td>a9dfd8a8ec4fa0a848fb61986bdc153f</td>\n",
       "      <td>129.90</td>\n",
       "      <td>23.62</td>\n",
       "      <td>1</td>\n",
       "      <td>9.0</td>\n",
       "      <td>79560</td>\n",
       "      <td>cf7956da5b322ee09795506d6fcb238f</td>\n",
       "      <td>Was not delivered</td>\n",
       "      <td>NaN</td>\n",
       "      <td>Was not delivered</td>\n",
       "      <td>deliver</td>\n",
       "      <td>0.0</td>\n",
       "      <td>1.000</td>\n",
       "      <td>0.000</td>\n",
       "      <td>0.0000</td>\n",
       "      <td>1.000</td>\n",
       "      <td>neu</td>\n",
       "    </tr>\n",
       "    <tr>\n",
       "      <th>2</th>\n",
       "      <td>bf4de82f32ef651f28d27c81bcda7407</td>\n",
       "      <td>SP</td>\n",
       "      <td>SP</td>\n",
       "      <td>7cc4f378e3ec48d51a94b7d0da4dbc31</td>\n",
       "      <td>42.00</td>\n",
       "      <td>9.60</td>\n",
       "      <td>5</td>\n",
       "      <td>11.0</td>\n",
       "      <td>90294</td>\n",
       "      <td>bf4de82f32ef651f28d27c81bcda7407</td>\n",
       "      <td>NaN</td>\n",
       "      <td>Arrived well before the proposed</td>\n",
       "      <td>Arrived well before the proposed</td>\n",
       "      <td>arrive well propose</td>\n",
       "      <td>0.0</td>\n",
       "      <td>0.656</td>\n",
       "      <td>0.344</td>\n",
       "      <td>0.2732</td>\n",
       "      <td>0.656</td>\n",
       "      <td>neu</td>\n",
       "    </tr>\n",
       "    <tr>\n",
       "      <th>3</th>\n",
       "      <td>ede8227cb317f0794d3df6d6407c5d28</td>\n",
       "      <td>SP</td>\n",
       "      <td>SP</td>\n",
       "      <td>22b29d286c0de8b013b0db61ddcb3754</td>\n",
       "      <td>146.99</td>\n",
       "      <td>13.58</td>\n",
       "      <td>2</td>\n",
       "      <td>8.0</td>\n",
       "      <td>77571</td>\n",
       "      <td>ede8227cb317f0794d3df6d6407c5d28</td>\n",
       "      <td>NaN</td>\n",
       "      <td>NaN</td>\n",
       "      <td></td>\n",
       "      <td></td>\n",
       "      <td>0.0</td>\n",
       "      <td>0.000</td>\n",
       "      <td>0.000</td>\n",
       "      <td>0.0000</td>\n",
       "      <td>0.000</td>\n",
       "      <td>neu</td>\n",
       "    </tr>\n",
       "    <tr>\n",
       "      <th>4</th>\n",
       "      <td>788cbdfbcd36bc44ed880e34bd010c4e</td>\n",
       "      <td>SP</td>\n",
       "      <td>SP</td>\n",
       "      <td>ed2c99c57389c865c573a025e1d6d34c</td>\n",
       "      <td>19.50</td>\n",
       "      <td>7.40</td>\n",
       "      <td>4</td>\n",
       "      <td>12.0</td>\n",
       "      <td>21388</td>\n",
       "      <td>788cbdfbcd36bc44ed880e34bd010c4e</td>\n",
       "      <td>NaN</td>\n",
       "      <td>I bought 3 units..._x000D_</td>\n",
       "      <td>I bought 3 units..._x000D_</td>\n",
       "      <td>bought</td>\n",
       "      <td>0.0</td>\n",
       "      <td>1.000</td>\n",
       "      <td>0.000</td>\n",
       "      <td>0.0000</td>\n",
       "      <td>1.000</td>\n",
       "      <td>neu</td>\n",
       "    </tr>\n",
       "  </tbody>\n",
       "</table>\n",
       "</div>"
      ],
      "text/plain": [
       "                      customer_id_x customer_state seller_state  \\\n",
       "0  4f2d8ab171c80ec8364f7c12e35b23ad             SP           SP   \n",
       "1  cf7956da5b322ee09795506d6fcb238f             SP           SP   \n",
       "2  bf4de82f32ef651f28d27c81bcda7407             SP           SP   \n",
       "3  ede8227cb317f0794d3df6d6407c5d28             SP           SP   \n",
       "4  788cbdfbcd36bc44ed880e34bd010c4e             SP           SP   \n",
       "\n",
       "                           order_id   price  freight_value  review_score  \\\n",
       "0  6b7d50bd145f6fc7f33cebabd7e49d0f  230.00          22.25             5   \n",
       "1  a9dfd8a8ec4fa0a848fb61986bdc153f  129.90          23.62             1   \n",
       "2  7cc4f378e3ec48d51a94b7d0da4dbc31   42.00           9.60             5   \n",
       "3  22b29d286c0de8b013b0db61ddcb3754  146.99          13.58             2   \n",
       "4  ed2c99c57389c865c573a025e1d6d34c   19.50           7.40             4   \n",
       "\n",
       "   order_duration  Unnamed: 0                     customer_id_y  \\\n",
       "0            11.0       32121  4f2d8ab171c80ec8364f7c12e35b23ad   \n",
       "1             9.0       79560  cf7956da5b322ee09795506d6fcb238f   \n",
       "2            11.0       90294  bf4de82f32ef651f28d27c81bcda7407   \n",
       "3             8.0       77571  ede8227cb317f0794d3df6d6407c5d28   \n",
       "4            12.0       21388  788cbdfbcd36bc44ed880e34bd010c4e   \n",
       "\n",
       "  review_comment_title            review_comment_message  \\\n",
       "0       the best grade                               NaN   \n",
       "1    Was not delivered                               NaN   \n",
       "2                  NaN  Arrived well before the proposed   \n",
       "3                  NaN                               NaN   \n",
       "4                  NaN        I bought 3 units..._x000D_   \n",
       "\n",
       "                              review         review_clean  neg    neu    pos  \\\n",
       "0                    the best grade            best grade  0.0  0.323  0.677   \n",
       "1                 Was not delivered               deliver  0.0  1.000  0.000   \n",
       "2   Arrived well before the proposed  arrive well propose  0.0  0.656  0.344   \n",
       "3                                                          0.0  0.000  0.000   \n",
       "4         I bought 3 units..._x000D_               bought  0.0  1.000  0.000   \n",
       "\n",
       "   compound  max value type_review  \n",
       "0    0.6369      0.677         pos  \n",
       "1    0.0000      1.000         neu  \n",
       "2    0.2732      0.656         neu  \n",
       "3    0.0000      0.000         neu  \n",
       "4    0.0000      1.000         neu  "
      ]
     },
     "execution_count": 364,
     "metadata": {},
     "output_type": "execute_result"
    }
   ],
   "source": [
    "rating_final.head()"
   ]
  },
  {
   "cell_type": "code",
   "execution_count": 365,
   "metadata": {},
   "outputs": [],
   "source": [
    "rating_final=rating_final.drop(['customer_id_x','Unnamed: 0','customer_id_y','review_comment_title',\n",
    "                               'review_comment_message','review','review_clean','neg','pos','neu','max value','order_id','compound'],axis=1)"
   ]
  },
  {
   "cell_type": "code",
   "execution_count": 366,
   "metadata": {},
   "outputs": [
    {
     "data": {
      "text/html": [
       "<div>\n",
       "<style scoped>\n",
       "    .dataframe tbody tr th:only-of-type {\n",
       "        vertical-align: middle;\n",
       "    }\n",
       "\n",
       "    .dataframe tbody tr th {\n",
       "        vertical-align: top;\n",
       "    }\n",
       "\n",
       "    .dataframe thead th {\n",
       "        text-align: right;\n",
       "    }\n",
       "</style>\n",
       "<table border=\"1\" class=\"dataframe\">\n",
       "  <thead>\n",
       "    <tr style=\"text-align: right;\">\n",
       "      <th></th>\n",
       "      <th>customer_state</th>\n",
       "      <th>seller_state</th>\n",
       "      <th>price</th>\n",
       "      <th>freight_value</th>\n",
       "      <th>review_score</th>\n",
       "      <th>order_duration</th>\n",
       "      <th>type_review</th>\n",
       "    </tr>\n",
       "  </thead>\n",
       "  <tbody>\n",
       "    <tr>\n",
       "      <th>0</th>\n",
       "      <td>SP</td>\n",
       "      <td>SP</td>\n",
       "      <td>230.00</td>\n",
       "      <td>22.25</td>\n",
       "      <td>5</td>\n",
       "      <td>11.0</td>\n",
       "      <td>pos</td>\n",
       "    </tr>\n",
       "    <tr>\n",
       "      <th>1</th>\n",
       "      <td>SP</td>\n",
       "      <td>SP</td>\n",
       "      <td>129.90</td>\n",
       "      <td>23.62</td>\n",
       "      <td>1</td>\n",
       "      <td>9.0</td>\n",
       "      <td>neu</td>\n",
       "    </tr>\n",
       "    <tr>\n",
       "      <th>2</th>\n",
       "      <td>SP</td>\n",
       "      <td>SP</td>\n",
       "      <td>42.00</td>\n",
       "      <td>9.60</td>\n",
       "      <td>5</td>\n",
       "      <td>11.0</td>\n",
       "      <td>neu</td>\n",
       "    </tr>\n",
       "    <tr>\n",
       "      <th>3</th>\n",
       "      <td>SP</td>\n",
       "      <td>SP</td>\n",
       "      <td>146.99</td>\n",
       "      <td>13.58</td>\n",
       "      <td>2</td>\n",
       "      <td>8.0</td>\n",
       "      <td>neu</td>\n",
       "    </tr>\n",
       "    <tr>\n",
       "      <th>4</th>\n",
       "      <td>SP</td>\n",
       "      <td>SP</td>\n",
       "      <td>19.50</td>\n",
       "      <td>7.40</td>\n",
       "      <td>4</td>\n",
       "      <td>12.0</td>\n",
       "      <td>neu</td>\n",
       "    </tr>\n",
       "  </tbody>\n",
       "</table>\n",
       "</div>"
      ],
      "text/plain": [
       "  customer_state seller_state   price  freight_value  review_score  \\\n",
       "0             SP           SP  230.00          22.25             5   \n",
       "1             SP           SP  129.90          23.62             1   \n",
       "2             SP           SP   42.00           9.60             5   \n",
       "3             SP           SP  146.99          13.58             2   \n",
       "4             SP           SP   19.50           7.40             4   \n",
       "\n",
       "   order_duration type_review  \n",
       "0            11.0         pos  \n",
       "1             9.0         neu  \n",
       "2            11.0         neu  \n",
       "3             8.0         neu  \n",
       "4            12.0         neu  "
      ]
     },
     "execution_count": 366,
     "metadata": {},
     "output_type": "execute_result"
    }
   ],
   "source": [
    "rating_final.head()"
   ]
  },
  {
   "cell_type": "code",
   "execution_count": 367,
   "metadata": {},
   "outputs": [
    {
     "data": {
      "text/html": [
       "<div>\n",
       "<style scoped>\n",
       "    .dataframe tbody tr th:only-of-type {\n",
       "        vertical-align: middle;\n",
       "    }\n",
       "\n",
       "    .dataframe tbody tr th {\n",
       "        vertical-align: top;\n",
       "    }\n",
       "\n",
       "    .dataframe thead th {\n",
       "        text-align: right;\n",
       "    }\n",
       "</style>\n",
       "<table border=\"1\" class=\"dataframe\">\n",
       "  <thead>\n",
       "    <tr style=\"text-align: right;\">\n",
       "      <th></th>\n",
       "      <th>customer_state</th>\n",
       "      <th>seller_state</th>\n",
       "      <th>price</th>\n",
       "      <th>freight_value</th>\n",
       "      <th>review_score</th>\n",
       "      <th>order_duration</th>\n",
       "      <th>type_review</th>\n",
       "    </tr>\n",
       "  </thead>\n",
       "  <tbody>\n",
       "    <tr>\n",
       "      <th>7</th>\n",
       "      <td>SP</td>\n",
       "      <td>SP</td>\n",
       "      <td>159.90</td>\n",
       "      <td>19.22</td>\n",
       "      <td>1</td>\n",
       "      <td>13.0</td>\n",
       "      <td>neg</td>\n",
       "    </tr>\n",
       "    <tr>\n",
       "      <th>27</th>\n",
       "      <td>SP</td>\n",
       "      <td>SP</td>\n",
       "      <td>30.00</td>\n",
       "      <td>7.47</td>\n",
       "      <td>1</td>\n",
       "      <td>10.0</td>\n",
       "      <td>neg</td>\n",
       "    </tr>\n",
       "    <tr>\n",
       "      <th>169</th>\n",
       "      <td>MG</td>\n",
       "      <td>MG</td>\n",
       "      <td>46.75</td>\n",
       "      <td>18.23</td>\n",
       "      <td>1</td>\n",
       "      <td>16.0</td>\n",
       "      <td>neg</td>\n",
       "    </tr>\n",
       "    <tr>\n",
       "      <th>171</th>\n",
       "      <td>MG</td>\n",
       "      <td>MG</td>\n",
       "      <td>99.99</td>\n",
       "      <td>27.84</td>\n",
       "      <td>4</td>\n",
       "      <td>3.0</td>\n",
       "      <td>neg</td>\n",
       "    </tr>\n",
       "    <tr>\n",
       "      <th>172</th>\n",
       "      <td>MG</td>\n",
       "      <td>MG</td>\n",
       "      <td>69.90</td>\n",
       "      <td>27.84</td>\n",
       "      <td>4</td>\n",
       "      <td>3.0</td>\n",
       "      <td>neg</td>\n",
       "    </tr>\n",
       "  </tbody>\n",
       "</table>\n",
       "</div>"
      ],
      "text/plain": [
       "    customer_state seller_state   price  freight_value  review_score  \\\n",
       "7               SP           SP  159.90          19.22             1   \n",
       "27              SP           SP   30.00           7.47             1   \n",
       "169             MG           MG   46.75          18.23             1   \n",
       "171             MG           MG   99.99          27.84             4   \n",
       "172             MG           MG   69.90          27.84             4   \n",
       "\n",
       "     order_duration type_review  \n",
       "7              13.0         neg  \n",
       "27             10.0         neg  \n",
       "169            16.0         neg  \n",
       "171             3.0         neg  \n",
       "172             3.0         neg  "
      ]
     },
     "execution_count": 367,
     "metadata": {},
     "output_type": "execute_result"
    }
   ],
   "source": [
    "rating_final[rating_final['type_review']=='neg'].head()"
   ]
  },
  {
   "cell_type": "code",
   "execution_count": 368,
   "metadata": {},
   "outputs": [
    {
     "data": {
      "text/plain": [
       "5    17118\n",
       "4     5431\n",
       "1     2881\n",
       "3     2357\n",
       "2      867\n",
       "Name: review_score, dtype: int64"
      ]
     },
     "execution_count": 368,
     "metadata": {},
     "output_type": "execute_result"
    }
   ],
   "source": [
    "rating_final['review_score'].value_counts()"
   ]
  },
  {
   "cell_type": "markdown",
   "metadata": {},
   "source": [
    "# splitting product rating into good,bad or normal."
   ]
  },
  {
   "cell_type": "code",
   "execution_count": 369,
   "metadata": {},
   "outputs": [],
   "source": [
    "rating_final['review_score']=rating_final['review_score'].astype(str)"
   ]
  },
  {
   "cell_type": "code",
   "execution_count": 370,
   "metadata": {},
   "outputs": [],
   "source": [
    "def review(x):\n",
    "    for i in x:\n",
    "        if i=='1' or i=='2':\n",
    "            return 'bad'\n",
    "        if i=='3':\n",
    "            return 'normal'\n",
    "        if i=='4' or i=='5':\n",
    "            return 'good'\n",
    "    \n",
    "\n",
    "rating_final['review_score']=rating_final['review_score'].map(review)"
   ]
  },
  {
   "cell_type": "code",
   "execution_count": 371,
   "metadata": {},
   "outputs": [
    {
     "data": {
      "text/plain": [
       "good      22549\n",
       "bad        3748\n",
       "normal     2357\n",
       "Name: review_score, dtype: int64"
      ]
     },
     "execution_count": 371,
     "metadata": {},
     "output_type": "execute_result"
    }
   ],
   "source": [
    "rating_final['review_score'].value_counts()"
   ]
  },
  {
   "cell_type": "code",
   "execution_count": 372,
   "metadata": {},
   "outputs": [
    {
     "data": {
      "text/html": [
       "<div>\n",
       "<style scoped>\n",
       "    .dataframe tbody tr th:only-of-type {\n",
       "        vertical-align: middle;\n",
       "    }\n",
       "\n",
       "    .dataframe tbody tr th {\n",
       "        vertical-align: top;\n",
       "    }\n",
       "\n",
       "    .dataframe thead th {\n",
       "        text-align: right;\n",
       "    }\n",
       "</style>\n",
       "<table border=\"1\" class=\"dataframe\">\n",
       "  <thead>\n",
       "    <tr style=\"text-align: right;\">\n",
       "      <th></th>\n",
       "      <th>customer_state</th>\n",
       "      <th>seller_state</th>\n",
       "      <th>price</th>\n",
       "      <th>freight_value</th>\n",
       "      <th>review_score</th>\n",
       "      <th>order_duration</th>\n",
       "      <th>type_review</th>\n",
       "    </tr>\n",
       "  </thead>\n",
       "  <tbody>\n",
       "    <tr>\n",
       "      <th>0</th>\n",
       "      <td>SP</td>\n",
       "      <td>SP</td>\n",
       "      <td>230.00</td>\n",
       "      <td>22.25</td>\n",
       "      <td>good</td>\n",
       "      <td>11.0</td>\n",
       "      <td>pos</td>\n",
       "    </tr>\n",
       "    <tr>\n",
       "      <th>1</th>\n",
       "      <td>SP</td>\n",
       "      <td>SP</td>\n",
       "      <td>129.90</td>\n",
       "      <td>23.62</td>\n",
       "      <td>bad</td>\n",
       "      <td>9.0</td>\n",
       "      <td>neu</td>\n",
       "    </tr>\n",
       "    <tr>\n",
       "      <th>2</th>\n",
       "      <td>SP</td>\n",
       "      <td>SP</td>\n",
       "      <td>42.00</td>\n",
       "      <td>9.60</td>\n",
       "      <td>good</td>\n",
       "      <td>11.0</td>\n",
       "      <td>neu</td>\n",
       "    </tr>\n",
       "    <tr>\n",
       "      <th>3</th>\n",
       "      <td>SP</td>\n",
       "      <td>SP</td>\n",
       "      <td>146.99</td>\n",
       "      <td>13.58</td>\n",
       "      <td>bad</td>\n",
       "      <td>8.0</td>\n",
       "      <td>neu</td>\n",
       "    </tr>\n",
       "    <tr>\n",
       "      <th>4</th>\n",
       "      <td>SP</td>\n",
       "      <td>SP</td>\n",
       "      <td>19.50</td>\n",
       "      <td>7.40</td>\n",
       "      <td>good</td>\n",
       "      <td>12.0</td>\n",
       "      <td>neu</td>\n",
       "    </tr>\n",
       "  </tbody>\n",
       "</table>\n",
       "</div>"
      ],
      "text/plain": [
       "  customer_state seller_state   price  freight_value review_score  \\\n",
       "0             SP           SP  230.00          22.25         good   \n",
       "1             SP           SP  129.90          23.62          bad   \n",
       "2             SP           SP   42.00           9.60         good   \n",
       "3             SP           SP  146.99          13.58          bad   \n",
       "4             SP           SP   19.50           7.40         good   \n",
       "\n",
       "   order_duration type_review  \n",
       "0            11.0         pos  \n",
       "1             9.0         neu  \n",
       "2            11.0         neu  \n",
       "3             8.0         neu  \n",
       "4            12.0         neu  "
      ]
     },
     "execution_count": 372,
     "metadata": {},
     "output_type": "execute_result"
    }
   ],
   "source": [
    "rating_final.head()"
   ]
  },
  {
   "cell_type": "code",
   "execution_count": 373,
   "metadata": {},
   "outputs": [],
   "source": [
    "df=rating_final"
   ]
  },
  {
   "cell_type": "markdown",
   "metadata": {},
   "source": [
    "# SLC model\n"
   ]
  },
  {
   "cell_type": "code",
   "execution_count": 320,
   "metadata": {},
   "outputs": [
    {
     "name": "stdout",
     "output_type": "stream",
     "text": [
      "<class 'pandas.core.frame.DataFrame'>\n",
      "Int64Index: 28654 entries, 0 to 28653\n",
      "Data columns (total 7 columns):\n",
      " #   Column          Non-Null Count  Dtype  \n",
      "---  ------          --------------  -----  \n",
      " 0   customer_state  28654 non-null  object \n",
      " 1   seller_state    28654 non-null  object \n",
      " 2   price           28654 non-null  float64\n",
      " 3   freight_value   28654 non-null  float64\n",
      " 4   review_score    28654 non-null  object \n",
      " 5   order_duration  28652 non-null  float64\n",
      " 6   type_review     28654 non-null  object \n",
      "dtypes: float64(3), object(4)\n",
      "memory usage: 1.7+ MB\n"
     ]
    }
   ],
   "source": [
    "rating_final.info()"
   ]
  },
  {
   "cell_type": "code",
   "execution_count": 321,
   "metadata": {},
   "outputs": [
    {
     "data": {
      "text/plain": [
       "Index(['customer_state', 'seller_state', 'review_score', 'type_review'], dtype='object')"
      ]
     },
     "execution_count": 321,
     "metadata": {},
     "output_type": "execute_result"
    }
   ],
   "source": [
    "cat=rating_final.select_dtypes(include='object')\n",
    "cat.columns"
   ]
  },
  {
   "cell_type": "code",
   "execution_count": 322,
   "metadata": {},
   "outputs": [
    {
     "data": {
      "text/plain": [
       "Index(['price', 'freight_value', 'order_duration'], dtype='object')"
      ]
     },
     "execution_count": 322,
     "metadata": {},
     "output_type": "execute_result"
    }
   ],
   "source": [
    "num=rating_final.select_dtypes(exclude='object')\n",
    "num.columns"
   ]
  },
  {
   "cell_type": "code",
   "execution_count": 323,
   "metadata": {},
   "outputs": [
    {
     "data": {
      "text/html": [
       "<div>\n",
       "<style scoped>\n",
       "    .dataframe tbody tr th:only-of-type {\n",
       "        vertical-align: middle;\n",
       "    }\n",
       "\n",
       "    .dataframe tbody tr th {\n",
       "        vertical-align: top;\n",
       "    }\n",
       "\n",
       "    .dataframe thead th {\n",
       "        text-align: right;\n",
       "    }\n",
       "</style>\n",
       "<table border=\"1\" class=\"dataframe\">\n",
       "  <thead>\n",
       "    <tr style=\"text-align: right;\">\n",
       "      <th></th>\n",
       "      <th>Total</th>\n",
       "      <th>Percentage of Missing Values</th>\n",
       "    </tr>\n",
       "  </thead>\n",
       "  <tbody>\n",
       "    <tr>\n",
       "      <th>order_duration</th>\n",
       "      <td>2</td>\n",
       "      <td>0.00698</td>\n",
       "    </tr>\n",
       "    <tr>\n",
       "      <th>type_review</th>\n",
       "      <td>0</td>\n",
       "      <td>0.00000</td>\n",
       "    </tr>\n",
       "    <tr>\n",
       "      <th>review_score</th>\n",
       "      <td>0</td>\n",
       "      <td>0.00000</td>\n",
       "    </tr>\n",
       "    <tr>\n",
       "      <th>freight_value</th>\n",
       "      <td>0</td>\n",
       "      <td>0.00000</td>\n",
       "    </tr>\n",
       "    <tr>\n",
       "      <th>price</th>\n",
       "      <td>0</td>\n",
       "      <td>0.00000</td>\n",
       "    </tr>\n",
       "    <tr>\n",
       "      <th>seller_state</th>\n",
       "      <td>0</td>\n",
       "      <td>0.00000</td>\n",
       "    </tr>\n",
       "    <tr>\n",
       "      <th>customer_state</th>\n",
       "      <td>0</td>\n",
       "      <td>0.00000</td>\n",
       "    </tr>\n",
       "  </tbody>\n",
       "</table>\n",
       "</div>"
      ],
      "text/plain": [
       "                Total  Percentage of Missing Values\n",
       "order_duration      2                       0.00698\n",
       "type_review         0                       0.00000\n",
       "review_score        0                       0.00000\n",
       "freight_value       0                       0.00000\n",
       "price               0                       0.00000\n",
       "seller_state        0                       0.00000\n",
       "customer_state      0                       0.00000"
      ]
     },
     "execution_count": 323,
     "metadata": {},
     "output_type": "execute_result"
    }
   ],
   "source": [
    "Total = rating_final.isnull().sum().sort_values(ascending=False) \n",
    "Percent = (rating_final.isnull().sum()*100/rating_final.isnull().count()).sort_values(ascending=False) \n",
    "missing_data = pd.concat([Total, Percent], axis = 1, keys = ['Total', 'Percentage of Missing Values'])\n",
    "missing_data"
   ]
  },
  {
   "cell_type": "code",
   "execution_count": 324,
   "metadata": {},
   "outputs": [],
   "source": [
    "rating_final['order_duration']=rating_final['order_duration'].fillna(10)"
   ]
  },
  {
   "cell_type": "code",
   "execution_count": 325,
   "metadata": {},
   "outputs": [
    {
     "data": {
      "text/html": [
       "<div>\n",
       "<style scoped>\n",
       "    .dataframe tbody tr th:only-of-type {\n",
       "        vertical-align: middle;\n",
       "    }\n",
       "\n",
       "    .dataframe tbody tr th {\n",
       "        vertical-align: top;\n",
       "    }\n",
       "\n",
       "    .dataframe thead th {\n",
       "        text-align: right;\n",
       "    }\n",
       "</style>\n",
       "<table border=\"1\" class=\"dataframe\">\n",
       "  <thead>\n",
       "    <tr style=\"text-align: right;\">\n",
       "      <th></th>\n",
       "      <th>Total</th>\n",
       "      <th>Percentage of Missing Values</th>\n",
       "    </tr>\n",
       "  </thead>\n",
       "  <tbody>\n",
       "    <tr>\n",
       "      <th>type_review</th>\n",
       "      <td>0</td>\n",
       "      <td>0.0</td>\n",
       "    </tr>\n",
       "    <tr>\n",
       "      <th>order_duration</th>\n",
       "      <td>0</td>\n",
       "      <td>0.0</td>\n",
       "    </tr>\n",
       "    <tr>\n",
       "      <th>review_score</th>\n",
       "      <td>0</td>\n",
       "      <td>0.0</td>\n",
       "    </tr>\n",
       "    <tr>\n",
       "      <th>freight_value</th>\n",
       "      <td>0</td>\n",
       "      <td>0.0</td>\n",
       "    </tr>\n",
       "    <tr>\n",
       "      <th>price</th>\n",
       "      <td>0</td>\n",
       "      <td>0.0</td>\n",
       "    </tr>\n",
       "    <tr>\n",
       "      <th>seller_state</th>\n",
       "      <td>0</td>\n",
       "      <td>0.0</td>\n",
       "    </tr>\n",
       "    <tr>\n",
       "      <th>customer_state</th>\n",
       "      <td>0</td>\n",
       "      <td>0.0</td>\n",
       "    </tr>\n",
       "  </tbody>\n",
       "</table>\n",
       "</div>"
      ],
      "text/plain": [
       "                Total  Percentage of Missing Values\n",
       "type_review         0                           0.0\n",
       "order_duration      0                           0.0\n",
       "review_score        0                           0.0\n",
       "freight_value       0                           0.0\n",
       "price               0                           0.0\n",
       "seller_state        0                           0.0\n",
       "customer_state      0                           0.0"
      ]
     },
     "execution_count": 325,
     "metadata": {},
     "output_type": "execute_result"
    }
   ],
   "source": [
    "Total = rating_final.isnull().sum().sort_values(ascending=False) \n",
    "Percent = (rating_final.isnull().sum()*100/rating_final.isnull().count()).sort_values(ascending=False) \n",
    "missing_data = pd.concat([Total, Percent], axis = 1, keys = ['Total', 'Percentage of Missing Values'])\n",
    "missing_data"
   ]
  },
  {
   "cell_type": "code",
   "execution_count": 326,
   "metadata": {},
   "outputs": [
    {
     "data": {
      "text/html": [
       "<div>\n",
       "<style scoped>\n",
       "    .dataframe tbody tr th:only-of-type {\n",
       "        vertical-align: middle;\n",
       "    }\n",
       "\n",
       "    .dataframe tbody tr th {\n",
       "        vertical-align: top;\n",
       "    }\n",
       "\n",
       "    .dataframe thead th {\n",
       "        text-align: right;\n",
       "    }\n",
       "</style>\n",
       "<table border=\"1\" class=\"dataframe\">\n",
       "  <thead>\n",
       "    <tr style=\"text-align: right;\">\n",
       "      <th></th>\n",
       "      <th>customer_state</th>\n",
       "      <th>seller_state</th>\n",
       "      <th>price</th>\n",
       "      <th>freight_value</th>\n",
       "      <th>review_score</th>\n",
       "      <th>order_duration</th>\n",
       "      <th>type_review</th>\n",
       "    </tr>\n",
       "  </thead>\n",
       "  <tbody>\n",
       "    <tr>\n",
       "      <th>0</th>\n",
       "      <td>20</td>\n",
       "      <td>21</td>\n",
       "      <td>230.00</td>\n",
       "      <td>22.25</td>\n",
       "      <td>1</td>\n",
       "      <td>11.0</td>\n",
       "      <td>2</td>\n",
       "    </tr>\n",
       "    <tr>\n",
       "      <th>1</th>\n",
       "      <td>20</td>\n",
       "      <td>21</td>\n",
       "      <td>129.90</td>\n",
       "      <td>23.62</td>\n",
       "      <td>0</td>\n",
       "      <td>9.0</td>\n",
       "      <td>1</td>\n",
       "    </tr>\n",
       "    <tr>\n",
       "      <th>2</th>\n",
       "      <td>20</td>\n",
       "      <td>21</td>\n",
       "      <td>42.00</td>\n",
       "      <td>9.60</td>\n",
       "      <td>1</td>\n",
       "      <td>11.0</td>\n",
       "      <td>1</td>\n",
       "    </tr>\n",
       "    <tr>\n",
       "      <th>3</th>\n",
       "      <td>20</td>\n",
       "      <td>21</td>\n",
       "      <td>146.99</td>\n",
       "      <td>13.58</td>\n",
       "      <td>0</td>\n",
       "      <td>8.0</td>\n",
       "      <td>1</td>\n",
       "    </tr>\n",
       "    <tr>\n",
       "      <th>4</th>\n",
       "      <td>20</td>\n",
       "      <td>21</td>\n",
       "      <td>19.50</td>\n",
       "      <td>7.40</td>\n",
       "      <td>1</td>\n",
       "      <td>12.0</td>\n",
       "      <td>1</td>\n",
       "    </tr>\n",
       "  </tbody>\n",
       "</table>\n",
       "</div>"
      ],
      "text/plain": [
       "   customer_state  seller_state   price  freight_value  review_score  \\\n",
       "0              20            21  230.00          22.25             1   \n",
       "1              20            21  129.90          23.62             0   \n",
       "2              20            21   42.00           9.60             1   \n",
       "3              20            21  146.99          13.58             0   \n",
       "4              20            21   19.50           7.40             1   \n",
       "\n",
       "   order_duration  type_review  \n",
       "0            11.0            2  \n",
       "1             9.0            1  \n",
       "2            11.0            1  \n",
       "3             8.0            1  \n",
       "4            12.0            1  "
      ]
     },
     "execution_count": 326,
     "metadata": {},
     "output_type": "execute_result"
    }
   ],
   "source": [
    "from sklearn.preprocessing import LabelEncoder                           \n",
    "class_label_encoder = LabelEncoder()\n",
    "for i in cat.columns:\n",
    "    rating_final[i]=class_label_encoder.fit_transform(rating_final[i])\n",
    "rating_final.head()"
   ]
  },
  {
   "cell_type": "code",
   "execution_count": 327,
   "metadata": {},
   "outputs": [],
   "source": [
    "from sklearn.model_selection import train_test_split\n",
    "X = rating_final.drop('review_score',axis=1)\n",
    "y = rating_final['review_score']\n",
    "X_train, X_test, y_train, y_test = train_test_split(X, y, test_size=.3, \n",
    "                                                    stratify=y, \n",
    "                                                    random_state=30)"
   ]
  },
  {
   "cell_type": "code",
   "execution_count": 328,
   "metadata": {},
   "outputs": [],
   "source": [
    "from sklearn.preprocessing import PowerTransformer\n",
    "pt=PowerTransformer()\n",
    "pt.fit(X_train)\n",
    "train_scaled = pt.transform(X_train)\n",
    "test_scaled = pt.transform(X_test)"
   ]
  },
  {
   "cell_type": "code",
   "execution_count": 329,
   "metadata": {},
   "outputs": [
    {
     "name": "stdout",
     "output_type": "stream",
     "text": [
      "Training Accuracy\n",
      "0.9876850974722042\n",
      "Testing Accuracy\n",
      "0.6860532743980459\n"
     ]
    }
   ],
   "source": [
    "import numpy as np\n",
    "model = DecisionTreeClassifier()\n",
    "from sklearn.model_selection import cross_val_score\n",
    "model.fit(train_scaled,y_train)\n",
    "\n",
    "print(\"Training Accuracy\")\n",
    "print(model.score(train_scaled,y_train))\n",
    "print(\"Testing Accuracy\")\n",
    "print(model.score(test_scaled,y_test))"
   ]
  },
  {
   "cell_type": "code",
   "execution_count": 330,
   "metadata": {
    "scrolled": true
   },
   "outputs": [
    {
     "data": {
      "text/plain": [
       "array([1, 1, 1, ..., 1, 2, 1])"
      ]
     },
     "execution_count": 330,
     "metadata": {},
     "output_type": "execute_result"
    }
   ],
   "source": [
    "model.predict(test_scaled)"
   ]
  },
  {
   "cell_type": "code",
   "execution_count": 331,
   "metadata": {},
   "outputs": [
    {
     "name": "stdout",
     "output_type": "stream",
     "text": [
      "0.6736301320477469\n"
     ]
    }
   ],
   "source": [
    "\n",
    "#overall accuracy\n",
    "scoresdt = cross_val_score(model, train_scaled, y_train, cv=10, scoring='accuracy')\n",
    "print(np.mean(scoresdt))\n",
    "\n"
   ]
  },
  {
   "cell_type": "code",
   "execution_count": 332,
   "metadata": {},
   "outputs": [
    {
     "name": "stdout",
     "output_type": "stream",
     "text": [
      "[[ 359  655  111]\n",
      " [ 775 5451  539]\n",
      " [  97  522   88]]\n",
      "              precision    recall  f1-score   support\n",
      "\n",
      "           0       0.29      0.32      0.30      1125\n",
      "           1       0.82      0.81      0.81      6765\n",
      "           2       0.12      0.12      0.12       707\n",
      "\n",
      "    accuracy                           0.69      8597\n",
      "   macro avg       0.41      0.42      0.41      8597\n",
      "weighted avg       0.70      0.69      0.69      8597\n",
      "\n"
     ]
    }
   ],
   "source": [
    "from sklearn.metrics import confusion_matrix,classification_report,precision_score,recall_score,f1_score\n",
    "predicted = model.predict(test_scaled)\n",
    "print(confusion_matrix(y_test,predicted))\n",
    "print(classification_report(y_test,predicted))\n",
    "\n"
   ]
  },
  {
   "cell_type": "code",
   "execution_count": 333,
   "metadata": {},
   "outputs": [
    {
     "data": {
      "text/plain": [
       "array([0.01015805, 0.00888441, 0.05143933, 0.14853604, 0.68813515,\n",
       "       0.09284701])"
      ]
     },
     "execution_count": 333,
     "metadata": {},
     "output_type": "execute_result"
    }
   ],
   "source": [
    "from sklearn.ensemble import GradientBoostingClassifier\n",
    "dt = GradientBoostingClassifier()\n",
    "dt.fit(X,y)\n",
    "dt.feature_importances_"
   ]
  },
  {
   "cell_type": "code",
   "execution_count": 334,
   "metadata": {},
   "outputs": [
    {
     "data": {
      "text/html": [
       "<div>\n",
       "<style scoped>\n",
       "    .dataframe tbody tr th:only-of-type {\n",
       "        vertical-align: middle;\n",
       "    }\n",
       "\n",
       "    .dataframe tbody tr th {\n",
       "        vertical-align: top;\n",
       "    }\n",
       "\n",
       "    .dataframe thead th {\n",
       "        text-align: right;\n",
       "    }\n",
       "</style>\n",
       "<table border=\"1\" class=\"dataframe\">\n",
       "  <thead>\n",
       "    <tr style=\"text-align: right;\">\n",
       "      <th></th>\n",
       "      <th>Features</th>\n",
       "      <th>Importance</th>\n",
       "    </tr>\n",
       "  </thead>\n",
       "  <tbody>\n",
       "    <tr>\n",
       "      <th>4</th>\n",
       "      <td>order_duration</td>\n",
       "      <td>0.688135</td>\n",
       "    </tr>\n",
       "    <tr>\n",
       "      <th>3</th>\n",
       "      <td>freight_value</td>\n",
       "      <td>0.148536</td>\n",
       "    </tr>\n",
       "    <tr>\n",
       "      <th>5</th>\n",
       "      <td>type_review</td>\n",
       "      <td>0.092847</td>\n",
       "    </tr>\n",
       "    <tr>\n",
       "      <th>2</th>\n",
       "      <td>price</td>\n",
       "      <td>0.051439</td>\n",
       "    </tr>\n",
       "    <tr>\n",
       "      <th>0</th>\n",
       "      <td>customer_state</td>\n",
       "      <td>0.010158</td>\n",
       "    </tr>\n",
       "    <tr>\n",
       "      <th>1</th>\n",
       "      <td>seller_state</td>\n",
       "      <td>0.008884</td>\n",
       "    </tr>\n",
       "  </tbody>\n",
       "</table>\n",
       "</div>"
      ],
      "text/plain": [
       "         Features  Importance\n",
       "4  order_duration    0.688135\n",
       "3   freight_value    0.148536\n",
       "5     type_review    0.092847\n",
       "2           price    0.051439\n",
       "0  customer_state    0.010158\n",
       "1    seller_state    0.008884"
      ]
     },
     "execution_count": 334,
     "metadata": {},
     "output_type": "execute_result"
    }
   ],
   "source": [
    "important_features = pd.DataFrame({'Features': X_train.columns, \n",
    "                                   'Importance': dt.feature_importances_})\n",
    "\n",
    "# print the dataframe\n",
    "important_features.sort_values(by='Importance', ascending=False)"
   ]
  },
  {
   "cell_type": "markdown",
   "metadata": {},
   "source": [
    "# tuning"
   ]
  },
  {
   "cell_type": "code",
   "execution_count": 335,
   "metadata": {},
   "outputs": [
    {
     "data": {
      "text/plain": [
       "(20057,)"
      ]
     },
     "execution_count": 335,
     "metadata": {},
     "output_type": "execute_result"
    }
   ],
   "source": [
    "# tuning, with recall\n",
    "y_train.shape"
   ]
  },
  {
   "cell_type": "code",
   "execution_count": 336,
   "metadata": {},
   "outputs": [],
   "source": [
    "params={'criterion':['gini','entropy'],\n",
    "       'max_depth':np.arange(1,200,10)}\n",
    "grid=GridSearchCV(estimator=DecisionTreeClassifier(),param_grid=params,cv=5,scoring='accuracy')\n",
    "grid_model=grid.fit(train_scaled,y_train)"
   ]
  },
  {
   "cell_type": "code",
   "execution_count": 337,
   "metadata": {},
   "outputs": [
    {
     "data": {
      "text/plain": [
       "{'criterion': 'gini', 'max_depth': 1}"
      ]
     },
     "execution_count": 337,
     "metadata": {},
     "output_type": "execute_result"
    }
   ],
   "source": [
    "grid_model.best_params_"
   ]
  },
  {
   "cell_type": "code",
   "execution_count": 338,
   "metadata": {},
   "outputs": [
    {
     "name": "stdout",
     "output_type": "stream",
     "text": [
      "Training Accuracy\n",
      "0.799820511542105\n",
      "Testing Accuracy\n",
      "0.8035361172502036\n"
     ]
    }
   ],
   "source": [
    "import numpy as np\n",
    "model1 = DecisionTreeClassifier(criterion= 'gini', max_depth= 1)\n",
    "from sklearn.model_selection import cross_val_score\n",
    "model1.fit(train_scaled,y_train)\n",
    "\n",
    "print(\"Training Accuracy\")\n",
    "print(model1.score(train_scaled,y_train))\n",
    "print(\"Testing Accuracy\")\n",
    "print(model1.score(test_scaled,y_test))"
   ]
  },
  {
   "cell_type": "code",
   "execution_count": 339,
   "metadata": {},
   "outputs": [
    {
     "name": "stdout",
     "output_type": "stream",
     "text": [
      "0.6724833479611043\n"
     ]
    }
   ],
   "source": [
    "scoresdt = cross_val_score(model, train_scaled, y_train, cv=10, scoring='accuracy')\n",
    "print(np.mean(scoresdt))"
   ]
  },
  {
   "cell_type": "code",
   "execution_count": null,
   "metadata": {},
   "outputs": [],
   "source": []
  },
  {
   "cell_type": "markdown",
   "metadata": {},
   "source": [
    "# ensemble"
   ]
  },
  {
   "cell_type": "code",
   "execution_count": 340,
   "metadata": {},
   "outputs": [
    {
     "name": "stdout",
     "output_type": "stream",
     "text": [
      "Training Accuracy\n",
      "0.9876850974722042\n",
      "Testing Accuracy\n",
      "0.7853902524136327\n"
     ]
    }
   ],
   "source": [
    "model2 = RandomForestClassifier(n_estimators=100, random_state=10)\n",
    "from sklearn.model_selection import cross_val_score\n",
    "model2.fit(train_scaled,y_train)\n",
    "\n",
    "print(\"Training Accuracy\")\n",
    "print(model2.score(train_scaled,y_train))\n",
    "print(\"Testing Accuracy\")\n",
    "print(model2.score(test_scaled,y_test))"
   ]
  },
  {
   "cell_type": "code",
   "execution_count": 341,
   "metadata": {},
   "outputs": [
    {
     "name": "stdout",
     "output_type": "stream",
     "text": [
      "0.7828187010042192\n"
     ]
    }
   ],
   "source": [
    "scoresdt = cross_val_score(model2, train_scaled, y_train, cv=10, scoring='accuracy')\n",
    "print(np.mean(scoresdt))"
   ]
  },
  {
   "cell_type": "markdown",
   "metadata": {},
   "source": [
    "# Grid Search Random Forest Classifier $$$"
   ]
  },
  {
   "cell_type": "code",
   "execution_count": 342,
   "metadata": {},
   "outputs": [
    {
     "data": {
      "text/plain": [
       "GridSearchCV(cv=5, estimator=RandomForestClassifier(random_state=10),\n",
       "             param_grid=[{'criterion': ['entropy', 'gini'],\n",
       "                          'max_depth': [10, 15, 20],\n",
       "                          'n_estimators': [90, 100, 150, 200]}],\n",
       "             scoring='recall')"
      ]
     },
     "execution_count": 342,
     "metadata": {},
     "output_type": "execute_result"
    }
   ],
   "source": [
    "#Grid Search, find best parameters and use those tuned parameters to build the complete RANDOM FOREST\n",
    "tuned_paramaters = [{'criterion': ['entropy', 'gini'],\n",
    "                     'n_estimators': [90, 100, 150, 200],\n",
    "                     'max_depth': [10, 15, 20]}]\n",
    "dt = RandomForestClassifier(random_state = 10)\n",
    "tree_grid = GridSearchCV(estimator = dt, \n",
    "                         param_grid = tuned_paramaters, \n",
    "                         cv = 5,scoring='recall')\n",
    "# fit the model on X_train and y_train using fit()\n",
    "tree_grid.fit(train_scaled, y_train)"
   ]
  },
  {
   "cell_type": "code",
   "execution_count": 343,
   "metadata": {
    "scrolled": false
   },
   "outputs": [
    {
     "name": "stdout",
     "output_type": "stream",
     "text": [
      "nan\n",
      "{'criterion': 'entropy', 'max_depth': 10, 'n_estimators': 90}\n"
     ]
    }
   ],
   "source": [
    "print(tree_grid.best_score_)\n",
    "print(tree_grid.best_params_)"
   ]
  },
  {
   "cell_type": "code",
   "execution_count": 344,
   "metadata": {},
   "outputs": [
    {
     "name": "stdout",
     "output_type": "stream",
     "text": [
      "Training Accuracy\n",
      "0.8222067108740091\n",
      "Testing Accuracy\n",
      "0.8072583459346283\n"
     ]
    }
   ],
   "source": [
    "model3 = RandomForestClassifier(criterion= 'entropy',n_estimators=90, random_state=10,max_depth= 10)\n",
    "from sklearn.model_selection import cross_val_score\n",
    "model3.fit(train_scaled,y_train)\n",
    "\n",
    "print(\"Training Accuracy\")\n",
    "print(model3.score(train_scaled,y_train))\n",
    "print(\"Testing Accuracy\")\n",
    "print(model3.score(test_scaled,y_test))"
   ]
  },
  {
   "cell_type": "code",
   "execution_count": 345,
   "metadata": {},
   "outputs": [
    {
     "name": "stdout",
     "output_type": "stream",
     "text": [
      "0.8052550329062687\n"
     ]
    }
   ],
   "source": [
    "scoresdt = cross_val_score(model3, train_scaled, y_train, cv=10, scoring='accuracy')\n",
    "print(np.mean(scoresdt))"
   ]
  },
  {
   "cell_type": "markdown",
   "metadata": {},
   "source": [
    "# overall accuuracy of 80% is achieved, so the product rating can be predicted by this model well."
   ]
  },
  {
   "cell_type": "markdown",
   "metadata": {},
   "source": [
    "# 1 : good rating, 0: poor rating, 2: normal rating"
   ]
  },
  {
   "cell_type": "code",
   "execution_count": null,
   "metadata": {},
   "outputs": [],
   "source": []
  },
  {
   "cell_type": "markdown",
   "metadata": {},
   "source": [
    "# rating vs order duration"
   ]
  },
  {
   "cell_type": "code",
   "execution_count": 376,
   "metadata": {},
   "outputs": [
    {
     "data": {
      "image/png": "[encoded data removed]",
      "text/plain": [
       "<Figure size 576x2160 with 1 Axes>"
      ]
     },
     "metadata": {
      "needs_background": "light"
     },
     "output_type": "display_data"
    }
   ],
   "source": [
    "plt.figure(figsize=(8, 30))\n",
    "\n",
    "sns.boxplot(df.review_score, df.order_duration)\n",
    "\n",
    "plt.show()"
   ]
  },
  {
   "cell_type": "markdown",
   "metadata": {},
   "source": [
    "# rating vs frieght value"
   ]
  },
  {
   "cell_type": "code",
   "execution_count": 374,
   "metadata": {},
   "outputs": [
    {
     "data": {
      "image/png": "[encoded data removed]",
      "text/plain": [
       "<Figure size 576x2160 with 1 Axes>"
      ]
     },
     "metadata": {
      "needs_background": "light"
     },
     "output_type": "display_data"
    }
   ],
   "source": [
    "plt.figure(figsize=(8, 30))\n",
    "\n",
    "sns.boxplot(df.review_score, df.freight_value)\n",
    "\n",
    "plt.show()"
   ]
  },
  {
   "cell_type": "markdown",
   "metadata": {},
   "source": [
    "# rating vs type of review"
   ]
  },
  {
   "cell_type": "code",
   "execution_count": null,
   "metadata": {},
   "outputs": [],
   "source": [
    "plt.figure(figsize=(8, 30))\n",
    "\n",
    "sns.boxplot(df.review_score, df.freight_value)\n",
    "\n",
    "plt.show()"
   ]
  },
  {
   "cell_type": "code",
   "execution_count": 375,
   "metadata": {},
   "outputs": [
    {
     "data": {
      "image/png": "[encoded data removed]",
      "text/plain": [
       "<Figure size 432x288 with 1 Axes>"
      ]
     },
     "metadata": {
      "needs_background": "light"
     },
     "output_type": "display_data"
    }
   ],
   "source": [
    "sns.countplot(x='review_score', hue=\"type_review\", data=df)\n",
    "plt.show()"
   ]
  },
  {
   "cell_type": "code",
   "execution_count": null,
   "metadata": {},
   "outputs": [],
   "source": []
  },
  {
   "cell_type": "code",
   "execution_count": null,
   "metadata": {},
   "outputs": [],
   "source": []
  },
  {
   "cell_type": "code",
   "execution_count": null,
   "metadata": {},
   "outputs": [],
   "source": [
    "########################################"
   ]
  }
 ],
 "metadata": {
  "kernelspec": {
   "display_name": "Python 3",
   "language": "python",
   "name": "python3"
  },
  "language_info": {
   "codemirror_mode": {
    "name": "ipython",
    "version": 3
   },
   "file_extension": ".py",
   "mimetype": "text/x-python",
   "name": "python",
   "nbconvert_exporter": "python",
   "pygments_lexer": "ipython3",
   "version": "3.7.1"
  }
 },
 "nbformat": 4,
 "nbformat_minor": 4
}
